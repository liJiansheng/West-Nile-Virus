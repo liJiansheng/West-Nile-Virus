{
 "cells": [
  {
   "cell_type": "markdown",
   "metadata": {},
   "source": [
    "# Importing libraries and reading CSV files"
   ]
  },
  {
   "cell_type": "code",
   "execution_count": 1,
   "metadata": {},
   "outputs": [],
   "source": [
    "import pandas as pd\n",
    "import pandas_profiling as pp\n",
    "import numpy as np\n",
    "import matplotlib.pyplot as plt\n",
    "import seaborn as sns"
   ]
  },
  {
   "cell_type": "code",
   "execution_count": 2,
   "metadata": {},
   "outputs": [],
   "source": [
    "weather = pd.read_csv ('./predict-west-nile-virus/weather.csv')"
   ]
  },
  {
   "cell_type": "markdown",
   "metadata": {},
   "source": [
    "| Feature     | File  | Description                                                                                                 |\n",
    "|-------------|-------|-------------------------------------------------------------------------------------------------------------|\n",
    "| Station     | Weather | date that the WNV test is performed                                                                         |\n",
    "| Date        | Weather | approximate address of the location of trap\\. This is used to send to the GeoCoder\\.                        |\n",
    "| Tmax        | Weather | the species of mosquitos                                                                                    |\n",
    "| Tmin        | Weather | block number of address                                                                                     |\n",
    "| Tavg        | Weather | street name                                                                                                 |\n",
    "| Depart      | Weather | Id of the trap                                                                                              |\n",
    "| DewPoint    | Weather | approximate address returned from GeoCoder                                                                  |\n",
    "| WetBulb     | Weather | Latitude and Longitude returned from GeoCoder                                                               |\n",
    "| Heat        | Weather | accuracy returned from GeoCoder                                                                             |\n",
    "| Cool        | Weather | number of mosquitoes caught in this trap                                                                    |\n",
    "| Sunrise     | Weather | whether West Nile Virus was present in these mosquitos\\. 1 means WNV is present, and 0 means not present\\.  |\n",
    "| Sunset      | Weather |                                                                                                             |\n",
    "| CodeSum     | Weather |                                                                                                             |\n",
    "| Depth       | Weather |                                                                                                             |\n",
    "| Water1      | Weather |                                                                                                             |\n",
    "| SnowFall    | Weather |                                                                                                             |\n",
    "| PrecipTotal | Weather |                                                                                                             |\n",
    "| StnPressure | Weather |                                                                                                             |\n",
    "| SeaLevel    | Weather |                                                                                                             |\n",
    "| ResultSpeed | Weather |                                                                                                             |\n",
    "| ResultDir   | Weather |                                                                                                             |\n",
    "| AvgSpeed    | Weather |                                                                                                             |\n",
    "\n"
   ]
  },
  {
   "cell_type": "code",
   "execution_count": 3,
   "metadata": {},
   "outputs": [
    {
     "data": {
      "text/plain": [
       "(2944, 22)"
      ]
     },
     "execution_count": 3,
     "metadata": {},
     "output_type": "execute_result"
    }
   ],
   "source": [
    "weather.shape"
   ]
  },
  {
   "cell_type": "code",
   "execution_count": 4,
   "metadata": {},
   "outputs": [
    {
     "data": {
      "application/vnd.jupyter.widget-view+json": {
       "model_id": "a8b5d3cfc3f7489ab59587696f03f856",
       "version_major": 2,
       "version_minor": 0
      },
      "text/plain": [
       "Tab(children=(HTML(value='<div id=\"overview-content\" class=\"row variable spacing\">\\n    <div class=\"row\">\\n   …"
      ]
     },
     "metadata": {},
     "output_type": "display_data"
    },
    {
     "data": {
      "text/html": [
       "Report generated with <a href=\"https://github.com/pandas-profiling/pandas-profiling\">pandas-profiling</a>."
      ],
      "text/plain": [
       "<IPython.core.display.HTML object>"
      ]
     },
     "metadata": {},
     "output_type": "display_data"
    },
    {
     "data": {
      "text/plain": []
     },
     "execution_count": 4,
     "metadata": {},
     "output_type": "execute_result"
    }
   ],
   "source": [
    "pp.ProfileReport(weather)"
   ]
  },
  {
   "cell_type": "code",
   "execution_count": 5,
   "metadata": {},
   "outputs": [
    {
     "data": {
      "text/plain": [
       "Index(['Station', 'Date', 'Tmax', 'Tmin', 'Tavg', 'Depart', 'DewPoint',\n",
       "       'WetBulb', 'Heat', 'Cool', 'Sunrise', 'Sunset', 'CodeSum', 'Depth',\n",
       "       'Water1', 'SnowFall', 'PrecipTotal', 'StnPressure', 'SeaLevel',\n",
       "       'ResultSpeed', 'ResultDir', 'AvgSpeed'],\n",
       "      dtype='object')"
      ]
     },
     "execution_count": 5,
     "metadata": {},
     "output_type": "execute_result"
    }
   ],
   "source": [
    "weather.columns"
   ]
  },
  {
   "cell_type": "code",
   "execution_count": 6,
   "metadata": {},
   "outputs": [],
   "source": [
    "weather.columns = weather.columns.map(lambda x: x.lower())"
   ]
  },
  {
   "cell_type": "code",
   "execution_count": 7,
   "metadata": {},
   "outputs": [
    {
     "data": {
      "text/plain": [
       "Index(['station', 'date', 'tmax', 'tmin', 'tavg', 'depart', 'dewpoint',\n",
       "       'wetbulb', 'heat', 'cool', 'sunrise', 'sunset', 'codesum', 'depth',\n",
       "       'water1', 'snowfall', 'preciptotal', 'stnpressure', 'sealevel',\n",
       "       'resultspeed', 'resultdir', 'avgspeed'],\n",
       "      dtype='object')"
      ]
     },
     "execution_count": 7,
     "metadata": {},
     "output_type": "execute_result"
    }
   ],
   "source": [
    "weather.columns"
   ]
  },
  {
   "cell_type": "code",
   "execution_count": 8,
   "metadata": {},
   "outputs": [
    {
     "data": {
      "text/plain": [
       "station        0\n",
       "date           0\n",
       "tmax           0\n",
       "tmin           0\n",
       "tavg           0\n",
       "depart         0\n",
       "dewpoint       0\n",
       "wetbulb        0\n",
       "heat           0\n",
       "cool           0\n",
       "sunrise        0\n",
       "sunset         0\n",
       "codesum        0\n",
       "depth          0\n",
       "water1         0\n",
       "snowfall       0\n",
       "preciptotal    0\n",
       "stnpressure    0\n",
       "sealevel       0\n",
       "resultspeed    0\n",
       "resultdir      0\n",
       "avgspeed       0\n",
       "dtype: int64"
      ]
     },
     "execution_count": 8,
     "metadata": {},
     "output_type": "execute_result"
    }
   ],
   "source": [
    "weather.isnull().sum()"
   ]
  },
  {
   "cell_type": "code",
   "execution_count": 9,
   "metadata": {},
   "outputs": [
    {
     "name": "stdout",
     "output_type": "stream",
     "text": [
      "<class 'pandas.core.frame.DataFrame'>\n",
      "RangeIndex: 2944 entries, 0 to 2943\n",
      "Data columns (total 22 columns):\n",
      "station        2944 non-null int64\n",
      "date           2944 non-null object\n",
      "tmax           2944 non-null int64\n",
      "tmin           2944 non-null int64\n",
      "tavg           2944 non-null object\n",
      "depart         2944 non-null object\n",
      "dewpoint       2944 non-null int64\n",
      "wetbulb        2944 non-null object\n",
      "heat           2944 non-null object\n",
      "cool           2944 non-null object\n",
      "sunrise        2944 non-null object\n",
      "sunset         2944 non-null object\n",
      "codesum        2944 non-null object\n",
      "depth          2944 non-null object\n",
      "water1         2944 non-null object\n",
      "snowfall       2944 non-null object\n",
      "preciptotal    2944 non-null object\n",
      "stnpressure    2944 non-null object\n",
      "sealevel       2944 non-null object\n",
      "resultspeed    2944 non-null float64\n",
      "resultdir      2944 non-null int64\n",
      "avgspeed       2944 non-null object\n",
      "dtypes: float64(1), int64(5), object(16)\n",
      "memory usage: 506.1+ KB\n"
     ]
    }
   ],
   "source": [
    "weather.info()"
   ]
  },
  {
   "cell_type": "markdown",
   "metadata": {},
   "source": [
    "Non-object features are: `Station`, `Tmax`, `Tmin`, `Dewpoint`, `ResultSpeed`, and `ResultDir`.\n",
    "`.isnull()` should be enough to filter out null items"
   ]
  },
  {
   "cell_type": "markdown",
   "metadata": {},
   "source": [
    "Need to check more in-depth for other object features"
   ]
  },
  {
   "cell_type": "markdown",
   "metadata": {},
   "source": [
    "### Station"
   ]
  },
  {
   "cell_type": "code",
   "execution_count": 10,
   "metadata": {},
   "outputs": [
    {
     "data": {
      "text/plain": [
       "1    1472\n",
       "2    1472\n",
       "Name: station, dtype: int64"
      ]
     },
     "execution_count": 10,
     "metadata": {},
     "output_type": "execute_result"
    }
   ],
   "source": [
    "weather.station.value_counts()"
   ]
  },
  {
   "cell_type": "markdown",
   "metadata": {},
   "source": [
    "### Date"
   ]
  },
  {
   "cell_type": "code",
   "execution_count": 11,
   "metadata": {},
   "outputs": [
    {
     "data": {
      "text/plain": [
       "2944"
      ]
     },
     "execution_count": 11,
     "metadata": {},
     "output_type": "execute_result"
    }
   ],
   "source": [
    "weather.date.value_counts().sum()"
   ]
  },
  {
   "cell_type": "code",
   "execution_count": 12,
   "metadata": {},
   "outputs": [
    {
     "data": {
      "text/plain": [
       "count           2944\n",
       "unique          1472\n",
       "top       2009-07-01\n",
       "freq               2\n",
       "Name: date, dtype: object"
      ]
     },
     "execution_count": 12,
     "metadata": {},
     "output_type": "execute_result"
    }
   ],
   "source": [
    "weather.date.describe()"
   ]
  },
  {
   "cell_type": "code",
   "execution_count": 13,
   "metadata": {},
   "outputs": [
    {
     "data": {
      "text/plain": [
       "0       2007-05-01\n",
       "1       2007-05-01\n",
       "2       2007-05-02\n",
       "3       2007-05-02\n",
       "4       2007-05-03\n",
       "           ...    \n",
       "2939    2014-10-29\n",
       "2940    2014-10-30\n",
       "2941    2014-10-30\n",
       "2942    2014-10-31\n",
       "2943    2014-10-31\n",
       "Name: date, Length: 2944, dtype: object"
      ]
     },
     "execution_count": 13,
     "metadata": {},
     "output_type": "execute_result"
    }
   ],
   "source": [
    "weather['date']"
   ]
  },
  {
   "cell_type": "code",
   "execution_count": 14,
   "metadata": {},
   "outputs": [
    {
     "data": {
      "text/plain": [
       "0       [2007, 05, 01]\n",
       "1       [2007, 05, 01]\n",
       "2       [2007, 05, 02]\n",
       "3       [2007, 05, 02]\n",
       "4       [2007, 05, 03]\n",
       "             ...      \n",
       "2939    [2014, 10, 29]\n",
       "2940    [2014, 10, 30]\n",
       "2941    [2014, 10, 30]\n",
       "2942    [2014, 10, 31]\n",
       "2943    [2014, 10, 31]\n",
       "Name: date, Length: 2944, dtype: object"
      ]
     },
     "execution_count": 14,
     "metadata": {},
     "output_type": "execute_result"
    }
   ],
   "source": [
    "weather['date'] = weather['date'].str.split('-')\n",
    "weather['date']"
   ]
  },
  {
   "cell_type": "code",
   "execution_count": 15,
   "metadata": {},
   "outputs": [
    {
     "data": {
      "text/plain": [
       "0       2007\n",
       "1       2007\n",
       "2       2007\n",
       "3       2007\n",
       "4       2007\n",
       "        ... \n",
       "2939    2014\n",
       "2940    2014\n",
       "2941    2014\n",
       "2942    2014\n",
       "2943    2014\n",
       "Name: year, Length: 2944, dtype: object"
      ]
     },
     "execution_count": 15,
     "metadata": {},
     "output_type": "execute_result"
    }
   ],
   "source": [
    "weather['year'] = [y[0] for y in weather['date']]\n",
    "weather['year']"
   ]
  },
  {
   "cell_type": "code",
   "execution_count": 16,
   "metadata": {},
   "outputs": [
    {
     "data": {
      "text/plain": [
       "0       05\n",
       "1       05\n",
       "2       05\n",
       "3       05\n",
       "4       05\n",
       "        ..\n",
       "2939    10\n",
       "2940    10\n",
       "2941    10\n",
       "2942    10\n",
       "2943    10\n",
       "Name: month, Length: 2944, dtype: object"
      ]
     },
     "execution_count": 16,
     "metadata": {},
     "output_type": "execute_result"
    }
   ],
   "source": [
    "weather['month'] = [y[1] for y in weather['date']]\n",
    "weather['month']"
   ]
  },
  {
   "cell_type": "code",
   "execution_count": 17,
   "metadata": {},
   "outputs": [
    {
     "data": {
      "text/plain": [
       "0       01\n",
       "1       01\n",
       "2       02\n",
       "3       02\n",
       "4       03\n",
       "        ..\n",
       "2939    29\n",
       "2940    30\n",
       "2941    30\n",
       "2942    31\n",
       "2943    31\n",
       "Name: day, Length: 2944, dtype: object"
      ]
     },
     "execution_count": 17,
     "metadata": {},
     "output_type": "execute_result"
    }
   ],
   "source": [
    "weather['day'] = [y[2] for y in weather['date']]\n",
    "weather['day']"
   ]
  },
  {
   "cell_type": "markdown",
   "metadata": {},
   "source": [
    "### Tmax"
   ]
  },
  {
   "cell_type": "code",
   "execution_count": 18,
   "metadata": {},
   "outputs": [
    {
     "data": {
      "text/plain": [
       "array([ 83,  84,  59,  60,  66,  67,  78,  68,  82,  80,  77,  76,  70,\n",
       "        73,  64,  65,  69,  90,  62,  61,  71,  79,  87,  89,  88,  75,\n",
       "        85,  86,  81,  72,  63,  91,  92,  93,  74,  94,  54,  53,  56,\n",
       "        57,  58,  55,  50,  95,  52,  47,  45,  51,  48,  44,  49,  46,\n",
       "        96,  99, 100, 101,  97,  98, 102, 103, 104,  42,  41])"
      ]
     },
     "execution_count": 18,
     "metadata": {},
     "output_type": "execute_result"
    }
   ],
   "source": [
    "weather.tmax.unique()"
   ]
  },
  {
   "cell_type": "markdown",
   "metadata": {},
   "source": [
    "### Tmin"
   ]
  },
  {
   "cell_type": "code",
   "execution_count": 19,
   "metadata": {},
   "outputs": [
    {
     "data": {
      "text/plain": [
       "array([50, 52, 42, 43, 46, 48, 49, 51, 53, 54, 47, 60, 61, 63, 56, 59, 44,\n",
       "       57, 45, 55, 66, 65, 70, 68, 62, 67, 64, 58, 71, 69, 73, 75, 72, 74,\n",
       "       39, 41, 40, 37, 34, 38, 35, 36, 33, 31, 32, 76, 77, 29, 78, 79, 80,\n",
       "       81, 82, 83])"
      ]
     },
     "execution_count": 19,
     "metadata": {},
     "output_type": "execute_result"
    }
   ],
   "source": [
    "weather.tmin.unique()"
   ]
  },
  {
   "cell_type": "markdown",
   "metadata": {},
   "source": [
    "### Tavg"
   ]
  },
  {
   "cell_type": "code",
   "execution_count": 20,
   "metadata": {},
   "outputs": [
    {
     "data": {
      "text/plain": [
       "array(['67', '68', '51', '52', '56', '58', 'M', '60', '59', '65', '70',\n",
       "       '69', '71', '61', '55', '57', '73', '72', '53', '62', '63', '74',\n",
       "       '75', '78', '76', '77', '66', '80', '64', '81', '82', '79', '85',\n",
       "       '84', '83', '50', '49', '46', '48', '45', '54', '47', '44', '40',\n",
       "       '41', '38', '39', '42', '37', '43', '86', '87', '89', '92', '88',\n",
       "       '91', '93', '94', '90', '36'], dtype=object)"
      ]
     },
     "execution_count": 20,
     "metadata": {},
     "output_type": "execute_result"
    }
   ],
   "source": [
    "weather.tavg.unique()"
   ]
  },
  {
   "cell_type": "markdown",
   "metadata": {},
   "source": [
    "'M' is represented by missing data, hence dropping rows with 'M'"
   ]
  },
  {
   "cell_type": "code",
   "execution_count": 21,
   "metadata": {},
   "outputs": [
    {
     "data": {
      "text/plain": [
       "11"
      ]
     },
     "execution_count": 21,
     "metadata": {},
     "output_type": "execute_result"
    }
   ],
   "source": [
    "tavg_missing = weather['tavg'].map(lambda x: x == 'M')\n",
    "tavg_missing.sum()"
   ]
  },
  {
   "cell_type": "code",
   "execution_count": 22,
   "metadata": {},
   "outputs": [],
   "source": [
    "weather = weather[~tavg_missing]"
   ]
  },
  {
   "cell_type": "code",
   "execution_count": 23,
   "metadata": {},
   "outputs": [],
   "source": [
    "weather['tavg'] = weather['tavg'].astype(float)"
   ]
  },
  {
   "cell_type": "markdown",
   "metadata": {},
   "source": [
    "### Depart"
   ]
  },
  {
   "cell_type": "code",
   "execution_count": null,
   "metadata": {},
   "outputs": [],
   "source": []
  },
  {
   "cell_type": "markdown",
   "metadata": {},
   "source": [
    "### DewPoint"
   ]
  },
  {
   "cell_type": "code",
   "execution_count": 24,
   "metadata": {},
   "outputs": [
    {
     "data": {
      "text/plain": [
       "0"
      ]
     },
     "execution_count": 24,
     "metadata": {},
     "output_type": "execute_result"
    }
   ],
   "source": [
    "weather.dewpoint.isnull().sum()"
   ]
  },
  {
   "cell_type": "markdown",
   "metadata": {},
   "source": [
    "### WetBulb"
   ]
  },
  {
   "cell_type": "code",
   "execution_count": 25,
   "metadata": {},
   "outputs": [
    {
     "data": {
      "text/plain": [
       "4"
      ]
     },
     "execution_count": 25,
     "metadata": {},
     "output_type": "execute_result"
    }
   ],
   "source": [
    "wetbulb_missing = weather['wetbulb'].map(lambda x: x == 'M')\n",
    "wetbulb_missing.sum()"
   ]
  },
  {
   "cell_type": "code",
   "execution_count": 26,
   "metadata": {},
   "outputs": [],
   "source": [
    "weather = weather[~wetbulb_missing]"
   ]
  },
  {
   "cell_type": "code",
   "execution_count": 27,
   "metadata": {},
   "outputs": [],
   "source": [
    "weather['wetbulb'] = weather['wetbulb'].astype(float)"
   ]
  },
  {
   "cell_type": "markdown",
   "metadata": {},
   "source": [
    "### Heat"
   ]
  },
  {
   "cell_type": "code",
   "execution_count": 28,
   "metadata": {},
   "outputs": [
    {
     "data": {
      "text/plain": [
       "0"
      ]
     },
     "execution_count": 28,
     "metadata": {},
     "output_type": "execute_result"
    }
   ],
   "source": [
    "heat_missing = weather['heat'].map(lambda x: x == 'M')\n",
    "heat_missing.sum()"
   ]
  },
  {
   "cell_type": "code",
   "execution_count": 29,
   "metadata": {},
   "outputs": [],
   "source": [
    "weather['heat'] = weather['heat'].astype(float)"
   ]
  },
  {
   "cell_type": "markdown",
   "metadata": {},
   "source": [
    "### Cool"
   ]
  },
  {
   "cell_type": "code",
   "execution_count": 30,
   "metadata": {},
   "outputs": [
    {
     "data": {
      "text/plain": [
       "0"
      ]
     },
     "execution_count": 30,
     "metadata": {},
     "output_type": "execute_result"
    }
   ],
   "source": [
    "cool_missing = weather['cool'].map(lambda x: x == 'M')\n",
    "cool_missing.sum()"
   ]
  },
  {
   "cell_type": "code",
   "execution_count": 31,
   "metadata": {},
   "outputs": [],
   "source": [
    "weather['cool'] = weather['cool'].astype(float)"
   ]
  },
  {
   "cell_type": "markdown",
   "metadata": {},
   "source": [
    "### Sunrise"
   ]
  },
  {
   "cell_type": "code",
   "execution_count": 32,
   "metadata": {},
   "outputs": [
    {
     "data": {
      "text/plain": [
       "0"
      ]
     },
     "execution_count": 32,
     "metadata": {},
     "output_type": "execute_result"
    }
   ],
   "source": [
    "sunrise_missing = weather['sunrise'].map(lambda x: x == 'M')\n",
    "sunrise_missing.sum()"
   ]
  },
  {
   "cell_type": "code",
   "execution_count": 33,
   "metadata": {},
   "outputs": [
    {
     "data": {
      "text/plain": [
       "-       1460\n",
       "0416     104\n",
       "0417      64\n",
       "0419      40\n",
       "0425      32\n",
       "Name: sunrise, dtype: int64"
      ]
     },
     "execution_count": 33,
     "metadata": {},
     "output_type": "execute_result"
    }
   ],
   "source": [
    "weather['sunrise'].value_counts().head()"
   ]
  },
  {
   "cell_type": "markdown",
   "metadata": {},
   "source": [
    "### Sunset"
   ]
  },
  {
   "cell_type": "code",
   "execution_count": 34,
   "metadata": {},
   "outputs": [
    {
     "data": {
      "text/plain": [
       "0"
      ]
     },
     "execution_count": 34,
     "metadata": {},
     "output_type": "execute_result"
    }
   ],
   "source": [
    "sunset_missing = weather['sunset'].map(lambda x: x == 'M')\n",
    "sunset_missing.sum()"
   ]
  },
  {
   "cell_type": "code",
   "execution_count": 35,
   "metadata": {},
   "outputs": [
    {
     "data": {
      "text/plain": [
       "-       1460\n",
       "1931      95\n",
       "1930      56\n",
       "1929      48\n",
       "1923      32\n",
       "Name: sunset, dtype: int64"
      ]
     },
     "execution_count": 35,
     "metadata": {},
     "output_type": "execute_result"
    }
   ],
   "source": [
    "weather['sunset'].value_counts().head()"
   ]
  },
  {
   "cell_type": "markdown",
   "metadata": {},
   "source": [
    "### CodeSum"
   ]
  },
  {
   "cell_type": "code",
   "execution_count": 36,
   "metadata": {},
   "outputs": [
    {
     "data": {
      "text/plain": [
       "0"
      ]
     },
     "execution_count": 36,
     "metadata": {},
     "output_type": "execute_result"
    }
   ],
   "source": [
    "codesum_missing = weather['codesum'].map(lambda x: x == 'M')\n",
    "codesum_missing.sum()"
   ]
  },
  {
   "cell_type": "code",
   "execution_count": 37,
   "metadata": {},
   "outputs": [
    {
     "data": {
      "text/plain": [
       "array([' ', 'BR', 'BR HZ', 'HZ', 'RA', 'RA BR', 'TSRA RA BR', 'RA VCTS',\n",
       "       'TSRA RA', 'RA HZ', 'TSRA RA BR HZ', 'TSRA BR HZ', 'RA BR HZ VCTS',\n",
       "       'TSRA RA HZ', 'TSRA BR HZ VCTS', 'TSRA', 'TSRA BR HZ FU',\n",
       "       'TSRA RA HZ FU', 'BR HZ FU', 'TSRA RA VCTS', 'HZ VCTS', 'TSRA HZ',\n",
       "       'VCTS', 'RA BR VCTS', 'TSRA RA BR VCTS', 'TS TSRA RA BR HZ VCTS',\n",
       "       'DZ BR', 'TS TSRA RA BR HZ', 'TS TSRA BR HZ', 'RA BR HZ',\n",
       "       'TSRA RA DZ BR HZ', 'TS TSRA RA BR', 'TS RA BR', 'TS TSRA RA',\n",
       "       'TS TSRA RA BR VCTS', 'TS TSRA BR', 'TS RA', 'RA BCFG BR',\n",
       "       'TSRA BR', 'RA DZ FG+ BCFG BR', 'RA FG+ MIFG BR', 'RA DZ',\n",
       "       'RA DZ BR', 'TS TSRA RA HZ', 'TSRA RA FG+ FG BR',\n",
       "       'TSRA DZ FG+ FG BR HZ', 'TS BR', 'RA BR SQ', 'TS TSRA',\n",
       "       'TSRA RA BR HZ VCTS', 'BR VCTS', 'TS', 'FG+ BR HZ', 'RA SN',\n",
       "       'TSRA RA DZ BR', 'DZ BR HZ', 'RA BR FU', 'TS BR HZ', 'DZ',\n",
       "       'FG+ BR', 'FG+ FG BR', 'FG+ MIFG BR', 'TSRA RA FG BR',\n",
       "       'TSRA FG+ BR', 'RA DZ BR HZ', 'RA DZ SN', 'FG+ FG BR HZ',\n",
       "       'TS TSRA RA FG BR', 'BR HZ VCFG', 'TS RA FG+ FG BR',\n",
       "       'TSRA RA FG+ BR', 'RA DZ FG+ FG BR', 'TS TSRA RA VCTS', 'FU',\n",
       "       'TS TSRA VCFG', 'TS TSRA HZ', 'TS TSRA GR RA BR', 'RA FG BR',\n",
       "       'HZ FU', 'RA BR HZ FU', 'MIFG BCFG BR', 'FG+ BCFG BR',\n",
       "       'TSRA RA FG+ FG BR HZ', 'FG+', 'TSRA BR SQ', 'TSRA DZ BR HZ',\n",
       "       'RA BR HZ VCFG', 'RA FG+ BR', 'FG BR HZ', 'TS HZ',\n",
       "       'TS TSRA RA FG BR HZ', 'RA DZ FG+ BR', 'RA DZ FG+ BR HZ',\n",
       "       'TSRA FG+ BR HZ', 'RA BR VCFG', 'TS RA BR HZ', 'BCFG BR',\n",
       "       'RA SN BR'], dtype=object)"
      ]
     },
     "execution_count": 37,
     "metadata": {},
     "output_type": "execute_result"
    }
   ],
   "source": [
    "weather['codesum'].unique()"
   ]
  },
  {
   "cell_type": "code",
   "execution_count": 38,
   "metadata": {},
   "outputs": [],
   "source": [
    "codesums  = set(weather.codesum.str.split(' ').map(tuple))\n",
    "\n",
    "codes = set()\n",
    "for cs in codesums:\n",
    "    for code in cs:\n",
    "        codes.add(code)\n",
    "codes.discard('')\n",
    "codes = list(codes)"
   ]
  },
  {
   "cell_type": "code",
   "execution_count": 39,
   "metadata": {},
   "outputs": [],
   "source": [
    "def build_df_codesum(row, codes):\n",
    "    cs = set(row['codesum'].split())\n",
    "    code_out = [int(code in cs) for code in codes]\n",
    "    code_out = pd.Series(data=code_out, index=codes)\n",
    "    return code_out\n",
    "\n",
    "weather[codes] = weather.apply(lambda row:build_df_codesum(row, codes), 1)"
   ]
  },
  {
   "cell_type": "code",
   "execution_count": 40,
   "metadata": {},
   "outputs": [],
   "source": [
    "weather.drop('codesum', 1, inplace=True)"
   ]
  },
  {
   "cell_type": "markdown",
   "metadata": {},
   "source": [
    "### Depth"
   ]
  },
  {
   "cell_type": "code",
   "execution_count": 41,
   "metadata": {},
   "outputs": [
    {
     "data": {
      "text/plain": [
       "1460"
      ]
     },
     "execution_count": 41,
     "metadata": {},
     "output_type": "execute_result"
    }
   ],
   "source": [
    "depth_missing = weather['depth'].map(lambda x: x == 'M')\n",
    "depth_missing.sum()"
   ]
  },
  {
   "cell_type": "code",
   "execution_count": 42,
   "metadata": {},
   "outputs": [
    {
     "data": {
      "text/plain": [
       "0    1469\n",
       "M    1460\n",
       "Name: depth, dtype: int64"
      ]
     },
     "execution_count": 42,
     "metadata": {},
     "output_type": "execute_result"
    }
   ],
   "source": [
    "weather['depth'].value_counts()"
   ]
  },
  {
   "cell_type": "markdown",
   "metadata": {},
   "source": [
    "Since ~half of the `depth` datas are missing, we will be dropping this column"
   ]
  },
  {
   "cell_type": "code",
   "execution_count": 43,
   "metadata": {},
   "outputs": [],
   "source": [
    "weather.drop('depth', 1, inplace=True)"
   ]
  },
  {
   "cell_type": "markdown",
   "metadata": {},
   "source": [
    "### Water1"
   ]
  },
  {
   "cell_type": "code",
   "execution_count": 44,
   "metadata": {},
   "outputs": [
    {
     "data": {
      "text/plain": [
       "2929"
      ]
     },
     "execution_count": 44,
     "metadata": {},
     "output_type": "execute_result"
    }
   ],
   "source": [
    "water1_missing = weather['water1'].map(lambda val: val == 'M')\n",
    "water1_missing.sum()"
   ]
  },
  {
   "cell_type": "code",
   "execution_count": 45,
   "metadata": {},
   "outputs": [
    {
     "data": {
      "text/plain": [
       "M    2929\n",
       "Name: water1, dtype: int64"
      ]
     },
     "execution_count": 45,
     "metadata": {},
     "output_type": "execute_result"
    }
   ],
   "source": [
    "weather['water1'].value_counts()"
   ]
  },
  {
   "cell_type": "markdown",
   "metadata": {},
   "source": [
    "Since >half of the `water1` datas are missing, we will be dropping this column"
   ]
  },
  {
   "cell_type": "code",
   "execution_count": 46,
   "metadata": {},
   "outputs": [],
   "source": [
    "weather.drop('water1', 1, inplace=True)"
   ]
  },
  {
   "cell_type": "markdown",
   "metadata": {},
   "source": [
    "### SnowFall"
   ]
  },
  {
   "cell_type": "code",
   "execution_count": 47,
   "metadata": {},
   "outputs": [
    {
     "data": {
      "text/plain": [
       "1460"
      ]
     },
     "execution_count": 47,
     "metadata": {},
     "output_type": "execute_result"
    }
   ],
   "source": [
    "snowFall_missing = weather['snowfall'].map(lambda x: x == 'M')\n",
    "snowFall_missing.sum()"
   ]
  },
  {
   "cell_type": "code",
   "execution_count": 48,
   "metadata": {},
   "outputs": [
    {
     "data": {
      "text/plain": [
       "M      1460\n",
       "0.0    1456\n",
       "  T      12\n",
       "0.1       1\n",
       "Name: snowfall, dtype: int64"
      ]
     },
     "execution_count": 48,
     "metadata": {},
     "output_type": "execute_result"
    }
   ],
   "source": [
    "weather['snowfall'].value_counts()"
   ]
  },
  {
   "cell_type": "markdown",
   "metadata": {},
   "source": [
    "Doesnt make sense to keep this column with only 13 useful values. hence, drop `snowfall` feature"
   ]
  },
  {
   "cell_type": "code",
   "execution_count": 49,
   "metadata": {},
   "outputs": [],
   "source": [
    "weather.drop('snowfall', 1, inplace=True)"
   ]
  },
  {
   "cell_type": "markdown",
   "metadata": {},
   "source": [
    "### PrecipTotal"
   ]
  },
  {
   "cell_type": "code",
   "execution_count": 50,
   "metadata": {},
   "outputs": [
    {
     "data": {
      "text/plain": [
       "2"
      ]
     },
     "execution_count": 50,
     "metadata": {},
     "output_type": "execute_result"
    }
   ],
   "source": [
    "preciptotal_missing = weather['preciptotal'].map(lambda x: x == 'M')\n",
    "preciptotal_missing.sum()"
   ]
  },
  {
   "cell_type": "code",
   "execution_count": 51,
   "metadata": {},
   "outputs": [],
   "source": [
    "weather = weather[~preciptotal_missing]"
   ]
  },
  {
   "cell_type": "code",
   "execution_count": 52,
   "metadata": {},
   "outputs": [
    {
     "data": {
      "text/plain": [
       "{'0.00': 1570,\n",
       " '  T': 317,\n",
       " '0.01': 126,\n",
       " '0.02': 63,\n",
       " '0.03': 46,\n",
       " '0.04': 35,\n",
       " '0.05': 32,\n",
       " '0.12': 28,\n",
       " '0.08': 28,\n",
       " '0.06': 26,\n",
       " '0.07': 23,\n",
       " '0.09': 21,\n",
       " '0.16': 21,\n",
       " '0.11': 20,\n",
       " '0.14': 19,\n",
       " '0.17': 17,\n",
       " '0.19': 14,\n",
       " '0.13': 14,\n",
       " '0.28': 14,\n",
       " '0.18': 14,\n",
       " '0.15': 13,\n",
       " '0.20': 13,\n",
       " '0.23': 11,\n",
       " '0.26': 11,\n",
       " '0.25': 11,\n",
       " '0.10': 10,\n",
       " '0.24': 10,\n",
       " '0.43': 9,\n",
       " '0.31': 9,\n",
       " '0.39': 9,\n",
       " '0.21': 9,\n",
       " '0.40': 9,\n",
       " '0.29': 9,\n",
       " '0.34': 8,\n",
       " '0.32': 8,\n",
       " '0.45': 7,\n",
       " '0.33': 7,\n",
       " '0.59': 7,\n",
       " '0.50': 7,\n",
       " '0.22': 7,\n",
       " '0.41': 7,\n",
       " '0.30': 7,\n",
       " '0.37': 7,\n",
       " '0.48': 7,\n",
       " '0.65': 6,\n",
       " '0.63': 6,\n",
       " '0.27': 6,\n",
       " '0.80': 6,\n",
       " '0.84': 6,\n",
       " '0.68': 5,\n",
       " '0.93': 5,\n",
       " '0.36': 5,\n",
       " '0.85': 5,\n",
       " '0.54': 5,\n",
       " '0.92': 5,\n",
       " '0.44': 5,\n",
       " '0.75': 4,\n",
       " '1.23': 4,\n",
       " '0.64': 4,\n",
       " '0.89': 4,\n",
       " '0.52': 4,\n",
       " '0.97': 4,\n",
       " '0.70': 4,\n",
       " '0.55': 4,\n",
       " '0.72': 4,\n",
       " '0.58': 4,\n",
       " '0.51': 4,\n",
       " '1.01': 3,\n",
       " '0.88': 3,\n",
       " '0.74': 3,\n",
       " '0.56': 3,\n",
       " '0.35': 3,\n",
       " '0.42': 3,\n",
       " '0.71': 3,\n",
       " '1.05': 3,\n",
       " '1.55': 3,\n",
       " '0.87': 3,\n",
       " '0.82': 3,\n",
       " '0.47': 3,\n",
       " '1.31': 3,\n",
       " '0.77': 3,\n",
       " '0.60': 3,\n",
       " '1.03': 3,\n",
       " '0.66': 3,\n",
       " '0.86': 2,\n",
       " '0.79': 2,\n",
       " '0.81': 2,\n",
       " '1.15': 2,\n",
       " '0.49': 2,\n",
       " '0.61': 2,\n",
       " '1.12': 2,\n",
       " '0.69': 2,\n",
       " '1.02': 2,\n",
       " '0.38': 2,\n",
       " '1.61': 2,\n",
       " '0.57': 2,\n",
       " '1.28': 2,\n",
       " '0.83': 2,\n",
       " '0.78': 2,\n",
       " '0.53': 2,\n",
       " '0.67': 2,\n",
       " '0.73': 2,\n",
       " '1.43': 2,\n",
       " '1.16': 2,\n",
       " '0.95': 2,\n",
       " '1.33': 2,\n",
       " '1.29': 2,\n",
       " '0.46': 2,\n",
       " '1.22': 1,\n",
       " '0.91': 1,\n",
       " '0.98': 1,\n",
       " '1.57': 1,\n",
       " '1.26': 1,\n",
       " '1.46': 1,\n",
       " '1.14': 1,\n",
       " '1.11': 1,\n",
       " '1.34': 1,\n",
       " '3.17': 1,\n",
       " '1.60': 1,\n",
       " '1.90': 1,\n",
       " '3.07': 1,\n",
       " '6.64': 1,\n",
       " '1.07': 1,\n",
       " '6.86': 1,\n",
       " '4.73': 1,\n",
       " '1.09': 1,\n",
       " '1.18': 1,\n",
       " '3.97': 1,\n",
       " '0.76': 1,\n",
       " '2.68': 1,\n",
       " '2.60': 1,\n",
       " '1.38': 1,\n",
       " '1.25': 1,\n",
       " '1.04': 1,\n",
       " '2.35': 1,\n",
       " '1.96': 1,\n",
       " '3.31': 1,\n",
       " '2.09': 1,\n",
       " '1.58': 1,\n",
       " '2.20': 1,\n",
       " '2.06': 1,\n",
       " '2.79': 1,\n",
       " '1.19': 1,\n",
       " '1.30': 1,\n",
       " '2.90': 1,\n",
       " '0.96': 1,\n",
       " '1.35': 1,\n",
       " '1.49': 1,\n",
       " '1.21': 1,\n",
       " '1.73': 1,\n",
       " '2.76': 1,\n",
       " '1.44': 1,\n",
       " '0.62': 1,\n",
       " '1.82': 1,\n",
       " '2.24': 1,\n",
       " '2.17': 1,\n",
       " '2.03': 1,\n",
       " '1.06': 1,\n",
       " '3.66': 1,\n",
       " '0.90': 1,\n",
       " '1.48': 1,\n",
       " '1.75': 1,\n",
       " '1.24': 1,\n",
       " '1.88': 1,\n",
       " '3.15': 1,\n",
       " '2.43': 1,\n",
       " '3.64': 1}"
      ]
     },
     "execution_count": 52,
     "metadata": {},
     "output_type": "execute_result"
    }
   ],
   "source": [
    "weather['preciptotal'].value_counts().to_dict()"
   ]
  },
  {
   "cell_type": "code",
   "execution_count": 53,
   "metadata": {},
   "outputs": [],
   "source": [
    "#weather['preciptotal'] = weather['preciptotal'].astype(float)"
   ]
  },
  {
   "cell_type": "code",
   "execution_count": 54,
   "metadata": {},
   "outputs": [],
   "source": [
    "weather.preciptotal = weather.preciptotal.map(lambda x: x.replace('T', '0.001')).astype(float)"
   ]
  },
  {
   "cell_type": "markdown",
   "metadata": {},
   "source": [
    "### StnPressure"
   ]
  },
  {
   "cell_type": "code",
   "execution_count": 55,
   "metadata": {},
   "outputs": [
    {
     "data": {
      "text/plain": [
       "2"
      ]
     },
     "execution_count": 55,
     "metadata": {},
     "output_type": "execute_result"
    }
   ],
   "source": [
    "stnpressure_missing = weather['stnpressure'].map(lambda x: x == 'M')\n",
    "stnpressure_missing.sum()"
   ]
  },
  {
   "cell_type": "code",
   "execution_count": 56,
   "metadata": {},
   "outputs": [],
   "source": [
    "weather = weather[~stnpressure_missing]  "
   ]
  },
  {
   "cell_type": "code",
   "execution_count": 57,
   "metadata": {},
   "outputs": [],
   "source": [
    "weather['stnpressure'] = weather['stnpressure'].map(float)"
   ]
  },
  {
   "cell_type": "markdown",
   "metadata": {},
   "source": [
    "### SeaLevel"
   ]
  },
  {
   "cell_type": "code",
   "execution_count": 58,
   "metadata": {},
   "outputs": [
    {
     "data": {
      "text/plain": [
       "7"
      ]
     },
     "execution_count": 58,
     "metadata": {},
     "output_type": "execute_result"
    }
   ],
   "source": [
    "sealevel_missing = weather['sealevel'].map(lambda x: x == 'M')\n",
    "sealevel_missing.sum()"
   ]
  },
  {
   "cell_type": "code",
   "execution_count": 59,
   "metadata": {},
   "outputs": [],
   "source": [
    "weather = weather[~sealevel_missing]  "
   ]
  },
  {
   "cell_type": "code",
   "execution_count": 60,
   "metadata": {},
   "outputs": [],
   "source": [
    "weather['sealevel'] = weather['sealevel'].map(float)"
   ]
  },
  {
   "cell_type": "markdown",
   "metadata": {},
   "source": [
    "### ResultSpeed"
   ]
  },
  {
   "cell_type": "code",
   "execution_count": 61,
   "metadata": {},
   "outputs": [
    {
     "data": {
      "text/plain": [
       "0"
      ]
     },
     "execution_count": 61,
     "metadata": {},
     "output_type": "execute_result"
    }
   ],
   "source": [
    "weather.resultspeed.isnull().sum()"
   ]
  },
  {
   "cell_type": "markdown",
   "metadata": {},
   "source": [
    "### ResultDir"
   ]
  },
  {
   "cell_type": "code",
   "execution_count": 62,
   "metadata": {},
   "outputs": [
    {
     "data": {
      "text/plain": [
       "0"
      ]
     },
     "execution_count": 62,
     "metadata": {},
     "output_type": "execute_result"
    }
   ],
   "source": [
    "weather.resultdir.isnull().sum()"
   ]
  },
  {
   "cell_type": "markdown",
   "metadata": {},
   "source": [
    "### AvgSpeed"
   ]
  },
  {
   "cell_type": "code",
   "execution_count": 63,
   "metadata": {},
   "outputs": [
    {
     "data": {
      "text/plain": [
       "0"
      ]
     },
     "execution_count": 63,
     "metadata": {},
     "output_type": "execute_result"
    }
   ],
   "source": [
    "AvgSpeed_missing = weather['avgspeed'].map(lambda x: x == 'M')\n",
    "AvgSpeed_missing.sum()"
   ]
  },
  {
   "cell_type": "code",
   "execution_count": 64,
   "metadata": {},
   "outputs": [],
   "source": [
    "weather['avgspeed'] = weather['avgspeed'].map(float)"
   ]
  },
  {
   "cell_type": "code",
   "execution_count": null,
   "metadata": {},
   "outputs": [],
   "source": []
  },
  {
   "cell_type": "code",
   "execution_count": 65,
   "metadata": {},
   "outputs": [
    {
     "data": {
      "text/html": [
       "<div>\n",
       "<style scoped>\n",
       "    .dataframe tbody tr th:only-of-type {\n",
       "        vertical-align: middle;\n",
       "    }\n",
       "\n",
       "    .dataframe tbody tr th {\n",
       "        vertical-align: top;\n",
       "    }\n",
       "\n",
       "    .dataframe thead th {\n",
       "        text-align: right;\n",
       "    }\n",
       "</style>\n",
       "<table border=\"1\" class=\"dataframe\">\n",
       "  <thead>\n",
       "    <tr style=\"text-align: right;\">\n",
       "      <th></th>\n",
       "      <th>station</th>\n",
       "      <th>date</th>\n",
       "      <th>tmax</th>\n",
       "      <th>tmin</th>\n",
       "      <th>tavg</th>\n",
       "      <th>depart</th>\n",
       "      <th>dewpoint</th>\n",
       "      <th>wetbulb</th>\n",
       "      <th>heat</th>\n",
       "      <th>cool</th>\n",
       "      <th>...</th>\n",
       "      <th>HZ</th>\n",
       "      <th>BCFG</th>\n",
       "      <th>FG</th>\n",
       "      <th>TS</th>\n",
       "      <th>TSRA</th>\n",
       "      <th>FU</th>\n",
       "      <th>VCFG</th>\n",
       "      <th>GR</th>\n",
       "      <th>DZ</th>\n",
       "      <th>RA</th>\n",
       "    </tr>\n",
       "  </thead>\n",
       "  <tbody>\n",
       "    <tr>\n",
       "      <th>0</th>\n",
       "      <td>1</td>\n",
       "      <td>[2007, 05, 01]</td>\n",
       "      <td>83</td>\n",
       "      <td>50</td>\n",
       "      <td>67.0</td>\n",
       "      <td>14</td>\n",
       "      <td>51</td>\n",
       "      <td>56.0</td>\n",
       "      <td>0.0</td>\n",
       "      <td>2.0</td>\n",
       "      <td>...</td>\n",
       "      <td>0</td>\n",
       "      <td>0</td>\n",
       "      <td>0</td>\n",
       "      <td>0</td>\n",
       "      <td>0</td>\n",
       "      <td>0</td>\n",
       "      <td>0</td>\n",
       "      <td>0</td>\n",
       "      <td>0</td>\n",
       "      <td>0</td>\n",
       "    </tr>\n",
       "    <tr>\n",
       "      <th>1</th>\n",
       "      <td>2</td>\n",
       "      <td>[2007, 05, 01]</td>\n",
       "      <td>84</td>\n",
       "      <td>52</td>\n",
       "      <td>68.0</td>\n",
       "      <td>M</td>\n",
       "      <td>51</td>\n",
       "      <td>57.0</td>\n",
       "      <td>0.0</td>\n",
       "      <td>3.0</td>\n",
       "      <td>...</td>\n",
       "      <td>0</td>\n",
       "      <td>0</td>\n",
       "      <td>0</td>\n",
       "      <td>0</td>\n",
       "      <td>0</td>\n",
       "      <td>0</td>\n",
       "      <td>0</td>\n",
       "      <td>0</td>\n",
       "      <td>0</td>\n",
       "      <td>0</td>\n",
       "    </tr>\n",
       "    <tr>\n",
       "      <th>2</th>\n",
       "      <td>1</td>\n",
       "      <td>[2007, 05, 02]</td>\n",
       "      <td>59</td>\n",
       "      <td>42</td>\n",
       "      <td>51.0</td>\n",
       "      <td>-3</td>\n",
       "      <td>42</td>\n",
       "      <td>47.0</td>\n",
       "      <td>14.0</td>\n",
       "      <td>0.0</td>\n",
       "      <td>...</td>\n",
       "      <td>0</td>\n",
       "      <td>0</td>\n",
       "      <td>0</td>\n",
       "      <td>0</td>\n",
       "      <td>0</td>\n",
       "      <td>0</td>\n",
       "      <td>0</td>\n",
       "      <td>0</td>\n",
       "      <td>0</td>\n",
       "      <td>0</td>\n",
       "    </tr>\n",
       "    <tr>\n",
       "      <th>3</th>\n",
       "      <td>2</td>\n",
       "      <td>[2007, 05, 02]</td>\n",
       "      <td>60</td>\n",
       "      <td>43</td>\n",
       "      <td>52.0</td>\n",
       "      <td>M</td>\n",
       "      <td>42</td>\n",
       "      <td>47.0</td>\n",
       "      <td>13.0</td>\n",
       "      <td>0.0</td>\n",
       "      <td>...</td>\n",
       "      <td>1</td>\n",
       "      <td>0</td>\n",
       "      <td>0</td>\n",
       "      <td>0</td>\n",
       "      <td>0</td>\n",
       "      <td>0</td>\n",
       "      <td>0</td>\n",
       "      <td>0</td>\n",
       "      <td>0</td>\n",
       "      <td>0</td>\n",
       "    </tr>\n",
       "    <tr>\n",
       "      <th>4</th>\n",
       "      <td>1</td>\n",
       "      <td>[2007, 05, 03]</td>\n",
       "      <td>66</td>\n",
       "      <td>46</td>\n",
       "      <td>56.0</td>\n",
       "      <td>2</td>\n",
       "      <td>40</td>\n",
       "      <td>48.0</td>\n",
       "      <td>9.0</td>\n",
       "      <td>0.0</td>\n",
       "      <td>...</td>\n",
       "      <td>0</td>\n",
       "      <td>0</td>\n",
       "      <td>0</td>\n",
       "      <td>0</td>\n",
       "      <td>0</td>\n",
       "      <td>0</td>\n",
       "      <td>0</td>\n",
       "      <td>0</td>\n",
       "      <td>0</td>\n",
       "      <td>0</td>\n",
       "    </tr>\n",
       "  </tbody>\n",
       "</table>\n",
       "<p>5 rows × 37 columns</p>\n",
       "</div>"
      ],
      "text/plain": [
       "   station            date  tmax  tmin  tavg depart  dewpoint  wetbulb  heat  \\\n",
       "0        1  [2007, 05, 01]    83    50  67.0     14        51     56.0   0.0   \n",
       "1        2  [2007, 05, 01]    84    52  68.0      M        51     57.0   0.0   \n",
       "2        1  [2007, 05, 02]    59    42  51.0     -3        42     47.0  14.0   \n",
       "3        2  [2007, 05, 02]    60    43  52.0      M        42     47.0  13.0   \n",
       "4        1  [2007, 05, 03]    66    46  56.0      2        40     48.0   9.0   \n",
       "\n",
       "   cool  ... HZ BCFG  FG  TS  TSRA  FU  VCFG  GR DZ RA  \n",
       "0   2.0  ...  0    0   0   0     0   0     0   0  0  0  \n",
       "1   3.0  ...  0    0   0   0     0   0     0   0  0  0  \n",
       "2   0.0  ...  0    0   0   0     0   0     0   0  0  0  \n",
       "3   0.0  ...  1    0   0   0     0   0     0   0  0  0  \n",
       "4   0.0  ...  0    0   0   0     0   0     0   0  0  0  \n",
       "\n",
       "[5 rows x 37 columns]"
      ]
     },
     "execution_count": 65,
     "metadata": {},
     "output_type": "execute_result"
    }
   ],
   "source": [
    "weather.head()"
   ]
  },
  {
   "cell_type": "code",
   "execution_count": 66,
   "metadata": {},
   "outputs": [
    {
     "data": {
      "text/plain": [
       "0"
      ]
     },
     "execution_count": 66,
     "metadata": {},
     "output_type": "execute_result"
    }
   ],
   "source": [
    "weather.isnull().sum().sum()"
   ]
  },
  {
   "cell_type": "code",
   "execution_count": null,
   "metadata": {},
   "outputs": [],
   "source": []
  }
 ],
 "metadata": {
  "kernelspec": {
   "display_name": "Python 3",
   "language": "python",
   "name": "python3"
  },
  "language_info": {
   "codemirror_mode": {
    "name": "ipython",
    "version": 3
   },
   "file_extension": ".py",
   "mimetype": "text/x-python",
   "name": "python",
   "nbconvert_exporter": "python",
   "pygments_lexer": "ipython3",
   "version": "3.7.4"
  }
 },
 "nbformat": 4,
 "nbformat_minor": 2
}
