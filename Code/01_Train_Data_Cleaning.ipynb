{
 "cells": [
  {
   "cell_type": "markdown",
   "metadata": {},
   "source": [
    "# Importing libraries and reading CSV files"
   ]
  },
  {
   "cell_type": "code",
   "execution_count": 1,
   "metadata": {},
   "outputs": [],
   "source": [
    "#conda install -c conda-forge pandas-profiling"
   ]
  },
  {
   "cell_type": "code",
   "execution_count": 2,
   "metadata": {},
   "outputs": [],
   "source": [
    "import pandas as pd\n",
    "import pandas_profiling as pp\n",
    "import numpy as np\n",
    "import matplotlib.pyplot as plt\n",
    "import seaborn as sns"
   ]
  },
  {
   "cell_type": "code",
   "execution_count": 3,
   "metadata": {},
   "outputs": [],
   "source": [
    "train = pd.read_csv ('./predict-west-nile-virus/train.csv')\n",
    "spray = pd.read_csv ('./predict-west-nile-virus/spray.csv')\n",
    "weather = pd.read_csv ('./predict-west-nile-virus/weather.csv')"
   ]
  },
  {
   "cell_type": "markdown",
   "metadata": {},
   "source": [
    "| Feature                | File  | Description                                                                                                 |\n",
    "|------------------------|-------|-------------------------------------------------------------------------------------------------------------|\n",
    "| Date                   | Train | date that the WNV test is performed                                                                         |\n",
    "| Address                | Train | approximate address of the location of trap\\. This is used to send to the GeoCoder\\.                        |\n",
    "| Species                | Train | the species of mosquitos                                                                                    |\n",
    "| Block                  | Train | block number of address                                                                                     |\n",
    "| Street                 | Train | street name                                                                                                 |\n",
    "| Trap                   | Train | Id of the trap                                                                                              |\n",
    "| AddressNumberAndStreet | Train | approximate address returned from GeoCoder                                                                  |\n",
    "| Latitude, Longitude    | Train | Latitude and Longitude returned from GeoCoder                                                               |\n",
    "| AddressAccuracy        | Train | accuracy returned from GeoCoder                                                                             |\n",
    "| NumMosquitos           | Train | number of mosquitoes caught in this trap                                                                    |\n",
    "| WnvPresent             | Train | whether West Nile Virus was present in these mosquitos\\. 1 means WNV is present, and 0 means not present\\.  |\n",
    "\n"
   ]
  },
  {
   "cell_type": "code",
   "execution_count": 4,
   "metadata": {},
   "outputs": [
    {
     "data": {
      "text/plain": [
       "Index(['Date', 'Address', 'Species', 'Block', 'Street', 'Trap',\n",
       "       'AddressNumberAndStreet', 'Latitude', 'Longitude', 'AddressAccuracy',\n",
       "       'NumMosquitos', 'WnvPresent'],\n",
       "      dtype='object')"
      ]
     },
     "execution_count": 4,
     "metadata": {},
     "output_type": "execute_result"
    }
   ],
   "source": [
    "train.columns"
   ]
  },
  {
   "cell_type": "code",
   "execution_count": 5,
   "metadata": {},
   "outputs": [],
   "source": [
    "train.columns = train.columns.map(lambda x: x.lower())"
   ]
  },
  {
   "cell_type": "code",
   "execution_count": 6,
   "metadata": {},
   "outputs": [
    {
     "data": {
      "text/plain": [
       "Index(['date', 'address', 'species', 'block', 'street', 'trap',\n",
       "       'addressnumberandstreet', 'latitude', 'longitude', 'addressaccuracy',\n",
       "       'nummosquitos', 'wnvpresent'],\n",
       "      dtype='object')"
      ]
     },
     "execution_count": 6,
     "metadata": {},
     "output_type": "execute_result"
    }
   ],
   "source": [
    "train.columns"
   ]
  },
  {
   "cell_type": "code",
   "execution_count": 7,
   "metadata": {},
   "outputs": [
    {
     "data": {
      "text/plain": [
       "(10506, 12)"
      ]
     },
     "execution_count": 7,
     "metadata": {},
     "output_type": "execute_result"
    }
   ],
   "source": [
    "train.shape"
   ]
  },
  {
   "cell_type": "code",
   "execution_count": 8,
   "metadata": {},
   "outputs": [
    {
     "data": {
      "application/vnd.jupyter.widget-view+json": {
       "model_id": "c759d7f15d144b118ed7bdb55962592c",
       "version_major": 2,
       "version_minor": 0
      },
      "text/plain": [
       "Tab(children=(HTML(value='<div id=\"overview-content\" class=\"row variable spacing\">\\n    <div class=\"row\">\\n   …"
      ]
     },
     "metadata": {},
     "output_type": "display_data"
    },
    {
     "data": {
      "text/html": [
       "Report generated with <a href=\"https://github.com/pandas-profiling/pandas-profiling\">pandas-profiling</a>."
      ],
      "text/plain": [
       "<IPython.core.display.HTML object>"
      ]
     },
     "metadata": {},
     "output_type": "display_data"
    },
    {
     "data": {
      "text/plain": []
     },
     "execution_count": 8,
     "metadata": {},
     "output_type": "execute_result"
    }
   ],
   "source": [
    "pp.ProfileReport(train)"
   ]
  },
  {
   "cell_type": "markdown",
   "metadata": {},
   "source": [
    "### Date"
   ]
  },
  {
   "cell_type": "code",
   "execution_count": 9,
   "metadata": {},
   "outputs": [
    {
     "data": {
      "text/plain": [
       "0"
      ]
     },
     "execution_count": 9,
     "metadata": {},
     "output_type": "execute_result"
    }
   ],
   "source": [
    "train.date.isnull().sum()"
   ]
  },
  {
   "cell_type": "code",
   "execution_count": 10,
   "metadata": {},
   "outputs": [
    {
     "data": {
      "text/plain": [
       "0        2007-05-29\n",
       "1        2007-05-29\n",
       "2        2007-05-29\n",
       "3        2007-05-29\n",
       "4        2007-05-29\n",
       "            ...    \n",
       "10501    2013-09-26\n",
       "10502    2013-09-26\n",
       "10503    2013-09-26\n",
       "10504    2013-09-26\n",
       "10505    2013-09-26\n",
       "Name: date, Length: 10506, dtype: object"
      ]
     },
     "execution_count": 10,
     "metadata": {},
     "output_type": "execute_result"
    }
   ],
   "source": [
    "train['date']"
   ]
  },
  {
   "cell_type": "code",
   "execution_count": 11,
   "metadata": {},
   "outputs": [
    {
     "data": {
      "text/plain": [
       "0        [2007, 05, 29]\n",
       "1        [2007, 05, 29]\n",
       "2        [2007, 05, 29]\n",
       "3        [2007, 05, 29]\n",
       "4        [2007, 05, 29]\n",
       "              ...      \n",
       "10501    [2013, 09, 26]\n",
       "10502    [2013, 09, 26]\n",
       "10503    [2013, 09, 26]\n",
       "10504    [2013, 09, 26]\n",
       "10505    [2013, 09, 26]\n",
       "Name: date, Length: 10506, dtype: object"
      ]
     },
     "execution_count": 11,
     "metadata": {},
     "output_type": "execute_result"
    }
   ],
   "source": [
    "train['date'] = train['date'].str.split('-')\n",
    "train['date']"
   ]
  },
  {
   "cell_type": "code",
   "execution_count": 12,
   "metadata": {},
   "outputs": [
    {
     "data": {
      "text/plain": [
       "0        2007\n",
       "1        2007\n",
       "2        2007\n",
       "3        2007\n",
       "4        2007\n",
       "         ... \n",
       "10501    2013\n",
       "10502    2013\n",
       "10503    2013\n",
       "10504    2013\n",
       "10505    2013\n",
       "Name: year, Length: 10506, dtype: object"
      ]
     },
     "execution_count": 12,
     "metadata": {},
     "output_type": "execute_result"
    }
   ],
   "source": [
    "train['year'] = [y[0] for y in train['date']]\n",
    "train['year']"
   ]
  },
  {
   "cell_type": "code",
   "execution_count": 13,
   "metadata": {},
   "outputs": [
    {
     "data": {
      "text/plain": [
       "0        05\n",
       "1        05\n",
       "2        05\n",
       "3        05\n",
       "4        05\n",
       "         ..\n",
       "10501    09\n",
       "10502    09\n",
       "10503    09\n",
       "10504    09\n",
       "10505    09\n",
       "Name: month, Length: 10506, dtype: object"
      ]
     },
     "execution_count": 13,
     "metadata": {},
     "output_type": "execute_result"
    }
   ],
   "source": [
    "train['month'] = [y[1] for y in train['date']]\n",
    "train['month']"
   ]
  },
  {
   "cell_type": "code",
   "execution_count": 14,
   "metadata": {},
   "outputs": [
    {
     "data": {
      "text/plain": [
       "0        29\n",
       "1        29\n",
       "2        29\n",
       "3        29\n",
       "4        29\n",
       "         ..\n",
       "10501    26\n",
       "10502    26\n",
       "10503    26\n",
       "10504    26\n",
       "10505    26\n",
       "Name: day, Length: 10506, dtype: object"
      ]
     },
     "execution_count": 14,
     "metadata": {},
     "output_type": "execute_result"
    }
   ],
   "source": [
    "train['day'] = [y[2] for y in train['date']]\n",
    "train['day']"
   ]
  },
  {
   "cell_type": "markdown",
   "metadata": {},
   "source": [
    "### Species"
   ]
  },
  {
   "cell_type": "code",
   "execution_count": 15,
   "metadata": {},
   "outputs": [
    {
     "data": {
      "text/plain": [
       "0"
      ]
     },
     "execution_count": 15,
     "metadata": {},
     "output_type": "execute_result"
    }
   ],
   "source": [
    "train.species.isnull().sum()"
   ]
  },
  {
   "cell_type": "code",
   "execution_count": 16,
   "metadata": {
    "scrolled": true
   },
   "outputs": [
    {
     "data": {
      "text/plain": [
       "CULEX PIPIENS/RESTUANS    4752\n",
       "CULEX RESTUANS            2740\n",
       "CULEX PIPIENS             2699\n",
       "CULEX TERRITANS            222\n",
       "CULEX SALINARIUS            86\n",
       "CULEX TARSALIS               6\n",
       "CULEX ERRATICUS              1\n",
       "Name: species, dtype: int64"
      ]
     },
     "execution_count": 16,
     "metadata": {},
     "output_type": "execute_result"
    }
   ],
   "source": [
    "train['species'].value_counts()"
   ]
  },
  {
   "cell_type": "markdown",
   "metadata": {},
   "source": [
    "Since there are 4 species with low value counts, we will merge the 3 columns into others"
   ]
  },
  {
   "cell_type": "code",
   "execution_count": 17,
   "metadata": {},
   "outputs": [],
   "source": [
    "train.species = train.species.map({'CULEX PIPIENS/RESTUANS': 'CULEX PIPIENS/RESTUANS',\n",
    "                                   'CULEX RESTUANS': 'CULEX RESTUANS',\n",
    "                                   'CULEX PIPIENS': 'CULEX PIPIENS',\n",
    "                                   'CULEX TERRITANS': 'CULEX OTHER', \n",
    "                                   'CULEX SALINARIUS': 'CULEX OTHER',\n",
    "                                   'CULEX TARSALIS': 'CULEX OTHER',\n",
    "                                   'CULEX ERRATICUS': 'CULEX OTHER'})"
   ]
  },
  {
   "cell_type": "code",
   "execution_count": 18,
   "metadata": {},
   "outputs": [
    {
     "data": {
      "text/plain": [
       "CULEX PIPIENS/RESTUANS    4752\n",
       "CULEX RESTUANS            2740\n",
       "CULEX PIPIENS             2699\n",
       "CULEX OTHER                315\n",
       "Name: species, dtype: int64"
      ]
     },
     "execution_count": 18,
     "metadata": {},
     "output_type": "execute_result"
    }
   ],
   "source": [
    "train['species'].value_counts()"
   ]
  },
  {
   "cell_type": "markdown",
   "metadata": {},
   "source": [
    "### Block"
   ]
  },
  {
   "cell_type": "code",
   "execution_count": 19,
   "metadata": {},
   "outputs": [
    {
     "data": {
      "text/plain": [
       "0"
      ]
     },
     "execution_count": 19,
     "metadata": {},
     "output_type": "execute_result"
    }
   ],
   "source": [
    "train.block.isnull().sum()"
   ]
  },
  {
   "cell_type": "code",
   "execution_count": 20,
   "metadata": {},
   "outputs": [
    {
     "data": {
      "text/plain": [
       "array([41, 62, 79, 15, 25, 11, 21, 22, 17, 53, 65, 75, 89, 91, 36, 72, 38,\n",
       "       49, 58, 50, 14, 10, 42, 40, 43, 28, 18, 70, 35, 93, 37, 45, 46, 60,\n",
       "       61, 27, 68, 30, 96, 64, 12, 20, 33, 52, 67, 73, 39, 47, 55, 71, 77,\n",
       "       63, 13, 81, 24, 80, 82, 98, 66, 48, 51, 90, 29, 34])"
      ]
     },
     "execution_count": 20,
     "metadata": {},
     "output_type": "execute_result"
    }
   ],
   "source": [
    "train['block'].unique()"
   ]
  },
  {
   "cell_type": "markdown",
   "metadata": {},
   "source": [
    "### Address"
   ]
  },
  {
   "cell_type": "code",
   "execution_count": 21,
   "metadata": {},
   "outputs": [
    {
     "data": {
      "text/plain": [
       "0"
      ]
     },
     "execution_count": 21,
     "metadata": {},
     "output_type": "execute_result"
    }
   ],
   "source": [
    "train.address.isnull().sum()"
   ]
  },
  {
   "cell_type": "code",
   "execution_count": 22,
   "metadata": {},
   "outputs": [
    {
     "data": {
      "text/plain": [
       "{\"ORD Terminal 5, O'Hare International Airport, Chicago, IL 60666, USA\": 750,\n",
       " 'South Doty Avenue, Chicago, IL, USA': 542,\n",
       " 'South Stony Island Avenue, Chicago, IL, USA': 314,\n",
       " '4100 North Oak Park Avenue, Chicago, IL 60634, USA': 185,\n",
       " '4200 West 127th Street, Alsip, IL 60803, USA': 183,\n",
       " '2200 North Cannon Drive, Chicago, IL 60614, USA': 163,\n",
       " '2400 East 105th Street, Chicago, IL 60617, USA': 160,\n",
       " '7000 West Armitage Avenue, Chicago, IL 60707, USA': 156,\n",
       " '3700 118th Street, Chicago, IL 60617, USA': 152,\n",
       " 'University of Illinois at Chicago, 1100 South Ashland Avenue, Chicago, IL 60607, USA': 151,\n",
       " '5200 South Kolmar Avenue, Chicago, IL 60632, USA': 148,\n",
       " '3500 West 116th Street, Chicago, IL 60655, USA': 147,\n",
       " '1100 Roosevelt Road, Chicago, IL 60608, USA': 146,\n",
       " '5000 South Central Avenue, Chicago, IL 60638, USA': 146,\n",
       " 'Ohare Court, Bensenville, IL 60106, USA': 140,\n",
       " '7000 North Moselle Avenue, Chicago, IL 60646, USA': 139,\n",
       " '3600 North Pittsburgh Avenue, Chicago, IL 60634, USA': 133,\n",
       " 'South Brandon Avenue, Chicago, IL 60617, USA': 130,\n",
       " 'South Torrence Avenue, Chicago, IL, USA': 129,\n",
       " '1000 East 67th Street, Chicago, IL 60637, USA': 128,\n",
       " '1000 North Central Park Avenue, Chicago, IL 60651, USA': 126,\n",
       " '4600 Milwaukee Avenue, Chicago, IL 60630, USA': 122,\n",
       " '1700 West 95th Street, Chicago, IL 60643, USA': 121,\n",
       " '5800 North Western Avenue, Chicago, IL 60659, USA': 117,\n",
       " '6700 South Kedzie Avenue, Chicago, IL 60629, USA': 116,\n",
       " '3900 South Ashland Avenue, Chicago, IL 60609, USA': 115,\n",
       " '1100 South California Avenue, Chicago, IL 60612, USA': 114,\n",
       " 'South Cottage Grove Avenue, Chicago, IL, USA': 112,\n",
       " '4000 East 130th Street, Chicago, IL 60633, USA': 112,\n",
       " '8900 South Carpenter Street, Chicago, IL 60620, USA': 111,\n",
       " '2500 West Grand Avenue, Chicago, IL 60654, USA': 110,\n",
       " 'Chicago Midway International Airport (MDW), 5200 West 63rd Street, Chicago, IL 60638, USA': 109,\n",
       " '6100 North Lemont Avenue, Chicago, IL 60646, USA': 105,\n",
       " '3700 South Pulaski Road, Chicago, IL 60623, USA': 104,\n",
       " '6100 West Fullerton Avenue, Chicago, IL 60639, USA': 104,\n",
       " '2200 West 51st Street, Chicago, IL 60609, USA': 103,\n",
       " '8200 South Kostner Avenue, Chicago, IL 60652, USA': 103,\n",
       " '5000 South Union Avenue, Chicago, IL 60609, USA': 98,\n",
       " '4500 North Campbell Avenue, Chicago, IL 60625, USA': 98,\n",
       " '2800 North Francisco Avenue, Chicago, IL 60618, USA': 98,\n",
       " '1400 North Sacramento Avenue, Chicago, IL 60622, USA': 97,\n",
       " '2500 South Millard Avenue, Chicago, IL 60623, USA': 93,\n",
       " '5800 North Pulaski Road, Chicago, IL 60646, USA': 93,\n",
       " '7700 South Eberhart Avenue, Chicago, IL 60619, USA': 92,\n",
       " 'Chicago, IL, USA': 91,\n",
       " 'South Vincennes Avenue, Chicago, IL, USA': 91,\n",
       " '1100 North Artesian Avenue, Chicago, IL 60622, USA': 91,\n",
       " '3300 West 104th Street, Chicago, IL 60655, USA': 90,\n",
       " '5100 North Mont Clare Avenue, Chicago, IL 60656, USA': 87,\n",
       " '2200 West 113th Street, Chicago, IL 60643, USA': 86,\n",
       " '6300 West 64th Street, Chicago, IL 60638, USA': 86,\n",
       " '1100 West Chicago Avenue, Chicago, IL 60642, USA': 85,\n",
       " 'South Avenue L, Chicago, IL 60617, USA': 83,\n",
       " '2200 West 69th Street, Chicago, IL 60636, USA': 83,\n",
       " '7100 South South Shore Drive, Chicago, IL 60649, USA': 83,\n",
       " '3500 West 51st Street, Chicago, IL 60632, USA': 82,\n",
       " '9100 West Higgins Road, Rosemont, IL 60018, USA': 80,\n",
       " '1700 North Pulaski Road, Chicago, IL 60639, USA': 80,\n",
       " '6000 West Montrose Avenue, Chicago, IL 60634, USA': 78,\n",
       " 'East 91st Place, Chicago, IL, USA': 78,\n",
       " 'West Garfield Boulevard, Chicago, IL, USA': 77,\n",
       " '7900 South South Chicago Avenue, Chicago, IL 60617, USA': 74,\n",
       " '3300 North Rutherford Avenue, Chicago, IL 60634, USA': 74,\n",
       " '3700 North Kedvale Avenue, Chicago, IL 60641, USA': 74,\n",
       " '7500 North Oakley Avenue, Chicago, IL 60645, USA': 69,\n",
       " '7200 North Oketo Avenue, Chicago, IL 60631, USA': 66,\n",
       " '1300 North Laramie Avenue, Chicago, IL 60651, USA': 65,\n",
       " '3000 West 18th Street, Chicago, IL 60608, USA': 63,\n",
       " '1200 West Greenleaf Avenue, Chicago, IL 60626, USA': 63,\n",
       " '4200 West 65th Street, Chicago, IL 60621, USA': 62,\n",
       " '3900 North Springfield Avenue, Chicago, IL 60618, USA': 62,\n",
       " '4800 West Montana Street, Chicago, IL 60639, USA': 60,\n",
       " '1700 West Addison Street, Chicago, IL 60613, USA': 54,\n",
       " '1700 North Ashland Avenue, Chicago, IL 60622, USA': 50,\n",
       " '2200 West 89th Street, Chicago, IL 60643, USA': 50,\n",
       " '7100 North Harlem Avenue, Chicago, IL 60631, USA': 50,\n",
       " '8900 South Muskegon Avenue, Chicago, IL 60617, USA': 46,\n",
       " '3800 East 115th Street, Chicago, IL 60617, USA': 45,\n",
       " '5100 West 72nd Street, Chicago, IL 60638, USA': 45,\n",
       " '4000 South Dearborn Street, Chicago, IL 60609, USA': 44,\n",
       " '5800 North Ridge Avenue, Chicago, IL 60660, USA': 42,\n",
       " '1500 North Long Avenue, Chicago, IL 60651, USA': 41,\n",
       " '1500 West Webster Avenue, Chicago, IL 60614, USA': 35,\n",
       " '7900 West Foster Avenue, Chicago, IL 60656, USA': 35,\n",
       " '1000 West 95th Street, Chicago, IL 60643, USA': 33,\n",
       " '6200 North Mcclellan Avenue, Chicago, IL 60646, USA': 33,\n",
       " '6400 South Stony Island Avenue, Chicago, IL 60637, USA': 33,\n",
       " '1100 South Peoria Street, Chicago, IL 60608, USA': 32,\n",
       " '9100 West Higgins Avenue, Chicago, IL 60656, USA': 31,\n",
       " '6500 North Oak Park Avenue, Chicago, IL 60631, USA': 31,\n",
       " '4200 North Richmond Street, Chicago, IL 60618, USA': 31,\n",
       " '7300 Cicero Avenue, Chicago, IL 60638, USA': 30,\n",
       " '6400 West Strong Street, Chicago, IL, USA': 30,\n",
       " 'North Streeter Drive, Chicago, IL 60611, USA': 29,\n",
       " '6800 West Belden Avenue, Chicago, IL 60707, USA': 29,\n",
       " '1000 South California Avenue, Chicago, IL 60612, USA': 28,\n",
       " '3000 South Hoyne Avenue, Chicago, IL 60608, USA': 27,\n",
       " '4900 West Balmoral Avenue, Chicago, IL 60630, USA': 27,\n",
       " '1100 South State Street, Chicago, IL 60605, USA': 26,\n",
       " '9600 South Hoyne Avenue, Chicago, IL 60643, USA': 26,\n",
       " '2000 East 111th Street, Chicago, IL 60628, USA': 25,\n",
       " '6000 North Avondale Avenue, Chicago, IL 60631, USA': 24,\n",
       " '4200 West 31st Street, Chicago, IL 60623, USA': 24,\n",
       " '9800 South Avenue G, Chicago, IL 60617, USA': 23,\n",
       " '6200 North Mandell Avenue, Chicago, IL 60646, USA': 23,\n",
       " '3800 North California Avenue, Chicago, IL 60618, USA': 23,\n",
       " 'East 91st Street, Chicago, IL, USA': 22,\n",
       " '5300 West Agatite Avenue, Chicago, IL 60630, USA': 22,\n",
       " '1800 West Farwell Avenue, Chicago, IL 60626, USA': 22,\n",
       " '2100 North Lawler Avenue, Chicago, IL 60639, USA': 21,\n",
       " '6600 South Kilpatrick Avenue, Chicago, IL 60629, USA': 21,\n",
       " 'South Mackinaw Avenue, Chicago, IL 60617, USA': 21,\n",
       " '9300 South Doctor Martin Luther King Junior Drive, Chicago, IL 60619, USA': 21,\n",
       " '1800 West Leland Avenue, Chicago, IL 60640, USA': 21,\n",
       " '5200 South Nordica Avenue, Chicago, IL 60638, USA': 20,\n",
       " '4700 South Cornell Avenue, Chicago, IL 60615, USA': 20,\n",
       " '6100 South Melvina Avenue, Chicago, IL 60638, USA': 19,\n",
       " '4000 North Austin Avenue, Chicago, IL 60634, USA': 18,\n",
       " '2100 North Stave Street, Chicago, IL 60647, USA': 17,\n",
       " '2700 South Western Avenue, Chicago, IL 60608, USA': 17,\n",
       " 'East 138th Street, Riverdale, IL 60827, USA': 17,\n",
       " '2200 West Pershing Road, Chicago, IL 60609, USA': 15,\n",
       " '4000 North Tripp Avenue, Chicago, IL 60641, USA': 15,\n",
       " '3300 West Randolph Street, Chicago, IL 60612, USA': 15,\n",
       " '2500 South Throop Street, Chicago, IL 60608, USA': 15,\n",
       " 'West 37th Place, Chicago, IL, USA': 14,\n",
       " '1500 West Granville Avenue, Chicago, IL 60660, USA': 14,\n",
       " '6000 West Roscoe Street, Chicago, IL 60634, USA': 14,\n",
       " '8000 South Kedzie Avenue, Chicago, IL 60652, USA': 13,\n",
       " '4900 West Sunnyside Avenue, Chicago, IL 60630, USA': 12,\n",
       " '2100 North Cannon Drive, Chicago, IL 60614, USA': 9,\n",
       " 'South Wallace Street, Chicago, IL, USA': 8,\n",
       " '6500 South Racine Avenue, Chicago, IL 60636, USA': 8,\n",
       " '3400 West 77th Street, Chicago, IL 60652, USA': 7,\n",
       " '9600 South Longwood Drive, Chicago, IL 60643, USA': 5,\n",
       " '5500 South Doctor Martin Luther King Junior Drive, Chicago, IL 60637, USA': 5,\n",
       " '2900 West 85th Street, Chicago, IL 60652, USA': 3,\n",
       " '2100 South Hamlin Avenue, Chicago, IL 60623, USA': 2}"
      ]
     },
     "execution_count": 22,
     "metadata": {},
     "output_type": "execute_result"
    }
   ],
   "source": [
    "train['address'].value_counts().to_dict()"
   ]
  },
  {
   "cell_type": "markdown",
   "metadata": {},
   "source": [
    "### Address Number and Street"
   ]
  },
  {
   "cell_type": "code",
   "execution_count": 23,
   "metadata": {},
   "outputs": [
    {
     "data": {
      "text/plain": [
       "0"
      ]
     },
     "execution_count": 23,
     "metadata": {},
     "output_type": "execute_result"
    }
   ],
   "source": [
    "train.addressnumberandstreet.isnull().sum()"
   ]
  },
  {
   "cell_type": "code",
   "execution_count": 24,
   "metadata": {},
   "outputs": [
    {
     "data": {
      "text/plain": [
       "{'1000  W OHARE AIRPORT, Chicago, IL': 750,\n",
       " '1200  S DOTY AVE, Chicago, IL': 542,\n",
       " '1000  S STONY ISLAND AVE, Chicago, IL': 314,\n",
       " '4100  N OAK PARK AVE, Chicago, IL': 185,\n",
       " '4200  W 127TH PL, Chicago, IL': 183,\n",
       " '2200  N CANNON DR, Chicago, IL': 163,\n",
       " '2400  E 105TH ST, Chicago, IL': 160,\n",
       " '7000   W ARMITAGE AVENUE, Chicago, IL': 156,\n",
       " '3700  E 118TH ST, Chicago, IL': 152,\n",
       " '1100  S ASHLAND AVE, Chicago, IL': 151,\n",
       " '5200  S KOLMAR, Chicago, IL': 148,\n",
       " '3500  W 116TH ST, Chicago, IL': 147,\n",
       " '5000  S CENTRAL AVE, Chicago, IL': 146,\n",
       " '1100  W ROOSEVELT, Chicago, IL': 146,\n",
       " '1000  W OHARE, Chicago, IL': 140,\n",
       " '7000  N MOSELL AVE, Chicago, IL': 139,\n",
       " '3600  N PITTSBURGH AVE, Chicago, IL': 133,\n",
       " '1300  S BRANDON, Chicago, IL': 130,\n",
       " '1300  S TORRENCE AVE, Chicago, IL': 129,\n",
       " '1000  E 67TH ST, Chicago, IL': 128,\n",
       " '1000  N CENTRAL PARK DR, Chicago, IL': 126,\n",
       " '4600  N MILWAUKEE AVE, Chicago, IL': 122,\n",
       " '1700  W 95TH ST, Chicago, IL': 121,\n",
       " '5800  N WESTERN AVE, Chicago, IL': 117,\n",
       " '6700  S KEDZIE AVE, Chicago, IL': 116,\n",
       " '3900  S ASHLAND AVE, Chicago, IL': 115,\n",
       " '1100  S CALIFORNIA, Chicago, IL': 114,\n",
       " '1000  S COTTAGE GROVE, Chicago, IL': 112,\n",
       " '4000  E 130TH ST, Chicago, IL': 112,\n",
       " '8900  S CARPENTER ST, Chicago, IL': 111,\n",
       " '2500  W GRAND AVE, Chicago, IL': 110,\n",
       " '5200  W 63RD ST, Chicago, IL': 109,\n",
       " '6100  N LEMONT AVE, Chicago, IL': 105,\n",
       " '6100  W FULLERTON AVE, Chicago, IL': 104,\n",
       " '3700  S PULASKI RD, Chicago, IL': 104,\n",
       " '2200  W 51ST ST, Chicago, IL': 103,\n",
       " '8200  S KOSTNER AVE, Chicago, IL': 103,\n",
       " '2800  N FRANCISCO AVE, Chicago, IL': 98,\n",
       " '4500  N CAMPBELL AVE, Chicago, IL': 98,\n",
       " '5000  S UNION AVE, Chicago, IL': 98,\n",
       " '1400  N HUMBOLDT DR, Chicago, IL': 97,\n",
       " '2500  S MILLARD AVE, Chicago, IL': 93,\n",
       " '5800  N PULASKI RD, Chicago, IL': 93,\n",
       " '7700  S EBERHART AVE, Chicago, IL': 92,\n",
       " '1000  S VINCENNES, Chicago, IL': 91,\n",
       " '1100  S ARTESIAN AVE, Chicago, IL': 91,\n",
       " '4300  N ASHLAND AVE OVERPASS, Chicago, IL': 91,\n",
       " '3300  W 104TH ST, Chicago, IL': 90,\n",
       " '5100  N MONT CLARE AVE, Chicago, IL': 87,\n",
       " '2200  W 113TH ST, Chicago, IL': 86,\n",
       " '6300  W 64TH ST, Chicago, IL': 86,\n",
       " '1100  W CHICAGO, Chicago, IL': 85,\n",
       " '2200  W 69TH ST, Chicago, IL': 83,\n",
       " '1100  S AVENUE L, Chicago, IL': 83,\n",
       " '7100  S SOUTH SHORE DR, Chicago, IL': 83,\n",
       " '3500  W 51ST ST, Chicago, IL': 82,\n",
       " '9100  W HIGGINS RD, Chicago, IL': 80,\n",
       " '1700  N PULASKI RD, Chicago, IL': 80,\n",
       " '6500  E 91ST PL, Chicago, IL': 78,\n",
       " '6000  W MONTROSE DR, Chicago, IL': 78,\n",
       " '9000  W GARFIELD BLVD, Chicago, IL': 77,\n",
       " '3700  N KEDVALE AVE, Chicago, IL': 74,\n",
       " '3300  N RUTHERFORD AVE, Chicago, IL': 74,\n",
       " '7900  S CHICAGO AVE, Chicago, IL': 74,\n",
       " '7500  N OAKLEY AVE, Chicago, IL': 69,\n",
       " '7200  N OKETO AVE, Chicago, IL': 66,\n",
       " '1300  N LARAMIE AVE, Chicago, IL': 65,\n",
       " '3000  W 18TH ST, Chicago, IL': 63,\n",
       " '1200  W GREENLEAF AVE, Chicago, IL': 63,\n",
       " '4200  W 65TH ST, Chicago, IL': 62,\n",
       " '3900  N SPRINGFIELD AVE, Chicago, IL': 62,\n",
       " '4800  W MONTANA ST, Chicago, IL': 60,\n",
       " '1700  W ADDISON ST, Chicago, IL': 54,\n",
       " '1700  N ASHLAND AVE, Chicago, IL': 50,\n",
       " '7100  N HARLEM AVE, Chicago, IL': 50,\n",
       " '2200  W 89TH ST, Chicago, IL': 50,\n",
       " '8900  S MUSKEGON AVE, Chicago, IL': 46,\n",
       " '3800  E 115TH ST, Chicago, IL': 45,\n",
       " '5100  W 72ND ST, Chicago, IL': 45,\n",
       " '4000  S DEARBORN ST, Chicago, IL': 44,\n",
       " '5800  N RIDGE AVE, Chicago, IL': 42,\n",
       " '1500  N LONG AVE, Chicago, IL': 41,\n",
       " '1500  W WEBSTER AVE, Chicago, IL': 35,\n",
       " '7900  W FOSTER AVE, Chicago, IL': 35,\n",
       " '6400  S STONY ISLAND AVE, Chicago, IL': 33,\n",
       " '6200  N MCCLELLAN AVE, Chicago, IL': 33,\n",
       " '1000  W 95TH ST, Chicago, IL': 33,\n",
       " '1100  S PEORIA ST, Chicago, IL': 32,\n",
       " '6500  N OAK PARK AVE, Chicago, IL': 31,\n",
       " '9100  W HIGGINS AVE, Chicago, IL': 31,\n",
       " '4200  N RICHMOND ST, Chicago, IL': 31,\n",
       " '7300  S CICERO AVE, Chicago, IL': 30,\n",
       " '6400  W STRONG ST, Chicago, IL': 30,\n",
       " '6800  W BELDEN AVE, Chicago, IL': 29,\n",
       " '5300  N STREETER DR, Chicago, IL': 29,\n",
       " '1000  S CALIFORNIA AVE, Chicago, IL': 28,\n",
       " '4900  W BALMORAL AVE, Chicago, IL': 27,\n",
       " '3000  S HOYNE AVE, Chicago, IL': 27,\n",
       " '9600  S HOYNE AVE, Chicago, IL': 26,\n",
       " '1100  S STATE ST, Chicago, IL': 26,\n",
       " '2000  E 111TH ST, Chicago, IL': 25,\n",
       " '6000  N AVONDALE AVE, Chicago, IL': 24,\n",
       " '4200  W 31ST ST, Chicago, IL': 24,\n",
       " '3800  N CALIFORNIA AVE, Chicago, IL': 23,\n",
       " '9800  S AVENUE G, Chicago, IL': 23,\n",
       " '6200  N MANDELL AVE, Chicago, IL': 23,\n",
       " '1800  W FARWELL AVE, Chicago, IL': 22,\n",
       " '5300  W AGATITE AVE, Chicago, IL': 22,\n",
       " '8100  E 91ST ST, Chicago, IL': 22,\n",
       " '2100  N LAWLER AVE, Chicago, IL': 21,\n",
       " '1800  W LELAND AVE, Chicago, IL': 21,\n",
       " '9300  S DR MARTIN LUTHER KING JR DR, Chicago, IL': 21,\n",
       " '6600  S KILPATRICK AVE, Chicago, IL': 21,\n",
       " '1300  S MACKINAW, Chicago, IL': 21,\n",
       " '5200  S NORDICA, Chicago, IL': 20,\n",
       " '4700  S CORNELL AVE, Chicago, IL': 20,\n",
       " '6100  S MELVINA AVE, Chicago, IL': 19,\n",
       " '4000  N AUSTIN AVE, Chicago, IL': 18,\n",
       " '8200  E 138TH ST, Chicago, IL': 17,\n",
       " '2100  N STAVE ST, Chicago, IL': 17,\n",
       " '2700  S WESTERN AVE, Chicago, IL': 17,\n",
       " '2500  S THROOP, Chicago, IL': 15,\n",
       " '3300  E RANDOLPH ST, Chicago, IL': 15,\n",
       " '4000  N TRIPP AVE, Chicago, IL': 15,\n",
       " '2200  W PERSHING RD, Chicago, IL': 15,\n",
       " '1500  W GRANVILLE AVE, Chicago, IL': 14,\n",
       " '8100  W 37TH PL., Chicago, IL': 14,\n",
       " '6000  W ROSCOE ST, Chicago, IL': 14,\n",
       " '8000  S KEDZIE AVE, Chicago, IL': 13,\n",
       " '4900  W SUNNYSIDE AVE, Chicago, IL': 12,\n",
       " '2100  N CANNON DR, Chicago, IL': 9,\n",
       " '6500  S RACINE AVE, Chicago, IL': 8,\n",
       " '1100  S WALLACE ST, Chicago, IL': 8,\n",
       " '3400  W 77TH ST, Chicago, IL': 7,\n",
       " '9600  S LONGWOOD DR, Chicago, IL': 5,\n",
       " '5500  S DR MARTIN LUTHER KING JR DR, Chicago, IL': 5,\n",
       " '2900  W 85TH ST, Chicago, IL': 3,\n",
       " '2100  S HAMLIN AVE, Chicago, IL': 2}"
      ]
     },
     "execution_count": 24,
     "metadata": {},
     "output_type": "execute_result"
    }
   ],
   "source": [
    "train['addressnumberandstreet'].value_counts().to_dict()"
   ]
  },
  {
   "cell_type": "markdown",
   "metadata": {},
   "source": [
    "### Address Accuracy"
   ]
  },
  {
   "cell_type": "code",
   "execution_count": 25,
   "metadata": {},
   "outputs": [
    {
     "data": {
      "text/plain": [
       "0"
      ]
     },
     "execution_count": 25,
     "metadata": {},
     "output_type": "execute_result"
    }
   ],
   "source": [
    "train.addressaccuracy.isnull().sum()"
   ]
  },
  {
   "cell_type": "code",
   "execution_count": 26,
   "metadata": {},
   "outputs": [
    {
     "data": {
      "text/plain": [
       "8    4628\n",
       "9    3980\n",
       "5    1807\n",
       "3      91\n",
       "Name: addressaccuracy, dtype: int64"
      ]
     },
     "execution_count": 26,
     "metadata": {},
     "output_type": "execute_result"
    }
   ],
   "source": [
    "train.addressaccuracy.value_counts()"
   ]
  },
  {
   "cell_type": "markdown",
   "metadata": {},
   "source": [
    "### No. of Mosquitos"
   ]
  },
  {
   "cell_type": "code",
   "execution_count": 27,
   "metadata": {},
   "outputs": [
    {
     "data": {
      "text/plain": [
       "0"
      ]
     },
     "execution_count": 27,
     "metadata": {},
     "output_type": "execute_result"
    }
   ],
   "source": [
    "train.nummosquitos.isnull().sum()"
   ]
  },
  {
   "cell_type": "code",
   "execution_count": 28,
   "metadata": {},
   "outputs": [
    {
     "data": {
      "text/plain": [
       "array([ 1,  4,  2,  3,  5,  9,  7, 10,  8,  6, 19, 20, 25, 16, 11, 12, 28,\n",
       "       18, 50, 35, 14, 22, 21, 37, 27, 13, 39, 29, 15, 17, 34, 26, 32, 47,\n",
       "       44, 23, 46, 48, 42, 33, 45, 24, 41, 38, 40, 36, 43, 49, 30, 31])"
      ]
     },
     "execution_count": 28,
     "metadata": {},
     "output_type": "execute_result"
    }
   ],
   "source": [
    "train.nummosquitos.unique()"
   ]
  },
  {
   "cell_type": "code",
   "execution_count": 29,
   "metadata": {},
   "outputs": [
    {
     "data": {
      "image/png": "[encoded data removed]",
      "text/plain": [
       "<Figure size 432x288 with 1 Axes>"
      ]
     },
     "metadata": {
      "needs_background": "light"
     },
     "output_type": "display_data"
    }
   ],
   "source": [
    "train.nummosquitos.hist()\n",
    "plt.title('Distribution of Number of Mosquitos')\n",
    "plt.xlabel('Mosquitos per trap instance (Max 50)')\n",
    "plt.ylabel('Count')\n",
    "plt.show()"
   ]
  },
  {
   "cell_type": "markdown",
   "metadata": {},
   "source": [
    "### WNV Presence"
   ]
  },
  {
   "cell_type": "code",
   "execution_count": 30,
   "metadata": {},
   "outputs": [
    {
     "data": {
      "text/plain": [
       "0"
      ]
     },
     "execution_count": 30,
     "metadata": {},
     "output_type": "execute_result"
    }
   ],
   "source": [
    "train.wnvpresent.isnull().sum()"
   ]
  },
  {
   "cell_type": "code",
   "execution_count": 31,
   "metadata": {},
   "outputs": [
    {
     "data": {
      "text/plain": [
       "0    9955\n",
       "1     551\n",
       "Name: wnvpresent, dtype: int64"
      ]
     },
     "execution_count": 31,
     "metadata": {},
     "output_type": "execute_result"
    }
   ],
   "source": [
    "train.wnvpresent.value_counts()"
   ]
  },
  {
   "cell_type": "code",
   "execution_count": 32,
   "metadata": {},
   "outputs": [
    {
     "data": {
      "text/plain": [
       "0.05244622120692937"
      ]
     },
     "execution_count": 32,
     "metadata": {},
     "output_type": "execute_result"
    }
   ],
   "source": [
    "train.wnvpresent.mean()"
   ]
  },
  {
   "cell_type": "markdown",
   "metadata": {},
   "source": [
    "Establishing baseline accuracy of classification model(s) at 0.0524"
   ]
  },
  {
   "cell_type": "markdown",
   "metadata": {},
   "source": [
    "### Trap"
   ]
  },
  {
   "cell_type": "code",
   "execution_count": 33,
   "metadata": {},
   "outputs": [
    {
     "data": {
      "text/plain": [
       "0"
      ]
     },
     "execution_count": 33,
     "metadata": {},
     "output_type": "execute_result"
    }
   ],
   "source": [
    "train.trap.isnull().sum()"
   ]
  },
  {
   "cell_type": "code",
   "execution_count": 34,
   "metadata": {},
   "outputs": [
    {
     "data": {
      "text/plain": [
       "T900     750\n",
       "T115     542\n",
       "T138     314\n",
       "T002     185\n",
       "T135     183\n",
       "        ... \n",
       "T238       7\n",
       "T076       5\n",
       "T094B      5\n",
       "T237       3\n",
       "T040       2\n",
       "Name: trap, Length: 136, dtype: int64"
      ]
     },
     "execution_count": 34,
     "metadata": {},
     "output_type": "execute_result"
    }
   ],
   "source": [
    "train.trap.value_counts()"
   ]
  },
  {
   "cell_type": "code",
   "execution_count": 35,
   "metadata": {},
   "outputs": [
    {
     "data": {
      "text/plain": [
       "array(['T002', 'T007', 'T015', 'T045', 'T046', 'T048', 'T049', 'T050',\n",
       "       'T054', 'T086', 'T091', 'T094', 'T096', 'T129', 'T143', 'T148',\n",
       "       'T153', 'T159', 'T009', 'T011', 'T016', 'T019', 'T025', 'T028',\n",
       "       'T031', 'T033', 'T089', 'T090', 'T092', 'T135', 'T141', 'T142',\n",
       "       'T145', 'T146', 'T147', 'T149', 'T150', 'T151', 'T152', 'T154',\n",
       "       'T158', 'T162', 'T218', 'T220', 'T001', 'T003', 'T006', 'T008',\n",
       "       'T012', 'T034', 'T037', 'T040', 'T043', 'T047', 'T051', 'T085',\n",
       "       'T088', 'T161', 'T219', 'T013', 'T014', 'T018', 'T030', 'T084',\n",
       "       'T144', 'T160', 'T005', 'T017', 'T044', 'T095', 'T004', 'T035',\n",
       "       'T036', 'T039', 'T060', 'T061', 'T062', 'T065', 'T066', 'T067',\n",
       "       'T069', 'T070', 'T071', 'T073', 'T074', 'T075', 'T076', 'T077',\n",
       "       'T079', 'T080', 'T081', 'T082', 'T083', 'T114', 'T155', 'T063',\n",
       "       'T115', 'T138', 'T200', 'T206', 'T209', 'T212', 'T215', 'T107',\n",
       "       'T128', 'T072', 'T078', 'T097', 'T099', 'T100', 'T102', 'T103',\n",
       "       'T027', 'T156', 'T157', 'T221', 'T900', 'T903', 'T222', 'T223',\n",
       "       'T225', 'T227', 'T224', 'T226', 'T229', 'T230', 'T228', 'T232',\n",
       "       'T231', 'T235', 'T233', 'T236', 'T237', 'T238', 'T094B', 'T054C'],\n",
       "      dtype=object)"
      ]
     },
     "execution_count": 35,
     "metadata": {},
     "output_type": "execute_result"
    }
   ],
   "source": [
    "train.trap.unique()"
   ]
  },
  {
   "cell_type": "markdown",
   "metadata": {},
   "source": [
    "### Latitude"
   ]
  },
  {
   "cell_type": "code",
   "execution_count": 36,
   "metadata": {},
   "outputs": [
    {
     "data": {
      "text/plain": [
       "0"
      ]
     },
     "execution_count": 36,
     "metadata": {},
     "output_type": "execute_result"
    }
   ],
   "source": [
    "train.latitude.isnull().sum()"
   ]
  },
  {
   "cell_type": "code",
   "execution_count": 37,
   "metadata": {},
   "outputs": [
    {
     "data": {
      "text/plain": [
       "array([41.95469 , 41.994991, 41.974089, 41.9216  , 41.891118, 41.867108,\n",
       "       41.896282, 41.919343, 41.921965, 41.688324, 41.862292, 41.720848,\n",
       "       41.731922, 41.891126, 41.999129, 42.01743 , 41.907645, 41.732984,\n",
       "       41.981964, 41.944869, 42.011601, 41.94983 , 41.979243, 41.986921,\n",
       "       41.801498, 41.906638, 41.723195, 41.868077, 41.869216, 41.662014,\n",
       "       41.961743, 41.953067, 41.878114, 41.958271, 41.932094, 41.994469,\n",
       "       42.006858, 41.916265, 41.846075, 41.918705, 41.682587, 41.725517,\n",
       "       41.948167, 41.963976, 41.953705, 41.964242, 41.990284, 42.008314,\n",
       "       41.991429, 41.843811, 41.921177, 41.852652, 41.857402, 41.868142,\n",
       "       41.846283, 41.721474, 41.869107, 41.719059, 41.966987, 41.923738,\n",
       "       41.970248, 42.010412, 41.89923 , 41.692555, 41.94016 , 41.903002,\n",
       "       41.942114, 41.960616, 41.883284, 41.704336, 41.962728, 41.836644,\n",
       "       41.837085, 41.911824, 41.823065, 41.801179, 41.800737, 41.778297,\n",
       "       41.77166 , 41.759346, 41.768388, 41.797616, 41.781416, 41.773215,\n",
       "       41.822536, 41.799282, 41.794781, 41.778748, 41.766202, 41.754676,\n",
       "       41.821582, 41.803423, 41.754292, 41.798697, 41.776156, 41.82561 ,\n",
       "       41.673408, 41.726465, 41.678618, 41.737052, 41.740641, 41.680946,\n",
       "       41.686398, 41.729669, 41.704572, 41.74785 , 41.775051, 41.644612,\n",
       "       41.733643, 41.717753, 41.750498, 41.702724, 41.984809, 41.772846,\n",
       "       41.825902, 41.659112, 41.992478, 41.974689, 41.957799, 41.925198,\n",
       "       41.973845, 41.743402, 41.728495, 41.947227, 41.793818, 41.753411,\n",
       "       41.904194, 41.951866, 41.912563, 41.763733, 41.98728 , 41.776428,\n",
       "       42.009876, 41.994679, 41.738903, 41.753391, 41.71914 , 41.925652])"
      ]
     },
     "execution_count": 37,
     "metadata": {},
     "output_type": "execute_result"
    }
   ],
   "source": [
    "train['latitude'].unique()"
   ]
  },
  {
   "cell_type": "markdown",
   "metadata": {},
   "source": [
    "### Longitude"
   ]
  },
  {
   "cell_type": "code",
   "execution_count": 38,
   "metadata": {},
   "outputs": [
    {
     "data": {
      "text/plain": [
       "0"
      ]
     },
     "execution_count": 38,
     "metadata": {},
     "output_type": "execute_result"
    }
   ],
   "source": [
    "train.longitude.isnull().sum()"
   ]
  },
  {
   "cell_type": "code",
   "execution_count": 39,
   "metadata": {},
   "outputs": [
    {
     "data": {
      "text/plain": [
       "array([-87.800991, -87.769279, -87.824812, -87.666455, -87.654491,\n",
       "       -87.654224, -87.655232, -87.694259, -87.632085, -87.676709,\n",
       "       -87.64886 , -87.666014, -87.677512, -87.61156 , -87.795585,\n",
       "       -87.687769, -87.760886, -87.649642, -87.812827, -87.832763,\n",
       "       -87.811506, -87.698457, -87.750938, -87.689778, -87.763416,\n",
       "       -87.701431, -87.64997 , -87.666901, -87.627561, -87.724608,\n",
       "       -87.76007 , -87.776792, -87.629798, -87.702575, -87.700117,\n",
       "       -87.667736, -87.675919, -87.800515, -87.716277, -87.752329,\n",
       "       -87.707973, -87.614258, -87.730698, -87.69181 , -87.733974,\n",
       "       -87.757639, -87.797127, -87.777921, -87.747113, -87.686763,\n",
       "       -87.79518 , -87.719887, -87.694991, -87.696269, -87.656913,\n",
       "       -87.648064, -87.696293, -87.675088, -87.674677, -87.785288,\n",
       "       -87.787992, -87.66214 , -87.716788, -87.598865, -87.794896,\n",
       "       -87.688267, -87.776385, -87.777189, -87.705085, -87.703736,\n",
       "       -87.748367, -87.677737, -87.729384, -87.726737, -87.678378,\n",
       "       -87.679447, -87.71188 , -87.752411, -87.703047, -87.745602,\n",
       "       -87.678649, -87.797894, -87.776532, -87.60088 , -87.666343,\n",
       "       -87.585487, -87.615989, -87.586427, -87.562889, -87.612922,\n",
       "       -87.627796, -87.642984, -87.590773, -87.736812, -87.778927,\n",
       "       -87.726549, -87.599862, -87.585413, -87.559308, -87.543067,\n",
       "       -87.546587, -87.535198, -87.531635, -87.582699, -87.565666,\n",
       "       -87.702716, -87.655356, -87.604498, -87.55551 , -87.531657,\n",
       "       -87.605294, -87.536497, -87.728492, -87.740029, -87.667827,\n",
       "       -87.538693, -87.862995, -87.890615, -87.930995, -87.746381,\n",
       "       -87.805059, -87.731435, -87.600963, -87.671457, -87.654234,\n",
       "       -87.639817, -87.756155, -87.725057, -87.668055, -87.742302,\n",
       "       -87.666066, -87.627096, -87.807277, -87.770899, -87.695443,\n",
       "       -87.707394, -87.669539, -87.63359 ])"
      ]
     },
     "execution_count": 39,
     "metadata": {},
     "output_type": "execute_result"
    }
   ],
   "source": [
    "train['longitude'].unique()"
   ]
  },
  {
   "cell_type": "code",
   "execution_count": null,
   "metadata": {},
   "outputs": [],
   "source": []
  }
 ],
 "metadata": {
  "kernelspec": {
   "display_name": "Python 3",
   "language": "python",
   "name": "python3"
  },
  "language_info": {
   "codemirror_mode": {
    "name": "ipython",
    "version": 3
   },
   "file_extension": ".py",
   "mimetype": "text/x-python",
   "name": "python",
   "nbconvert_exporter": "python",
   "pygments_lexer": "ipython3",
   "version": "3.7.4"
  }
 },
 "nbformat": 4,
 "nbformat_minor": 2
}
