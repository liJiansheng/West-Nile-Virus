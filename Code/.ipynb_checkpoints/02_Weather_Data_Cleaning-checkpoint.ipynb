{
 "cells": [
  {
   "cell_type": "markdown",
   "metadata": {},
   "source": [
    "# Importing libraries and reading CSV files"
   ]
  },
  {
   "cell_type": "code",
   "execution_count": 1,
   "metadata": {},
   "outputs": [],
   "source": [
    "import pandas as pd\n",
    "from datetime import datetime\n",
    "import numpy as np\n",
    "import matplotlib.pyplot as plt\n",
    "import seaborn as sns"
   ]
  },
  {
   "cell_type": "code",
   "execution_count": 2,
   "metadata": {},
   "outputs": [],
   "source": [
    "weather = pd.read_csv ('../datasets/weather.csv')"
   ]
  },
  {
   "cell_type": "markdown",
   "metadata": {},
   "source": [
    "| Feature     | File  | Description                                                                                                 |\n",
    "|-------------|-------|-------------------------------------------------------------------------------------------------------------|\n",
    "| Station     | Weather | date that the WNV test is performed                                                                         |\n",
    "| Date        | Weather | approximate address of the location of trap\\. This is used to send to the GeoCoder\\.                        |\n",
    "| Tmax        | Weather | the species of mosquitos                                                                                    |\n",
    "| Tmin        | Weather | block number of address                                                                                     |\n",
    "| Tavg        | Weather | street name                                                                                                 |\n",
    "| Depart      | Weather | Id of the trap                                                                                              |\n",
    "| DewPoint    | Weather | approximate address returned from GeoCoder                                                                  |\n",
    "| WetBulb     | Weather | Latitude and Longitude returned from GeoCoder                                                               |\n",
    "| Heat        | Weather | accuracy returned from GeoCoder                                                                             |\n",
    "| Cool        | Weather | number of mosquitoes caught in this trap                                                                    |\n",
    "| Sunrise     | Weather | whether West Nile Virus was present in these mosquitos\\. 1 means WNV is present, and 0 means not present\\.  |\n",
    "| Sunset      | Weather |                                                                                                             |\n",
    "| CodeSum     | Weather |                                                                                                             |\n",
    "| Depth       | Weather |                                                                                                             |\n",
    "| Water1      | Weather |                                                                                                             |\n",
    "| SnowFall    | Weather |                                                                                                             |\n",
    "| PrecipTotal | Weather |                                                                                                             |\n",
    "| StnPressure | Weather |                                                                                                             |\n",
    "| SeaLevel    | Weather |                                                                                                             |\n",
    "| ResultSpeed | Weather |                                                                                                             |\n",
    "| ResultDir   | Weather |                                                                                                             |\n",
    "| AvgSpeed    | Weather |                                                                                                             |\n",
    "\n"
   ]
  },
  {
   "cell_type": "code",
   "execution_count": 3,
   "metadata": {
    "scrolled": true
   },
   "outputs": [
    {
     "data": {
      "text/plain": [
       "(2944, 22)"
      ]
     },
     "execution_count": 3,
     "metadata": {},
     "output_type": "execute_result"
    }
   ],
   "source": [
    "weather.shape"
   ]
  },
  {
   "cell_type": "code",
   "execution_count": 4,
   "metadata": {},
   "outputs": [
    {
     "data": {
      "text/plain": [
       "Index(['Station', 'Date', 'Tmax', 'Tmin', 'Tavg', 'Depart', 'DewPoint',\n",
       "       'WetBulb', 'Heat', 'Cool', 'Sunrise', 'Sunset', 'CodeSum', 'Depth',\n",
       "       'Water1', 'SnowFall', 'PrecipTotal', 'StnPressure', 'SeaLevel',\n",
       "       'ResultSpeed', 'ResultDir', 'AvgSpeed'],\n",
       "      dtype='object')"
      ]
     },
     "execution_count": 4,
     "metadata": {},
     "output_type": "execute_result"
    }
   ],
   "source": [
    "weather.columns"
   ]
  },
  {
   "cell_type": "code",
   "execution_count": 5,
   "metadata": {},
   "outputs": [],
   "source": [
    "weather.columns = weather.columns.map(lambda x: x.lower())"
   ]
  },
  {
   "cell_type": "code",
   "execution_count": 6,
   "metadata": {},
   "outputs": [
    {
     "data": {
      "text/plain": [
       "Index(['station', 'date', 'tmax', 'tmin', 'tavg', 'depart', 'dewpoint',\n",
       "       'wetbulb', 'heat', 'cool', 'sunrise', 'sunset', 'codesum', 'depth',\n",
       "       'water1', 'snowfall', 'preciptotal', 'stnpressure', 'sealevel',\n",
       "       'resultspeed', 'resultdir', 'avgspeed'],\n",
       "      dtype='object')"
      ]
     },
     "execution_count": 6,
     "metadata": {},
     "output_type": "execute_result"
    }
   ],
   "source": [
    "weather.columns"
   ]
  },
  {
   "cell_type": "code",
   "execution_count": 7,
   "metadata": {},
   "outputs": [
    {
     "data": {
      "text/plain": [
       "station        0\n",
       "date           0\n",
       "tmax           0\n",
       "tmin           0\n",
       "tavg           0\n",
       "depart         0\n",
       "dewpoint       0\n",
       "wetbulb        0\n",
       "heat           0\n",
       "cool           0\n",
       "sunrise        0\n",
       "sunset         0\n",
       "codesum        0\n",
       "depth          0\n",
       "water1         0\n",
       "snowfall       0\n",
       "preciptotal    0\n",
       "stnpressure    0\n",
       "sealevel       0\n",
       "resultspeed    0\n",
       "resultdir      0\n",
       "avgspeed       0\n",
       "dtype: int64"
      ]
     },
     "execution_count": 7,
     "metadata": {},
     "output_type": "execute_result"
    }
   ],
   "source": [
    "weather.isnull().sum()"
   ]
  },
  {
   "cell_type": "code",
   "execution_count": 8,
   "metadata": {},
   "outputs": [
    {
     "name": "stdout",
     "output_type": "stream",
     "text": [
      "<class 'pandas.core.frame.DataFrame'>\n",
      "RangeIndex: 2944 entries, 0 to 2943\n",
      "Data columns (total 22 columns):\n",
      "station        2944 non-null int64\n",
      "date           2944 non-null object\n",
      "tmax           2944 non-null int64\n",
      "tmin           2944 non-null int64\n",
      "tavg           2944 non-null object\n",
      "depart         2944 non-null object\n",
      "dewpoint       2944 non-null int64\n",
      "wetbulb        2944 non-null object\n",
      "heat           2944 non-null object\n",
      "cool           2944 non-null object\n",
      "sunrise        2944 non-null object\n",
      "sunset         2944 non-null object\n",
      "codesum        2944 non-null object\n",
      "depth          2944 non-null object\n",
      "water1         2944 non-null object\n",
      "snowfall       2944 non-null object\n",
      "preciptotal    2944 non-null object\n",
      "stnpressure    2944 non-null object\n",
      "sealevel       2944 non-null object\n",
      "resultspeed    2944 non-null float64\n",
      "resultdir      2944 non-null int64\n",
      "avgspeed       2944 non-null object\n",
      "dtypes: float64(1), int64(5), object(16)\n",
      "memory usage: 506.1+ KB\n"
     ]
    }
   ],
   "source": [
    "weather.info()"
   ]
  },
  {
   "cell_type": "markdown",
   "metadata": {},
   "source": [
    "Non-object features are: `Station`, `Tmax`, `Tmin`, `Dewpoint`, `ResultSpeed`, and `ResultDir`.\n",
    "`.isnull()` should be enough to filter out null items"
   ]
  },
  {
   "cell_type": "markdown",
   "metadata": {},
   "source": [
    "Need to check more in-depth for other object features"
   ]
  },
  {
   "cell_type": "code",
   "execution_count": 9,
   "metadata": {
    "scrolled": true
   },
   "outputs": [
    {
     "data": {
      "text/html": [
       "<div>\n",
       "<style scoped>\n",
       "    .dataframe tbody tr th:only-of-type {\n",
       "        vertical-align: middle;\n",
       "    }\n",
       "\n",
       "    .dataframe tbody tr th {\n",
       "        vertical-align: top;\n",
       "    }\n",
       "\n",
       "    .dataframe thead th {\n",
       "        text-align: right;\n",
       "    }\n",
       "</style>\n",
       "<table border=\"1\" class=\"dataframe\">\n",
       "  <thead>\n",
       "    <tr style=\"text-align: right;\">\n",
       "      <th></th>\n",
       "      <th>0</th>\n",
       "      <th>1</th>\n",
       "      <th>2</th>\n",
       "      <th>3</th>\n",
       "      <th>4</th>\n",
       "    </tr>\n",
       "  </thead>\n",
       "  <tbody>\n",
       "    <tr>\n",
       "      <th>station</th>\n",
       "      <td>1</td>\n",
       "      <td>2</td>\n",
       "      <td>1</td>\n",
       "      <td>2</td>\n",
       "      <td>1</td>\n",
       "    </tr>\n",
       "    <tr>\n",
       "      <th>date</th>\n",
       "      <td>2007-05-01</td>\n",
       "      <td>2007-05-01</td>\n",
       "      <td>2007-05-02</td>\n",
       "      <td>2007-05-02</td>\n",
       "      <td>2007-05-03</td>\n",
       "    </tr>\n",
       "    <tr>\n",
       "      <th>tmax</th>\n",
       "      <td>83</td>\n",
       "      <td>84</td>\n",
       "      <td>59</td>\n",
       "      <td>60</td>\n",
       "      <td>66</td>\n",
       "    </tr>\n",
       "    <tr>\n",
       "      <th>tmin</th>\n",
       "      <td>50</td>\n",
       "      <td>52</td>\n",
       "      <td>42</td>\n",
       "      <td>43</td>\n",
       "      <td>46</td>\n",
       "    </tr>\n",
       "    <tr>\n",
       "      <th>tavg</th>\n",
       "      <td>67</td>\n",
       "      <td>68</td>\n",
       "      <td>51</td>\n",
       "      <td>52</td>\n",
       "      <td>56</td>\n",
       "    </tr>\n",
       "    <tr>\n",
       "      <th>depart</th>\n",
       "      <td>14</td>\n",
       "      <td>M</td>\n",
       "      <td>-3</td>\n",
       "      <td>M</td>\n",
       "      <td>2</td>\n",
       "    </tr>\n",
       "    <tr>\n",
       "      <th>dewpoint</th>\n",
       "      <td>51</td>\n",
       "      <td>51</td>\n",
       "      <td>42</td>\n",
       "      <td>42</td>\n",
       "      <td>40</td>\n",
       "    </tr>\n",
       "    <tr>\n",
       "      <th>wetbulb</th>\n",
       "      <td>56</td>\n",
       "      <td>57</td>\n",
       "      <td>47</td>\n",
       "      <td>47</td>\n",
       "      <td>48</td>\n",
       "    </tr>\n",
       "    <tr>\n",
       "      <th>heat</th>\n",
       "      <td>0</td>\n",
       "      <td>0</td>\n",
       "      <td>14</td>\n",
       "      <td>13</td>\n",
       "      <td>9</td>\n",
       "    </tr>\n",
       "    <tr>\n",
       "      <th>cool</th>\n",
       "      <td>2</td>\n",
       "      <td>3</td>\n",
       "      <td>0</td>\n",
       "      <td>0</td>\n",
       "      <td>0</td>\n",
       "    </tr>\n",
       "    <tr>\n",
       "      <th>sunrise</th>\n",
       "      <td>0448</td>\n",
       "      <td>-</td>\n",
       "      <td>0447</td>\n",
       "      <td>-</td>\n",
       "      <td>0446</td>\n",
       "    </tr>\n",
       "    <tr>\n",
       "      <th>sunset</th>\n",
       "      <td>1849</td>\n",
       "      <td>-</td>\n",
       "      <td>1850</td>\n",
       "      <td>-</td>\n",
       "      <td>1851</td>\n",
       "    </tr>\n",
       "    <tr>\n",
       "      <th>codesum</th>\n",
       "      <td></td>\n",
       "      <td></td>\n",
       "      <td>BR</td>\n",
       "      <td>BR HZ</td>\n",
       "      <td></td>\n",
       "    </tr>\n",
       "    <tr>\n",
       "      <th>depth</th>\n",
       "      <td>0</td>\n",
       "      <td>M</td>\n",
       "      <td>0</td>\n",
       "      <td>M</td>\n",
       "      <td>0</td>\n",
       "    </tr>\n",
       "    <tr>\n",
       "      <th>water1</th>\n",
       "      <td>M</td>\n",
       "      <td>M</td>\n",
       "      <td>M</td>\n",
       "      <td>M</td>\n",
       "      <td>M</td>\n",
       "    </tr>\n",
       "    <tr>\n",
       "      <th>snowfall</th>\n",
       "      <td>0.0</td>\n",
       "      <td>M</td>\n",
       "      <td>0.0</td>\n",
       "      <td>M</td>\n",
       "      <td>0.0</td>\n",
       "    </tr>\n",
       "    <tr>\n",
       "      <th>preciptotal</th>\n",
       "      <td>0.00</td>\n",
       "      <td>0.00</td>\n",
       "      <td>0.00</td>\n",
       "      <td>0.00</td>\n",
       "      <td>0.00</td>\n",
       "    </tr>\n",
       "    <tr>\n",
       "      <th>stnpressure</th>\n",
       "      <td>29.10</td>\n",
       "      <td>29.18</td>\n",
       "      <td>29.38</td>\n",
       "      <td>29.44</td>\n",
       "      <td>29.39</td>\n",
       "    </tr>\n",
       "    <tr>\n",
       "      <th>sealevel</th>\n",
       "      <td>29.82</td>\n",
       "      <td>29.82</td>\n",
       "      <td>30.09</td>\n",
       "      <td>30.08</td>\n",
       "      <td>30.12</td>\n",
       "    </tr>\n",
       "    <tr>\n",
       "      <th>resultspeed</th>\n",
       "      <td>1.7</td>\n",
       "      <td>2.7</td>\n",
       "      <td>13</td>\n",
       "      <td>13.3</td>\n",
       "      <td>11.7</td>\n",
       "    </tr>\n",
       "    <tr>\n",
       "      <th>resultdir</th>\n",
       "      <td>27</td>\n",
       "      <td>25</td>\n",
       "      <td>4</td>\n",
       "      <td>2</td>\n",
       "      <td>7</td>\n",
       "    </tr>\n",
       "    <tr>\n",
       "      <th>avgspeed</th>\n",
       "      <td>9.2</td>\n",
       "      <td>9.6</td>\n",
       "      <td>13.4</td>\n",
       "      <td>13.4</td>\n",
       "      <td>11.9</td>\n",
       "    </tr>\n",
       "  </tbody>\n",
       "</table>\n",
       "</div>"
      ],
      "text/plain": [
       "                      0           1           2           3           4\n",
       "station               1           2           1           2           1\n",
       "date         2007-05-01  2007-05-01  2007-05-02  2007-05-02  2007-05-03\n",
       "tmax                 83          84          59          60          66\n",
       "tmin                 50          52          42          43          46\n",
       "tavg                 67          68          51          52          56\n",
       "depart               14           M          -3           M           2\n",
       "dewpoint             51          51          42          42          40\n",
       "wetbulb              56          57          47          47          48\n",
       "heat                  0           0          14          13           9\n",
       "cool                  2           3           0           0           0\n",
       "sunrise            0448           -        0447           -        0446\n",
       "sunset             1849           -        1850           -        1851\n",
       "codesum                                      BR       BR HZ            \n",
       "depth                 0           M           0           M           0\n",
       "water1                M           M           M           M           M\n",
       "snowfall            0.0           M         0.0           M         0.0\n",
       "preciptotal        0.00        0.00        0.00        0.00        0.00\n",
       "stnpressure       29.10       29.18       29.38       29.44       29.39\n",
       "sealevel          29.82       29.82       30.09       30.08       30.12\n",
       "resultspeed         1.7         2.7          13        13.3        11.7\n",
       "resultdir            27          25           4           2           7\n",
       "avgspeed            9.2         9.6        13.4        13.4        11.9"
      ]
     },
     "execution_count": 9,
     "metadata": {},
     "output_type": "execute_result"
    }
   ],
   "source": [
    "weather.head().T"
   ]
  },
  {
   "cell_type": "code",
   "execution_count": 10,
   "metadata": {},
   "outputs": [
    {
     "name": "stdout",
     "output_type": "stream",
     "text": [
      "station\n",
      "0\n",
      "date\n",
      "0\n",
      "tmax\n",
      "0\n",
      "tmin\n",
      "0\n",
      "tavg\n",
      "11\n",
      "depart\n",
      "1472\n",
      "dewpoint\n",
      "0\n",
      "wetbulb\n",
      "4\n",
      "heat\n",
      "11\n",
      "cool\n",
      "11\n",
      "sunrise\n",
      "0\n",
      "sunset\n",
      "0\n",
      "codesum\n",
      "0\n",
      "depth\n",
      "1472\n",
      "water1\n",
      "2944\n",
      "snowfall\n",
      "1472\n",
      "preciptotal\n",
      "2\n",
      "stnpressure\n",
      "4\n",
      "sealevel\n",
      "9\n",
      "resultspeed\n",
      "0\n",
      "resultdir\n",
      "0\n",
      "avgspeed\n",
      "3\n"
     ]
    },
    {
     "name": "stderr",
     "output_type": "stream",
     "text": [
      "/opt/anaconda3/envs/DSI/lib/python3.7/site-packages/pandas/core/ops/__init__.py:1115: FutureWarning: elementwise comparison failed; returning scalar instead, but in the future will perform elementwise comparison\n",
      "  result = method(y)\n"
     ]
    }
   ],
   "source": [
    "for i, column in enumerate(weather):\n",
    "    print(weather.columns[i])\n",
    "    print(weather[weather[column]=='M'][column].count())"
   ]
  },
  {
   "cell_type": "markdown",
   "metadata": {},
   "source": [
    "### Station"
   ]
  },
  {
   "cell_type": "code",
   "execution_count": 11,
   "metadata": {},
   "outputs": [
    {
     "data": {
      "text/plain": [
       "1    1472\n",
       "2    1472\n",
       "Name: station, dtype: int64"
      ]
     },
     "execution_count": 11,
     "metadata": {},
     "output_type": "execute_result"
    }
   ],
   "source": [
    "weather.station.value_counts()"
   ]
  },
  {
   "cell_type": "markdown",
   "metadata": {},
   "source": [
    "### Date"
   ]
  },
  {
   "cell_type": "code",
   "execution_count": 12,
   "metadata": {},
   "outputs": [
    {
     "data": {
      "text/plain": [
       "2944"
      ]
     },
     "execution_count": 12,
     "metadata": {},
     "output_type": "execute_result"
    }
   ],
   "source": [
    "weather.date.value_counts().sum()"
   ]
  },
  {
   "cell_type": "code",
   "execution_count": 13,
   "metadata": {},
   "outputs": [
    {
     "data": {
      "text/plain": [
       "count           2944\n",
       "unique          1472\n",
       "top       2013-09-29\n",
       "freq               2\n",
       "Name: date, dtype: object"
      ]
     },
     "execution_count": 13,
     "metadata": {},
     "output_type": "execute_result"
    }
   ],
   "source": [
    "weather.date.describe()"
   ]
  },
  {
   "cell_type": "code",
   "execution_count": 14,
   "metadata": {},
   "outputs": [
    {
     "data": {
      "text/plain": [
       "0       2007-05-01\n",
       "1       2007-05-01\n",
       "2       2007-05-02\n",
       "3       2007-05-02\n",
       "4       2007-05-03\n",
       "           ...    \n",
       "2939    2014-10-29\n",
       "2940    2014-10-30\n",
       "2941    2014-10-30\n",
       "2942    2014-10-31\n",
       "2943    2014-10-31\n",
       "Name: date, Length: 2944, dtype: object"
      ]
     },
     "execution_count": 14,
     "metadata": {},
     "output_type": "execute_result"
    }
   ],
   "source": [
    "weather['date']"
   ]
  },
  {
   "cell_type": "code",
   "execution_count": 15,
   "metadata": {},
   "outputs": [],
   "source": [
    "weather['date']=pd.to_datetime(weather['date'])"
   ]
  },
  {
   "cell_type": "code",
   "execution_count": 16,
   "metadata": {},
   "outputs": [
    {
     "data": {
      "text/plain": [
       "pandas.core.series.Series"
      ]
     },
     "execution_count": 16,
     "metadata": {},
     "output_type": "execute_result"
    }
   ],
   "source": [
    "type(weather['date'])"
   ]
  },
  {
   "cell_type": "code",
   "execution_count": 17,
   "metadata": {},
   "outputs": [
    {
     "data": {
      "text/plain": [
       "0       2007\n",
       "1       2007\n",
       "2       2007\n",
       "3       2007\n",
       "4       2007\n",
       "        ... \n",
       "2939    2014\n",
       "2940    2014\n",
       "2941    2014\n",
       "2942    2014\n",
       "2943    2014\n",
       "Name: date, Length: 2944, dtype: int64"
      ]
     },
     "execution_count": 17,
     "metadata": {},
     "output_type": "execute_result"
    }
   ],
   "source": [
    "weather['date'].dt.year"
   ]
  },
  {
   "cell_type": "markdown",
   "metadata": {},
   "source": [
    "### Tmax"
   ]
  },
  {
   "cell_type": "code",
   "execution_count": 18,
   "metadata": {
    "scrolled": false
   },
   "outputs": [
    {
     "data": {
      "text/plain": [
       "array([ 83,  84,  59,  60,  66,  67,  78,  68,  82,  80,  77,  76,  70,\n",
       "        73,  64,  65,  69,  90,  62,  61,  71,  79,  87,  89,  88,  75,\n",
       "        85,  86,  81,  72,  63,  91,  92,  93,  74,  94,  54,  53,  56,\n",
       "        57,  58,  55,  50,  95,  52,  47,  45,  51,  48,  44,  49,  46,\n",
       "        96,  99, 100, 101,  97,  98, 102, 103, 104,  42,  41])"
      ]
     },
     "execution_count": 18,
     "metadata": {},
     "output_type": "execute_result"
    }
   ],
   "source": [
    "weather.tmax.unique()"
   ]
  },
  {
   "cell_type": "markdown",
   "metadata": {},
   "source": [
    "### Tmin"
   ]
  },
  {
   "cell_type": "code",
   "execution_count": 19,
   "metadata": {},
   "outputs": [
    {
     "data": {
      "text/plain": [
       "array([50, 52, 42, 43, 46, 48, 49, 51, 53, 54, 47, 60, 61, 63, 56, 59, 44,\n",
       "       57, 45, 55, 66, 65, 70, 68, 62, 67, 64, 58, 71, 69, 73, 75, 72, 74,\n",
       "       39, 41, 40, 37, 34, 38, 35, 36, 33, 31, 32, 76, 77, 29, 78, 79, 80,\n",
       "       81, 82, 83])"
      ]
     },
     "execution_count": 19,
     "metadata": {},
     "output_type": "execute_result"
    }
   ],
   "source": [
    "weather.tmin.unique()"
   ]
  },
  {
   "cell_type": "markdown",
   "metadata": {},
   "source": [
    "### Tavg"
   ]
  },
  {
   "cell_type": "code",
   "execution_count": 20,
   "metadata": {},
   "outputs": [
    {
     "data": {
      "text/plain": [
       "array(['67', '68', '51', '52', '56', '58', 'M', '60', '59', '65', '70',\n",
       "       '69', '71', '61', '55', '57', '73', '72', '53', '62', '63', '74',\n",
       "       '75', '78', '76', '77', '66', '80', '64', '81', '82', '79', '85',\n",
       "       '84', '83', '50', '49', '46', '48', '45', '54', '47', '44', '40',\n",
       "       '41', '38', '39', '42', '37', '43', '86', '87', '89', '92', '88',\n",
       "       '91', '93', '94', '90', '36'], dtype=object)"
      ]
     },
     "execution_count": 20,
     "metadata": {},
     "output_type": "execute_result"
    }
   ],
   "source": [
    "weather.tavg.unique()"
   ]
  },
  {
   "cell_type": "markdown",
   "metadata": {},
   "source": [
    "'M' is represented by missing data, hence dropping rows with 'M'"
   ]
  },
  {
   "cell_type": "code",
   "execution_count": 21,
   "metadata": {},
   "outputs": [
    {
     "data": {
      "text/plain": [
       "11"
      ]
     },
     "execution_count": 21,
     "metadata": {},
     "output_type": "execute_result"
    }
   ],
   "source": [
    "tavg_missing = weather['tavg'].map(lambda x: x == 'M')\n",
    "tavg_missing.sum()"
   ]
  },
  {
   "cell_type": "code",
   "execution_count": 22,
   "metadata": {},
   "outputs": [],
   "source": [
    "weather = weather[~tavg_missing]"
   ]
  },
  {
   "cell_type": "code",
   "execution_count": 23,
   "metadata": {},
   "outputs": [],
   "source": [
    "weather['tavg'] = weather['tavg'].astype(float)"
   ]
  },
  {
   "cell_type": "markdown",
   "metadata": {},
   "source": [
    "We will use average temperature for our feature and will be dropping **Tmin** and **Tmax**."
   ]
  },
  {
   "cell_type": "code",
   "execution_count": 24,
   "metadata": {},
   "outputs": [],
   "source": [
    "weather.drop('tmin', 1, inplace=True)\n",
    "weather.drop('tmax', 1, inplace=True)"
   ]
  },
  {
   "cell_type": "markdown",
   "metadata": {},
   "source": [
    "### Depart"
   ]
  },
  {
   "cell_type": "code",
   "execution_count": 25,
   "metadata": {},
   "outputs": [],
   "source": [
    "weather.drop('depart', 1, inplace=True)"
   ]
  },
  {
   "cell_type": "markdown",
   "metadata": {},
   "source": [
    "### DewPoint"
   ]
  },
  {
   "cell_type": "code",
   "execution_count": 26,
   "metadata": {
    "scrolled": true
   },
   "outputs": [
    {
     "data": {
      "text/plain": [
       "0"
      ]
     },
     "execution_count": 26,
     "metadata": {},
     "output_type": "execute_result"
    }
   ],
   "source": [
    "weather.dewpoint.isnull().sum()"
   ]
  },
  {
   "cell_type": "markdown",
   "metadata": {},
   "source": [
    "Dewpoint will be used in humidity function and after we add the humidity values, will be dropping this feature."
   ]
  },
  {
   "cell_type": "markdown",
   "metadata": {},
   "source": [
    "### WetBulb"
   ]
  },
  {
   "cell_type": "code",
   "execution_count": 27,
   "metadata": {
    "scrolled": true
   },
   "outputs": [
    {
     "data": {
      "text/plain": [
       "4"
      ]
     },
     "execution_count": 27,
     "metadata": {},
     "output_type": "execute_result"
    }
   ],
   "source": [
    "wetbulb_missing = weather['wetbulb'].map(lambda x: x == 'M')\n",
    "wetbulb_missing.sum()"
   ]
  },
  {
   "cell_type": "code",
   "execution_count": 28,
   "metadata": {},
   "outputs": [],
   "source": [
    "weather = weather[~wetbulb_missing]"
   ]
  },
  {
   "cell_type": "code",
   "execution_count": 29,
   "metadata": {},
   "outputs": [],
   "source": [
    "weather['wetbulb'] = weather['wetbulb'].astype(float)"
   ]
  },
  {
   "cell_type": "markdown",
   "metadata": {},
   "source": [
    "Wetbulb will be used in humidity function and after we add the humidity values, will be dropping this feature."
   ]
  },
  {
   "cell_type": "markdown",
   "metadata": {},
   "source": [
    "### Heat"
   ]
  },
  {
   "cell_type": "code",
   "execution_count": 30,
   "metadata": {},
   "outputs": [
    {
     "data": {
      "text/plain": [
       "0"
      ]
     },
     "execution_count": 30,
     "metadata": {},
     "output_type": "execute_result"
    }
   ],
   "source": [
    "heat_missing = weather['heat'].map(lambda x: x == 'M')\n",
    "heat_missing.sum()"
   ]
  },
  {
   "cell_type": "markdown",
   "metadata": {},
   "source": [
    "We will be using average temperature as "
   ]
  },
  {
   "cell_type": "code",
   "execution_count": 31,
   "metadata": {},
   "outputs": [],
   "source": [
    "weather['heat'] = weather['heat'].astype(float)"
   ]
  },
  {
   "cell_type": "markdown",
   "metadata": {},
   "source": [
    "### Cool"
   ]
  },
  {
   "cell_type": "code",
   "execution_count": 32,
   "metadata": {},
   "outputs": [
    {
     "data": {
      "text/plain": [
       "0"
      ]
     },
     "execution_count": 32,
     "metadata": {},
     "output_type": "execute_result"
    }
   ],
   "source": [
    "cool_missing = weather['cool'].map(lambda x: x == 'M')\n",
    "cool_missing.sum()"
   ]
  },
  {
   "cell_type": "code",
   "execution_count": 33,
   "metadata": {},
   "outputs": [],
   "source": [
    "weather['cool'] = weather['cool'].astype(float)"
   ]
  },
  {
   "cell_type": "markdown",
   "metadata": {},
   "source": [
    "We will use average temperature for our feature and other temperature values will be dropped."
   ]
  },
  {
   "cell_type": "code",
   "execution_count": 34,
   "metadata": {},
   "outputs": [],
   "source": [
    "weather.drop('heat', 1, inplace=True)\n",
    "weather.drop('cool', 1, inplace=True)"
   ]
  },
  {
   "cell_type": "markdown",
   "metadata": {},
   "source": [
    "### Sunrise"
   ]
  },
  {
   "cell_type": "code",
   "execution_count": 35,
   "metadata": {},
   "outputs": [
    {
     "data": {
      "text/plain": [
       "0"
      ]
     },
     "execution_count": 35,
     "metadata": {},
     "output_type": "execute_result"
    }
   ],
   "source": [
    "sunrise_missing = weather['sunrise'].map(lambda x: x == 'M')\n",
    "sunrise_missing.sum()"
   ]
  },
  {
   "cell_type": "code",
   "execution_count": 36,
   "metadata": {},
   "outputs": [
    {
     "data": {
      "text/plain": [
       "-       1460\n",
       "0416     104\n",
       "0417      64\n",
       "0419      40\n",
       "0420      32\n",
       "Name: sunrise, dtype: int64"
      ]
     },
     "execution_count": 36,
     "metadata": {},
     "output_type": "execute_result"
    }
   ],
   "source": [
    "weather['sunrise'].value_counts().head()"
   ]
  },
  {
   "cell_type": "markdown",
   "metadata": {},
   "source": [
    "### Sunset"
   ]
  },
  {
   "cell_type": "code",
   "execution_count": 37,
   "metadata": {},
   "outputs": [
    {
     "data": {
      "text/plain": [
       "0"
      ]
     },
     "execution_count": 37,
     "metadata": {},
     "output_type": "execute_result"
    }
   ],
   "source": [
    "sunset_missing = weather['sunset'].map(lambda x: x == 'M')\n",
    "sunset_missing.sum()"
   ]
  },
  {
   "cell_type": "code",
   "execution_count": 38,
   "metadata": {
    "scrolled": true
   },
   "outputs": [
    {
     "data": {
      "text/plain": [
       "-       1460\n",
       "1931      95\n",
       "1930      56\n",
       "1929      48\n",
       "1927      32\n",
       "Name: sunset, dtype: int64"
      ]
     },
     "execution_count": 38,
     "metadata": {},
     "output_type": "execute_result"
    }
   ],
   "source": [
    "weather['sunset'].value_counts().head()"
   ]
  },
  {
   "cell_type": "markdown",
   "metadata": {},
   "source": [
    "**Sunrise** and **Sunset** has too many non values so we will drop them."
   ]
  },
  {
   "cell_type": "code",
   "execution_count": 39,
   "metadata": {},
   "outputs": [],
   "source": [
    "weather.drop('sunrise', 1, inplace=True)\n",
    "weather.drop('sunset', 1, inplace=True)"
   ]
  },
  {
   "cell_type": "markdown",
   "metadata": {},
   "source": [
    "### CodeSum"
   ]
  },
  {
   "cell_type": "code",
   "execution_count": 40,
   "metadata": {},
   "outputs": [
    {
     "data": {
      "text/plain": [
       "0"
      ]
     },
     "execution_count": 40,
     "metadata": {},
     "output_type": "execute_result"
    }
   ],
   "source": [
    "codesum_missing = weather['codesum'].map(lambda x: x == 'M')\n",
    "codesum_missing.sum()"
   ]
  },
  {
   "cell_type": "code",
   "execution_count": 41,
   "metadata": {
    "scrolled": true
   },
   "outputs": [
    {
     "data": {
      "text/plain": [
       "array([' ', 'BR', 'BR HZ', 'HZ', 'RA', 'RA BR', 'TSRA RA BR', 'RA VCTS',\n",
       "       'TSRA RA', 'RA HZ', 'TSRA RA BR HZ', 'TSRA BR HZ', 'RA BR HZ VCTS',\n",
       "       'TSRA RA HZ', 'TSRA BR HZ VCTS', 'TSRA', 'TSRA BR HZ FU',\n",
       "       'TSRA RA HZ FU', 'BR HZ FU', 'TSRA RA VCTS', 'HZ VCTS', 'TSRA HZ',\n",
       "       'VCTS', 'RA BR VCTS', 'TSRA RA BR VCTS', 'TS TSRA RA BR HZ VCTS',\n",
       "       'DZ BR', 'TS TSRA RA BR HZ', 'TS TSRA BR HZ', 'RA BR HZ',\n",
       "       'TSRA RA DZ BR HZ', 'TS TSRA RA BR', 'TS RA BR', 'TS TSRA RA',\n",
       "       'TS TSRA RA BR VCTS', 'TS TSRA BR', 'TS RA', 'RA BCFG BR',\n",
       "       'TSRA BR', 'RA DZ FG+ BCFG BR', 'RA FG+ MIFG BR', 'RA DZ',\n",
       "       'RA DZ BR', 'TS TSRA RA HZ', 'TSRA RA FG+ FG BR',\n",
       "       'TSRA DZ FG+ FG BR HZ', 'TS BR', 'RA BR SQ', 'TS TSRA',\n",
       "       'TSRA RA BR HZ VCTS', 'BR VCTS', 'TS', 'FG+ BR HZ', 'RA SN',\n",
       "       'TSRA RA DZ BR', 'DZ BR HZ', 'RA BR FU', 'TS BR HZ', 'DZ',\n",
       "       'FG+ BR', 'FG+ FG BR', 'FG+ MIFG BR', 'TSRA RA FG BR',\n",
       "       'TSRA FG+ BR', 'RA DZ BR HZ', 'RA DZ SN', 'FG+ FG BR HZ',\n",
       "       'TS TSRA RA FG BR', 'BR HZ VCFG', 'TS RA FG+ FG BR',\n",
       "       'TSRA RA FG+ BR', 'RA DZ FG+ FG BR', 'TS TSRA RA VCTS', 'FU',\n",
       "       'TS TSRA VCFG', 'TS TSRA HZ', 'TS TSRA GR RA BR', 'RA FG BR',\n",
       "       'HZ FU', 'RA BR HZ FU', 'MIFG BCFG BR', 'FG+ BCFG BR',\n",
       "       'TSRA RA FG+ FG BR HZ', 'FG+', 'TSRA BR SQ', 'TSRA DZ BR HZ',\n",
       "       'RA BR HZ VCFG', 'RA FG+ BR', 'FG BR HZ', 'TS HZ',\n",
       "       'TS TSRA RA FG BR HZ', 'RA DZ FG+ BR', 'RA DZ FG+ BR HZ',\n",
       "       'TSRA FG+ BR HZ', 'RA BR VCFG', 'TS RA BR HZ', 'BCFG BR',\n",
       "       'RA SN BR'], dtype=object)"
      ]
     },
     "execution_count": 41,
     "metadata": {},
     "output_type": "execute_result"
    }
   ],
   "source": [
    "weather['codesum'].unique()"
   ]
  },
  {
   "cell_type": "markdown",
   "metadata": {},
   "source": [
    "We have decided to find continous values to define weather rather than weather description for our feature."
   ]
  },
  {
   "cell_type": "code",
   "execution_count": 42,
   "metadata": {},
   "outputs": [],
   "source": [
    "weather.drop('codesum', 1, inplace=True)"
   ]
  },
  {
   "cell_type": "markdown",
   "metadata": {},
   "source": [
    "### Depth"
   ]
  },
  {
   "cell_type": "code",
   "execution_count": 43,
   "metadata": {},
   "outputs": [
    {
     "data": {
      "text/plain": [
       "1460"
      ]
     },
     "execution_count": 43,
     "metadata": {},
     "output_type": "execute_result"
    }
   ],
   "source": [
    "depth_missing = weather['depth'].map(lambda x: x == 'M')\n",
    "depth_missing.sum()"
   ]
  },
  {
   "cell_type": "code",
   "execution_count": 44,
   "metadata": {},
   "outputs": [
    {
     "data": {
      "text/plain": [
       "0    1469\n",
       "M    1460\n",
       "Name: depth, dtype: int64"
      ]
     },
     "execution_count": 44,
     "metadata": {},
     "output_type": "execute_result"
    }
   ],
   "source": [
    "weather['depth'].value_counts()"
   ]
  },
  {
   "cell_type": "markdown",
   "metadata": {},
   "source": [
    "Since ~half of the `depth` datas are missing, we will be dropping this column"
   ]
  },
  {
   "cell_type": "code",
   "execution_count": 45,
   "metadata": {},
   "outputs": [],
   "source": [
    "weather.drop('depth', 1, inplace=True)"
   ]
  },
  {
   "cell_type": "markdown",
   "metadata": {},
   "source": [
    "### Water1"
   ]
  },
  {
   "cell_type": "code",
   "execution_count": 46,
   "metadata": {},
   "outputs": [
    {
     "data": {
      "text/plain": [
       "2929"
      ]
     },
     "execution_count": 46,
     "metadata": {},
     "output_type": "execute_result"
    }
   ],
   "source": [
    "water1_missing = weather['water1'].map(lambda val: val == 'M')\n",
    "water1_missing.sum()"
   ]
  },
  {
   "cell_type": "code",
   "execution_count": 47,
   "metadata": {},
   "outputs": [
    {
     "data": {
      "text/plain": [
       "M    2929\n",
       "Name: water1, dtype: int64"
      ]
     },
     "execution_count": 47,
     "metadata": {},
     "output_type": "execute_result"
    }
   ],
   "source": [
    "weather['water1'].value_counts()"
   ]
  },
  {
   "cell_type": "markdown",
   "metadata": {},
   "source": [
    "Since >half of the `water1` datas are missing, we will be dropping this column"
   ]
  },
  {
   "cell_type": "code",
   "execution_count": 48,
   "metadata": {},
   "outputs": [],
   "source": [
    "weather.drop('water1', 1, inplace=True)"
   ]
  },
  {
   "cell_type": "markdown",
   "metadata": {},
   "source": [
    "### SnowFall"
   ]
  },
  {
   "cell_type": "code",
   "execution_count": 49,
   "metadata": {},
   "outputs": [
    {
     "data": {
      "text/plain": [
       "1460"
      ]
     },
     "execution_count": 49,
     "metadata": {},
     "output_type": "execute_result"
    }
   ],
   "source": [
    "snowFall_missing = weather['snowfall'].map(lambda x: x == 'M')\n",
    "snowFall_missing.sum()"
   ]
  },
  {
   "cell_type": "code",
   "execution_count": 50,
   "metadata": {},
   "outputs": [
    {
     "data": {
      "text/plain": [
       "M      1460\n",
       "0.0    1456\n",
       "  T      12\n",
       "0.1       1\n",
       "Name: snowfall, dtype: int64"
      ]
     },
     "execution_count": 50,
     "metadata": {},
     "output_type": "execute_result"
    }
   ],
   "source": [
    "weather['snowfall'].value_counts()"
   ]
  },
  {
   "cell_type": "markdown",
   "metadata": {},
   "source": [
    "Doesnt make sense to keep this column with only 13 useful values. hence, drop `snowfall` feature"
   ]
  },
  {
   "cell_type": "code",
   "execution_count": 51,
   "metadata": {},
   "outputs": [],
   "source": [
    "weather.drop('snowfall', 1, inplace=True)"
   ]
  },
  {
   "cell_type": "markdown",
   "metadata": {},
   "source": [
    "### PrecipTotal"
   ]
  },
  {
   "cell_type": "code",
   "execution_count": 52,
   "metadata": {},
   "outputs": [
    {
     "data": {
      "text/plain": [
       "2"
      ]
     },
     "execution_count": 52,
     "metadata": {},
     "output_type": "execute_result"
    }
   ],
   "source": [
    "preciptotal_missing = weather['preciptotal'].map(lambda x: x == 'M')\n",
    "preciptotal_missing.sum()"
   ]
  },
  {
   "cell_type": "code",
   "execution_count": 53,
   "metadata": {},
   "outputs": [],
   "source": [
    "weather = weather[~preciptotal_missing]"
   ]
  },
  {
   "cell_type": "code",
   "execution_count": 54,
   "metadata": {},
   "outputs": [
    {
     "data": {
      "text/plain": [
       "{'0.00': 1570,\n",
       " '  T': 317,\n",
       " '0.01': 126,\n",
       " '0.02': 63,\n",
       " '0.03': 46,\n",
       " '0.04': 35,\n",
       " '0.05': 32,\n",
       " '0.08': 28,\n",
       " '0.12': 28,\n",
       " '0.06': 26,\n",
       " '0.07': 23,\n",
       " '0.16': 21,\n",
       " '0.09': 21,\n",
       " '0.11': 20,\n",
       " '0.14': 19,\n",
       " '0.17': 17,\n",
       " '0.19': 14,\n",
       " '0.18': 14,\n",
       " '0.13': 14,\n",
       " '0.28': 14,\n",
       " '0.20': 13,\n",
       " '0.15': 13,\n",
       " '0.23': 11,\n",
       " '0.25': 11,\n",
       " '0.26': 11,\n",
       " '0.10': 10,\n",
       " '0.24': 10,\n",
       " '0.43': 9,\n",
       " '0.39': 9,\n",
       " '0.29': 9,\n",
       " '0.21': 9,\n",
       " '0.40': 9,\n",
       " '0.31': 9,\n",
       " '0.32': 8,\n",
       " '0.34': 8,\n",
       " '0.30': 7,\n",
       " '0.45': 7,\n",
       " '0.41': 7,\n",
       " '0.22': 7,\n",
       " '0.59': 7,\n",
       " '0.48': 7,\n",
       " '0.50': 7,\n",
       " '0.33': 7,\n",
       " '0.37': 7,\n",
       " '0.63': 6,\n",
       " '0.27': 6,\n",
       " '0.84': 6,\n",
       " '0.65': 6,\n",
       " '0.80': 6,\n",
       " '0.36': 5,\n",
       " '0.68': 5,\n",
       " '0.93': 5,\n",
       " '0.85': 5,\n",
       " '0.44': 5,\n",
       " '0.54': 5,\n",
       " '0.92': 5,\n",
       " '0.70': 4,\n",
       " '0.58': 4,\n",
       " '0.51': 4,\n",
       " '0.72': 4,\n",
       " '0.55': 4,\n",
       " '0.64': 4,\n",
       " '1.23': 4,\n",
       " '0.89': 4,\n",
       " '0.75': 4,\n",
       " '0.52': 4,\n",
       " '0.97': 4,\n",
       " '0.66': 3,\n",
       " '1.05': 3,\n",
       " '0.88': 3,\n",
       " '0.71': 3,\n",
       " '0.74': 3,\n",
       " '1.03': 3,\n",
       " '0.47': 3,\n",
       " '0.77': 3,\n",
       " '0.82': 3,\n",
       " '0.56': 3,\n",
       " '1.31': 3,\n",
       " '0.60': 3,\n",
       " '1.01': 3,\n",
       " '0.87': 3,\n",
       " '0.42': 3,\n",
       " '0.35': 3,\n",
       " '1.55': 3,\n",
       " '0.67': 2,\n",
       " '0.38': 2,\n",
       " '1.33': 2,\n",
       " '0.69': 2,\n",
       " '0.53': 2,\n",
       " '0.49': 2,\n",
       " '0.95': 2,\n",
       " '0.78': 2,\n",
       " '0.81': 2,\n",
       " '1.29': 2,\n",
       " '0.61': 2,\n",
       " '1.43': 2,\n",
       " '1.61': 2,\n",
       " '0.83': 2,\n",
       " '0.79': 2,\n",
       " '1.12': 2,\n",
       " '1.28': 2,\n",
       " '1.02': 2,\n",
       " '1.16': 2,\n",
       " '0.86': 2,\n",
       " '1.15': 2,\n",
       " '0.57': 2,\n",
       " '0.46': 2,\n",
       " '0.73': 2,\n",
       " '1.58': 1,\n",
       " '1.60': 1,\n",
       " '1.14': 1,\n",
       " '1.57': 1,\n",
       " '2.35': 1,\n",
       " '1.07': 1,\n",
       " '0.62': 1,\n",
       " '1.30': 1,\n",
       " '3.97': 1,\n",
       " '1.19': 1,\n",
       " '0.98': 1,\n",
       " '4.73': 1,\n",
       " '1.09': 1,\n",
       " '1.21': 1,\n",
       " '3.07': 1,\n",
       " '1.24': 1,\n",
       " '1.38': 1,\n",
       " '1.18': 1,\n",
       " '1.82': 1,\n",
       " '1.96': 1,\n",
       " '2.03': 1,\n",
       " '0.76': 1,\n",
       " '2.24': 1,\n",
       " '1.34': 1,\n",
       " '3.31': 1,\n",
       " '2.20': 1,\n",
       " '3.64': 1,\n",
       " '1.49': 1,\n",
       " '1.73': 1,\n",
       " '1.90': 1,\n",
       " '2.68': 1,\n",
       " '1.22': 1,\n",
       " '0.96': 1,\n",
       " '0.91': 1,\n",
       " '1.44': 1,\n",
       " '6.64': 1,\n",
       " '2.90': 1,\n",
       " '6.86': 1,\n",
       " '1.46': 1,\n",
       " '2.09': 1,\n",
       " '2.79': 1,\n",
       " '1.75': 1,\n",
       " '3.66': 1,\n",
       " '2.17': 1,\n",
       " '1.26': 1,\n",
       " '2.43': 1,\n",
       " '2.06': 1,\n",
       " '1.88': 1,\n",
       " '1.48': 1,\n",
       " '0.90': 1,\n",
       " '1.06': 1,\n",
       " '2.60': 1,\n",
       " '1.25': 1,\n",
       " '3.17': 1,\n",
       " '3.15': 1,\n",
       " '1.35': 1,\n",
       " '2.76': 1,\n",
       " '1.11': 1,\n",
       " '1.04': 1}"
      ]
     },
     "execution_count": 54,
     "metadata": {},
     "output_type": "execute_result"
    }
   ],
   "source": [
    "weather['preciptotal'].value_counts().to_dict()"
   ]
  },
  {
   "cell_type": "code",
   "execution_count": 55,
   "metadata": {},
   "outputs": [],
   "source": [
    "#weather['preciptotal'] = weather['preciptotal'].astype(float)"
   ]
  },
  {
   "cell_type": "code",
   "execution_count": 56,
   "metadata": {},
   "outputs": [],
   "source": [
    "weather.preciptotal = weather.preciptotal.map(lambda x: x.replace('T', '0.001')).astype(float)"
   ]
  },
  {
   "cell_type": "markdown",
   "metadata": {},
   "source": [
    "### StnPressure"
   ]
  },
  {
   "cell_type": "code",
   "execution_count": 57,
   "metadata": {},
   "outputs": [
    {
     "data": {
      "text/plain": [
       "2"
      ]
     },
     "execution_count": 57,
     "metadata": {},
     "output_type": "execute_result"
    }
   ],
   "source": [
    "stnpressure_missing = weather['stnpressure'].map(lambda x: x == 'M')\n",
    "stnpressure_missing.sum()"
   ]
  },
  {
   "cell_type": "code",
   "execution_count": 58,
   "metadata": {},
   "outputs": [],
   "source": [
    "weather = weather[~stnpressure_missing]  "
   ]
  },
  {
   "cell_type": "code",
   "execution_count": 59,
   "metadata": {},
   "outputs": [],
   "source": [
    "weather['stnpressure'] = weather['stnpressure'].map(float)"
   ]
  },
  {
   "cell_type": "markdown",
   "metadata": {},
   "source": [
    "### SeaLevel"
   ]
  },
  {
   "cell_type": "code",
   "execution_count": 60,
   "metadata": {},
   "outputs": [
    {
     "data": {
      "text/plain": [
       "7"
      ]
     },
     "execution_count": 60,
     "metadata": {},
     "output_type": "execute_result"
    }
   ],
   "source": [
    "sealevel_missing = weather['sealevel'].map(lambda x: x == 'M')\n",
    "sealevel_missing.sum()"
   ]
  },
  {
   "cell_type": "code",
   "execution_count": 61,
   "metadata": {},
   "outputs": [],
   "source": [
    "weather = weather[~sealevel_missing]  "
   ]
  },
  {
   "cell_type": "code",
   "execution_count": 62,
   "metadata": {},
   "outputs": [],
   "source": [
    "weather['sealevel'] = weather['sealevel'].map(float)"
   ]
  },
  {
   "cell_type": "markdown",
   "metadata": {},
   "source": [
    "### ResultSpeed"
   ]
  },
  {
   "cell_type": "code",
   "execution_count": 63,
   "metadata": {},
   "outputs": [
    {
     "data": {
      "text/plain": [
       "0"
      ]
     },
     "execution_count": 63,
     "metadata": {},
     "output_type": "execute_result"
    }
   ],
   "source": [
    "weather.resultspeed.isnull().sum()"
   ]
  },
  {
   "cell_type": "markdown",
   "metadata": {},
   "source": [
    "### ResultDir"
   ]
  },
  {
   "cell_type": "code",
   "execution_count": 64,
   "metadata": {},
   "outputs": [
    {
     "data": {
      "text/plain": [
       "0"
      ]
     },
     "execution_count": 64,
     "metadata": {},
     "output_type": "execute_result"
    }
   ],
   "source": [
    "weather.resultdir.isnull().sum()"
   ]
  },
  {
   "cell_type": "markdown",
   "metadata": {},
   "source": [
    "### AvgSpeed"
   ]
  },
  {
   "cell_type": "code",
   "execution_count": 65,
   "metadata": {},
   "outputs": [
    {
     "data": {
      "text/plain": [
       "0"
      ]
     },
     "execution_count": 65,
     "metadata": {},
     "output_type": "execute_result"
    }
   ],
   "source": [
    "AvgSpeed_missing = weather['avgspeed'].map(lambda x: x == 'M')\n",
    "AvgSpeed_missing.sum()"
   ]
  },
  {
   "cell_type": "code",
   "execution_count": 66,
   "metadata": {},
   "outputs": [],
   "source": [
    "weather['avgspeed'] = weather['avgspeed'].map(float)"
   ]
  },
  {
   "cell_type": "code",
   "execution_count": 67,
   "metadata": {},
   "outputs": [
    {
     "data": {
      "text/html": [
       "<div>\n",
       "<style scoped>\n",
       "    .dataframe tbody tr th:only-of-type {\n",
       "        vertical-align: middle;\n",
       "    }\n",
       "\n",
       "    .dataframe tbody tr th {\n",
       "        vertical-align: top;\n",
       "    }\n",
       "\n",
       "    .dataframe thead th {\n",
       "        text-align: right;\n",
       "    }\n",
       "</style>\n",
       "<table border=\"1\" class=\"dataframe\">\n",
       "  <thead>\n",
       "    <tr style=\"text-align: right;\">\n",
       "      <th></th>\n",
       "      <th>station</th>\n",
       "      <th>date</th>\n",
       "      <th>tavg</th>\n",
       "      <th>dewpoint</th>\n",
       "      <th>wetbulb</th>\n",
       "      <th>preciptotal</th>\n",
       "      <th>stnpressure</th>\n",
       "      <th>sealevel</th>\n",
       "      <th>resultspeed</th>\n",
       "      <th>resultdir</th>\n",
       "      <th>avgspeed</th>\n",
       "    </tr>\n",
       "  </thead>\n",
       "  <tbody>\n",
       "    <tr>\n",
       "      <th>0</th>\n",
       "      <td>1</td>\n",
       "      <td>2007-05-01</td>\n",
       "      <td>67.0</td>\n",
       "      <td>51</td>\n",
       "      <td>56.0</td>\n",
       "      <td>0.0</td>\n",
       "      <td>29.10</td>\n",
       "      <td>29.82</td>\n",
       "      <td>1.7</td>\n",
       "      <td>27</td>\n",
       "      <td>9.2</td>\n",
       "    </tr>\n",
       "    <tr>\n",
       "      <th>1</th>\n",
       "      <td>2</td>\n",
       "      <td>2007-05-01</td>\n",
       "      <td>68.0</td>\n",
       "      <td>51</td>\n",
       "      <td>57.0</td>\n",
       "      <td>0.0</td>\n",
       "      <td>29.18</td>\n",
       "      <td>29.82</td>\n",
       "      <td>2.7</td>\n",
       "      <td>25</td>\n",
       "      <td>9.6</td>\n",
       "    </tr>\n",
       "    <tr>\n",
       "      <th>2</th>\n",
       "      <td>1</td>\n",
       "      <td>2007-05-02</td>\n",
       "      <td>51.0</td>\n",
       "      <td>42</td>\n",
       "      <td>47.0</td>\n",
       "      <td>0.0</td>\n",
       "      <td>29.38</td>\n",
       "      <td>30.09</td>\n",
       "      <td>13.0</td>\n",
       "      <td>4</td>\n",
       "      <td>13.4</td>\n",
       "    </tr>\n",
       "    <tr>\n",
       "      <th>3</th>\n",
       "      <td>2</td>\n",
       "      <td>2007-05-02</td>\n",
       "      <td>52.0</td>\n",
       "      <td>42</td>\n",
       "      <td>47.0</td>\n",
       "      <td>0.0</td>\n",
       "      <td>29.44</td>\n",
       "      <td>30.08</td>\n",
       "      <td>13.3</td>\n",
       "      <td>2</td>\n",
       "      <td>13.4</td>\n",
       "    </tr>\n",
       "    <tr>\n",
       "      <th>4</th>\n",
       "      <td>1</td>\n",
       "      <td>2007-05-03</td>\n",
       "      <td>56.0</td>\n",
       "      <td>40</td>\n",
       "      <td>48.0</td>\n",
       "      <td>0.0</td>\n",
       "      <td>29.39</td>\n",
       "      <td>30.12</td>\n",
       "      <td>11.7</td>\n",
       "      <td>7</td>\n",
       "      <td>11.9</td>\n",
       "    </tr>\n",
       "  </tbody>\n",
       "</table>\n",
       "</div>"
      ],
      "text/plain": [
       "   station       date  tavg  dewpoint  wetbulb  preciptotal  stnpressure  \\\n",
       "0        1 2007-05-01  67.0        51     56.0          0.0        29.10   \n",
       "1        2 2007-05-01  68.0        51     57.0          0.0        29.18   \n",
       "2        1 2007-05-02  51.0        42     47.0          0.0        29.38   \n",
       "3        2 2007-05-02  52.0        42     47.0          0.0        29.44   \n",
       "4        1 2007-05-03  56.0        40     48.0          0.0        29.39   \n",
       "\n",
       "   sealevel  resultspeed  resultdir  avgspeed  \n",
       "0     29.82          1.7         27       9.2  \n",
       "1     29.82          2.7         25       9.6  \n",
       "2     30.09         13.0          4      13.4  \n",
       "3     30.08         13.3          2      13.4  \n",
       "4     30.12         11.7          7      11.9  "
      ]
     },
     "execution_count": 67,
     "metadata": {},
     "output_type": "execute_result"
    }
   ],
   "source": [
    "weather.head()"
   ]
  },
  {
   "cell_type": "code",
   "execution_count": 68,
   "metadata": {},
   "outputs": [
    {
     "data": {
      "text/plain": [
       "0"
      ]
     },
     "execution_count": 68,
     "metadata": {},
     "output_type": "execute_result"
    }
   ],
   "source": [
    "weather.isnull().sum().sum()"
   ]
  },
  {
   "cell_type": "code",
   "execution_count": 69,
   "metadata": {},
   "outputs": [],
   "source": [
    "# weather['rel_hum'] = 100 - 5*(((weather['tavg']-32)*5/9-(weather['dewpoint']-32)*5/9))"
   ]
  },
  {
   "cell_type": "code",
   "execution_count": 70,
   "metadata": {},
   "outputs": [],
   "source": [
    "# weather.head(100)"
   ]
  },
  {
   "cell_type": "code",
   "execution_count": 71,
   "metadata": {
    "scrolled": false
   },
   "outputs": [],
   "source": [
    "# weather[weather['rel_hum']<50]"
   ]
  },
  {
   "cell_type": "code",
   "execution_count": 72,
   "metadata": {},
   "outputs": [],
   "source": [
    "# weather['rel_hum'] = 100 - 5*(((weather['tavg']-32)*5/9-(weather['dewpoint']-32)*5/9))"
   ]
  },
  {
   "cell_type": "code",
   "execution_count": 73,
   "metadata": {},
   "outputs": [
    {
     "data": {
      "text/plain": [
       "0       283.705556\n",
       "1       283.705556\n",
       "2       278.705556\n",
       "3       278.705556\n",
       "4       277.594444\n",
       "           ...    \n",
       "2939    274.261111\n",
       "2940    274.261111\n",
       "2941    274.816667\n",
       "2942    269.261111\n",
       "2943    271.483333\n",
       "Name: dewpoint, Length: 2918, dtype: float64"
      ]
     },
     "execution_count": 73,
     "metadata": {},
     "output_type": "execute_result"
    }
   ],
   "source": [
    "((weather['dewpoint']-32)*5/9)+273.15"
   ]
  },
  {
   "cell_type": "code",
   "execution_count": 74,
   "metadata": {},
   "outputs": [],
   "source": [
    "weather['vap_pressure'] = 0.611* np.exp(5243 * ((1/273.15) - (1/(((weather['dewpoint']-32)*5/9)+273.15))))"
   ]
  },
  {
   "cell_type": "code",
   "execution_count": 75,
   "metadata": {},
   "outputs": [],
   "source": [
    "weather['sat_vap_pressure'] = 0.611* np.exp(5243 * ((1/273.15) - (1/(((weather['tavg']-32)*5/9)+273.15))))"
   ]
  },
  {
   "cell_type": "code",
   "execution_count": 76,
   "metadata": {},
   "outputs": [],
   "source": [
    "weather['rel_hum'] = 100 *weather['vap_pressure']/weather['sat_vap_pressure']"
   ]
  },
  {
   "cell_type": "code",
   "execution_count": 77,
   "metadata": {},
   "outputs": [
    {
     "data": {
      "text/html": [
       "<div>\n",
       "<style scoped>\n",
       "    .dataframe tbody tr th:only-of-type {\n",
       "        vertical-align: middle;\n",
       "    }\n",
       "\n",
       "    .dataframe tbody tr th {\n",
       "        vertical-align: top;\n",
       "    }\n",
       "\n",
       "    .dataframe thead th {\n",
       "        text-align: right;\n",
       "    }\n",
       "</style>\n",
       "<table border=\"1\" class=\"dataframe\">\n",
       "  <thead>\n",
       "    <tr style=\"text-align: right;\">\n",
       "      <th></th>\n",
       "      <th>station</th>\n",
       "      <th>date</th>\n",
       "      <th>tavg</th>\n",
       "      <th>dewpoint</th>\n",
       "      <th>wetbulb</th>\n",
       "      <th>preciptotal</th>\n",
       "      <th>stnpressure</th>\n",
       "      <th>sealevel</th>\n",
       "      <th>resultspeed</th>\n",
       "      <th>resultdir</th>\n",
       "      <th>avgspeed</th>\n",
       "      <th>vap_pressure</th>\n",
       "      <th>sat_vap_pressure</th>\n",
       "      <th>rel_hum</th>\n",
       "    </tr>\n",
       "  </thead>\n",
       "  <tbody>\n",
       "    <tr>\n",
       "      <th>0</th>\n",
       "      <td>1</td>\n",
       "      <td>2007-05-01</td>\n",
       "      <td>67.0</td>\n",
       "      <td>51</td>\n",
       "      <td>56.0</td>\n",
       "      <td>0.0</td>\n",
       "      <td>29.10</td>\n",
       "      <td>29.82</td>\n",
       "      <td>1.7</td>\n",
       "      <td>27</td>\n",
       "      <td>9.2</td>\n",
       "      <td>1.247942</td>\n",
       "      <td>2.187858</td>\n",
       "      <td>57.039444</td>\n",
       "    </tr>\n",
       "    <tr>\n",
       "      <th>1</th>\n",
       "      <td>2</td>\n",
       "      <td>2007-05-01</td>\n",
       "      <td>68.0</td>\n",
       "      <td>51</td>\n",
       "      <td>57.0</td>\n",
       "      <td>0.0</td>\n",
       "      <td>29.18</td>\n",
       "      <td>29.82</td>\n",
       "      <td>2.7</td>\n",
       "      <td>25</td>\n",
       "      <td>9.6</td>\n",
       "      <td>1.247942</td>\n",
       "      <td>2.263431</td>\n",
       "      <td>55.134977</td>\n",
       "    </tr>\n",
       "    <tr>\n",
       "      <th>2</th>\n",
       "      <td>1</td>\n",
       "      <td>2007-05-02</td>\n",
       "      <td>51.0</td>\n",
       "      <td>42</td>\n",
       "      <td>47.0</td>\n",
       "      <td>0.0</td>\n",
       "      <td>29.38</td>\n",
       "      <td>30.09</td>\n",
       "      <td>13.0</td>\n",
       "      <td>4</td>\n",
       "      <td>13.4</td>\n",
       "      <td>0.895794</td>\n",
       "      <td>1.247942</td>\n",
       "      <td>71.781719</td>\n",
       "    </tr>\n",
       "    <tr>\n",
       "      <th>3</th>\n",
       "      <td>2</td>\n",
       "      <td>2007-05-02</td>\n",
       "      <td>52.0</td>\n",
       "      <td>42</td>\n",
       "      <td>47.0</td>\n",
       "      <td>0.0</td>\n",
       "      <td>29.44</td>\n",
       "      <td>30.08</td>\n",
       "      <td>13.3</td>\n",
       "      <td>2</td>\n",
       "      <td>13.4</td>\n",
       "      <td>0.895794</td>\n",
       "      <td>1.293839</td>\n",
       "      <td>69.235378</td>\n",
       "    </tr>\n",
       "    <tr>\n",
       "      <th>4</th>\n",
       "      <td>1</td>\n",
       "      <td>2007-05-03</td>\n",
       "      <td>56.0</td>\n",
       "      <td>40</td>\n",
       "      <td>48.0</td>\n",
       "      <td>0.0</td>\n",
       "      <td>29.39</td>\n",
       "      <td>30.12</td>\n",
       "      <td>11.7</td>\n",
       "      <td>7</td>\n",
       "      <td>11.9</td>\n",
       "      <td>0.830820</td>\n",
       "      <td>1.492846</td>\n",
       "      <td>55.653432</td>\n",
       "    </tr>\n",
       "  </tbody>\n",
       "</table>\n",
       "</div>"
      ],
      "text/plain": [
       "   station       date  tavg  dewpoint  wetbulb  preciptotal  stnpressure  \\\n",
       "0        1 2007-05-01  67.0        51     56.0          0.0        29.10   \n",
       "1        2 2007-05-01  68.0        51     57.0          0.0        29.18   \n",
       "2        1 2007-05-02  51.0        42     47.0          0.0        29.38   \n",
       "3        2 2007-05-02  52.0        42     47.0          0.0        29.44   \n",
       "4        1 2007-05-03  56.0        40     48.0          0.0        29.39   \n",
       "\n",
       "   sealevel  resultspeed  resultdir  avgspeed  vap_pressure  sat_vap_pressure  \\\n",
       "0     29.82          1.7         27       9.2      1.247942          2.187858   \n",
       "1     29.82          2.7         25       9.6      1.247942          2.263431   \n",
       "2     30.09         13.0          4      13.4      0.895794          1.247942   \n",
       "3     30.08         13.3          2      13.4      0.895794          1.293839   \n",
       "4     30.12         11.7          7      11.9      0.830820          1.492846   \n",
       "\n",
       "     rel_hum  \n",
       "0  57.039444  \n",
       "1  55.134977  \n",
       "2  71.781719  \n",
       "3  69.235378  \n",
       "4  55.653432  "
      ]
     },
     "execution_count": 77,
     "metadata": {},
     "output_type": "execute_result"
    }
   ],
   "source": [
    "weather.head()"
   ]
  },
  {
   "cell_type": "code",
   "execution_count": 78,
   "metadata": {},
   "outputs": [
    {
     "data": {
      "text/plain": [
       "count    2918.000000\n",
       "mean       62.787575\n",
       "std        11.235566\n",
       "min        30.751394\n",
       "25%        54.896639\n",
       "50%        62.213094\n",
       "75%        69.818044\n",
       "max       103.619896\n",
       "Name: rel_hum, dtype: float64"
      ]
     },
     "execution_count": 78,
     "metadata": {},
     "output_type": "execute_result"
    }
   ],
   "source": [
    "weather['rel_hum'].describe()"
   ]
  },
  {
   "cell_type": "code",
   "execution_count": 79,
   "metadata": {},
   "outputs": [
    {
     "data": {
      "text/html": [
       "<div>\n",
       "<style scoped>\n",
       "    .dataframe tbody tr th:only-of-type {\n",
       "        vertical-align: middle;\n",
       "    }\n",
       "\n",
       "    .dataframe tbody tr th {\n",
       "        vertical-align: top;\n",
       "    }\n",
       "\n",
       "    .dataframe thead th {\n",
       "        text-align: right;\n",
       "    }\n",
       "</style>\n",
       "<table border=\"1\" class=\"dataframe\">\n",
       "  <thead>\n",
       "    <tr style=\"text-align: right;\">\n",
       "      <th></th>\n",
       "      <th>station</th>\n",
       "      <th>date</th>\n",
       "      <th>tavg</th>\n",
       "      <th>dewpoint</th>\n",
       "      <th>wetbulb</th>\n",
       "      <th>preciptotal</th>\n",
       "      <th>stnpressure</th>\n",
       "      <th>sealevel</th>\n",
       "      <th>resultspeed</th>\n",
       "      <th>resultdir</th>\n",
       "      <th>avgspeed</th>\n",
       "      <th>vap_pressure</th>\n",
       "      <th>sat_vap_pressure</th>\n",
       "      <th>rel_hum</th>\n",
       "    </tr>\n",
       "  </thead>\n",
       "  <tbody>\n",
       "    <tr>\n",
       "      <th>2574</th>\n",
       "      <td>1</td>\n",
       "      <td>2013-10-31</td>\n",
       "      <td>55.0</td>\n",
       "      <td>56</td>\n",
       "      <td>57.0</td>\n",
       "      <td>1.04</td>\n",
       "      <td>28.69</td>\n",
       "      <td>29.45</td>\n",
       "      <td>9.4</td>\n",
       "      <td>24</td>\n",
       "      <td>11.5</td>\n",
       "      <td>1.492846</td>\n",
       "      <td>1.440694</td>\n",
       "      <td>103.619896</td>\n",
       "    </tr>\n",
       "  </tbody>\n",
       "</table>\n",
       "</div>"
      ],
      "text/plain": [
       "      station       date  tavg  dewpoint  wetbulb  preciptotal  stnpressure  \\\n",
       "2574        1 2013-10-31  55.0        56     57.0         1.04        28.69   \n",
       "\n",
       "      sealevel  resultspeed  resultdir  avgspeed  vap_pressure  \\\n",
       "2574     29.45          9.4         24      11.5      1.492846   \n",
       "\n",
       "      sat_vap_pressure     rel_hum  \n",
       "2574          1.440694  103.619896  "
      ]
     },
     "execution_count": 79,
     "metadata": {},
     "output_type": "execute_result"
    }
   ],
   "source": [
    "weather[weather['rel_hum']>100]"
   ]
  },
  {
   "cell_type": "code",
   "execution_count": 80,
   "metadata": {},
   "outputs": [
    {
     "data": {
      "text/html": [
       "<div>\n",
       "<style scoped>\n",
       "    .dataframe tbody tr th:only-of-type {\n",
       "        vertical-align: middle;\n",
       "    }\n",
       "\n",
       "    .dataframe tbody tr th {\n",
       "        vertical-align: top;\n",
       "    }\n",
       "\n",
       "    .dataframe thead th {\n",
       "        text-align: right;\n",
       "    }\n",
       "</style>\n",
       "<table border=\"1\" class=\"dataframe\">\n",
       "  <thead>\n",
       "    <tr style=\"text-align: right;\">\n",
       "      <th></th>\n",
       "      <th>station</th>\n",
       "      <th>date</th>\n",
       "      <th>tavg</th>\n",
       "      <th>dewpoint</th>\n",
       "      <th>wetbulb</th>\n",
       "      <th>preciptotal</th>\n",
       "      <th>stnpressure</th>\n",
       "      <th>sealevel</th>\n",
       "      <th>resultspeed</th>\n",
       "      <th>resultdir</th>\n",
       "      <th>avgspeed</th>\n",
       "      <th>vap_pressure</th>\n",
       "      <th>sat_vap_pressure</th>\n",
       "      <th>rel_hum</th>\n",
       "    </tr>\n",
       "  </thead>\n",
       "  <tbody>\n",
       "    <tr>\n",
       "      <th>2573</th>\n",
       "      <td>2</td>\n",
       "      <td>2013-10-30</td>\n",
       "      <td>56.0</td>\n",
       "      <td>52</td>\n",
       "      <td>53.0</td>\n",
       "      <td>1.160</td>\n",
       "      <td>29.29</td>\n",
       "      <td>30.01</td>\n",
       "      <td>5.3</td>\n",
       "      <td>14</td>\n",
       "      <td>6.2</td>\n",
       "      <td>1.293839</td>\n",
       "      <td>1.492846</td>\n",
       "      <td>86.669284</td>\n",
       "    </tr>\n",
       "    <tr>\n",
       "      <th>2574</th>\n",
       "      <td>1</td>\n",
       "      <td>2013-10-31</td>\n",
       "      <td>55.0</td>\n",
       "      <td>56</td>\n",
       "      <td>57.0</td>\n",
       "      <td>1.040</td>\n",
       "      <td>28.69</td>\n",
       "      <td>29.45</td>\n",
       "      <td>9.4</td>\n",
       "      <td>24</td>\n",
       "      <td>11.5</td>\n",
       "      <td>1.492846</td>\n",
       "      <td>1.440694</td>\n",
       "      <td>103.619896</td>\n",
       "    </tr>\n",
       "    <tr>\n",
       "      <th>2575</th>\n",
       "      <td>2</td>\n",
       "      <td>2013-10-31</td>\n",
       "      <td>56.0</td>\n",
       "      <td>56</td>\n",
       "      <td>57.0</td>\n",
       "      <td>2.030</td>\n",
       "      <td>28.77</td>\n",
       "      <td>29.47</td>\n",
       "      <td>9.5</td>\n",
       "      <td>23</td>\n",
       "      <td>11.4</td>\n",
       "      <td>1.492846</td>\n",
       "      <td>1.492846</td>\n",
       "      <td>100.000000</td>\n",
       "    </tr>\n",
       "    <tr>\n",
       "      <th>2576</th>\n",
       "      <td>1</td>\n",
       "      <td>2014-05-01</td>\n",
       "      <td>46.0</td>\n",
       "      <td>38</td>\n",
       "      <td>42.0</td>\n",
       "      <td>0.090</td>\n",
       "      <td>29.02</td>\n",
       "      <td>29.74</td>\n",
       "      <td>13.5</td>\n",
       "      <td>24</td>\n",
       "      <td>13.4</td>\n",
       "      <td>0.770092</td>\n",
       "      <td>1.039525</td>\n",
       "      <td>74.081185</td>\n",
       "    </tr>\n",
       "    <tr>\n",
       "      <th>2577</th>\n",
       "      <td>2</td>\n",
       "      <td>2014-05-01</td>\n",
       "      <td>47.0</td>\n",
       "      <td>42</td>\n",
       "      <td>44.0</td>\n",
       "      <td>0.090</td>\n",
       "      <td>29.10</td>\n",
       "      <td>29.76</td>\n",
       "      <td>14.1</td>\n",
       "      <td>24</td>\n",
       "      <td>14.0</td>\n",
       "      <td>0.895794</td>\n",
       "      <td>1.078530</td>\n",
       "      <td>83.056989</td>\n",
       "    </tr>\n",
       "    <tr>\n",
       "      <th>...</th>\n",
       "      <td>...</td>\n",
       "      <td>...</td>\n",
       "      <td>...</td>\n",
       "      <td>...</td>\n",
       "      <td>...</td>\n",
       "      <td>...</td>\n",
       "      <td>...</td>\n",
       "      <td>...</td>\n",
       "      <td>...</td>\n",
       "      <td>...</td>\n",
       "      <td>...</td>\n",
       "      <td>...</td>\n",
       "      <td>...</td>\n",
       "      <td>...</td>\n",
       "    </tr>\n",
       "    <tr>\n",
       "      <th>2939</th>\n",
       "      <td>2</td>\n",
       "      <td>2014-10-29</td>\n",
       "      <td>45.0</td>\n",
       "      <td>34</td>\n",
       "      <td>42.0</td>\n",
       "      <td>0.000</td>\n",
       "      <td>29.42</td>\n",
       "      <td>30.07</td>\n",
       "      <td>8.5</td>\n",
       "      <td>29</td>\n",
       "      <td>9.0</td>\n",
       "      <td>0.660409</td>\n",
       "      <td>1.001784</td>\n",
       "      <td>65.923300</td>\n",
       "    </tr>\n",
       "    <tr>\n",
       "      <th>2940</th>\n",
       "      <td>1</td>\n",
       "      <td>2014-10-30</td>\n",
       "      <td>42.0</td>\n",
       "      <td>34</td>\n",
       "      <td>40.0</td>\n",
       "      <td>0.000</td>\n",
       "      <td>29.34</td>\n",
       "      <td>30.09</td>\n",
       "      <td>5.1</td>\n",
       "      <td>24</td>\n",
       "      <td>5.5</td>\n",
       "      <td>0.660409</td>\n",
       "      <td>0.895794</td>\n",
       "      <td>73.723329</td>\n",
       "    </tr>\n",
       "    <tr>\n",
       "      <th>2941</th>\n",
       "      <td>2</td>\n",
       "      <td>2014-10-30</td>\n",
       "      <td>45.0</td>\n",
       "      <td>35</td>\n",
       "      <td>42.0</td>\n",
       "      <td>0.001</td>\n",
       "      <td>29.41</td>\n",
       "      <td>30.10</td>\n",
       "      <td>5.9</td>\n",
       "      <td>23</td>\n",
       "      <td>6.5</td>\n",
       "      <td>0.686431</td>\n",
       "      <td>1.001784</td>\n",
       "      <td>68.520813</td>\n",
       "    </tr>\n",
       "    <tr>\n",
       "      <th>2942</th>\n",
       "      <td>1</td>\n",
       "      <td>2014-10-31</td>\n",
       "      <td>40.0</td>\n",
       "      <td>25</td>\n",
       "      <td>33.0</td>\n",
       "      <td>0.030</td>\n",
       "      <td>29.49</td>\n",
       "      <td>30.20</td>\n",
       "      <td>22.6</td>\n",
       "      <td>34</td>\n",
       "      <td>22.9</td>\n",
       "      <td>0.463068</td>\n",
       "      <td>0.830820</td>\n",
       "      <td>55.736221</td>\n",
       "    </tr>\n",
       "    <tr>\n",
       "      <th>2943</th>\n",
       "      <td>2</td>\n",
       "      <td>2014-10-31</td>\n",
       "      <td>42.0</td>\n",
       "      <td>29</td>\n",
       "      <td>36.0</td>\n",
       "      <td>0.040</td>\n",
       "      <td>29.54</td>\n",
       "      <td>30.20</td>\n",
       "      <td>21.7</td>\n",
       "      <td>34</td>\n",
       "      <td>22.6</td>\n",
       "      <td>0.543081</td>\n",
       "      <td>0.895794</td>\n",
       "      <td>60.625694</td>\n",
       "    </tr>\n",
       "  </tbody>\n",
       "</table>\n",
       "<p>368 rows × 14 columns</p>\n",
       "</div>"
      ],
      "text/plain": [
       "      station       date  tavg  dewpoint  wetbulb  preciptotal  stnpressure  \\\n",
       "2573        2 2013-10-30  56.0        52     53.0        1.160        29.29   \n",
       "2574        1 2013-10-31  55.0        56     57.0        1.040        28.69   \n",
       "2575        2 2013-10-31  56.0        56     57.0        2.030        28.77   \n",
       "2576        1 2014-05-01  46.0        38     42.0        0.090        29.02   \n",
       "2577        2 2014-05-01  47.0        42     44.0        0.090        29.10   \n",
       "...       ...        ...   ...       ...      ...          ...          ...   \n",
       "2939        2 2014-10-29  45.0        34     42.0        0.000        29.42   \n",
       "2940        1 2014-10-30  42.0        34     40.0        0.000        29.34   \n",
       "2941        2 2014-10-30  45.0        35     42.0        0.001        29.41   \n",
       "2942        1 2014-10-31  40.0        25     33.0        0.030        29.49   \n",
       "2943        2 2014-10-31  42.0        29     36.0        0.040        29.54   \n",
       "\n",
       "      sealevel  resultspeed  resultdir  avgspeed  vap_pressure  \\\n",
       "2573     30.01          5.3         14       6.2      1.293839   \n",
       "2574     29.45          9.4         24      11.5      1.492846   \n",
       "2575     29.47          9.5         23      11.4      1.492846   \n",
       "2576     29.74         13.5         24      13.4      0.770092   \n",
       "2577     29.76         14.1         24      14.0      0.895794   \n",
       "...        ...          ...        ...       ...           ...   \n",
       "2939     30.07          8.5         29       9.0      0.660409   \n",
       "2940     30.09          5.1         24       5.5      0.660409   \n",
       "2941     30.10          5.9         23       6.5      0.686431   \n",
       "2942     30.20         22.6         34      22.9      0.463068   \n",
       "2943     30.20         21.7         34      22.6      0.543081   \n",
       "\n",
       "      sat_vap_pressure     rel_hum  \n",
       "2573          1.492846   86.669284  \n",
       "2574          1.440694  103.619896  \n",
       "2575          1.492846  100.000000  \n",
       "2576          1.039525   74.081185  \n",
       "2577          1.078530   83.056989  \n",
       "...                ...         ...  \n",
       "2939          1.001784   65.923300  \n",
       "2940          0.895794   73.723329  \n",
       "2941          1.001784   68.520813  \n",
       "2942          0.830820   55.736221  \n",
       "2943          0.895794   60.625694  \n",
       "\n",
       "[368 rows x 14 columns]"
      ]
     },
     "execution_count": 80,
     "metadata": {},
     "output_type": "execute_result"
    }
   ],
   "source": [
    "weather[2550:]"
   ]
  },
  {
   "cell_type": "code",
   "execution_count": 81,
   "metadata": {},
   "outputs": [
    {
     "name": "stdout",
     "output_type": "stream",
     "text": [
      "None\n"
     ]
    }
   ],
   "source": [
    "rel_hum = weather['rel_hum']\n",
    "print(list(rel_hum).sort(reverse=True))"
   ]
  },
  {
   "cell_type": "code",
   "execution_count": 93,
   "metadata": {
    "scrolled": true
   },
   "outputs": [],
   "source": [
    "weather=weather.reset_index()"
   ]
  },
  {
   "cell_type": "code",
   "execution_count": 94,
   "metadata": {},
   "outputs": [
    {
     "data": {
      "text/html": [
       "<div>\n",
       "<style scoped>\n",
       "    .dataframe tbody tr th:only-of-type {\n",
       "        vertical-align: middle;\n",
       "    }\n",
       "\n",
       "    .dataframe tbody tr th {\n",
       "        vertical-align: top;\n",
       "    }\n",
       "\n",
       "    .dataframe thead th {\n",
       "        text-align: right;\n",
       "    }\n",
       "</style>\n",
       "<table border=\"1\" class=\"dataframe\">\n",
       "  <thead>\n",
       "    <tr style=\"text-align: right;\">\n",
       "      <th></th>\n",
       "      <th>index</th>\n",
       "      <th>station</th>\n",
       "      <th>date</th>\n",
       "      <th>tavg</th>\n",
       "      <th>preciptotal</th>\n",
       "      <th>stnpressure</th>\n",
       "      <th>sealevel</th>\n",
       "      <th>resultspeed</th>\n",
       "      <th>resultdir</th>\n",
       "      <th>avgspeed</th>\n",
       "      <th>vap_pressure</th>\n",
       "      <th>sat_vap_pressure</th>\n",
       "      <th>rel_hum</th>\n",
       "    </tr>\n",
       "  </thead>\n",
       "  <tbody>\n",
       "    <tr>\n",
       "      <th>0</th>\n",
       "      <td>0</td>\n",
       "      <td>1</td>\n",
       "      <td>2007-05-01</td>\n",
       "      <td>67.0</td>\n",
       "      <td>0.000</td>\n",
       "      <td>29.10</td>\n",
       "      <td>29.82</td>\n",
       "      <td>1.7</td>\n",
       "      <td>27</td>\n",
       "      <td>9.2</td>\n",
       "      <td>1.247942</td>\n",
       "      <td>2.187858</td>\n",
       "      <td>57.039444</td>\n",
       "    </tr>\n",
       "    <tr>\n",
       "      <th>1</th>\n",
       "      <td>1</td>\n",
       "      <td>2</td>\n",
       "      <td>2007-05-01</td>\n",
       "      <td>68.0</td>\n",
       "      <td>0.000</td>\n",
       "      <td>29.18</td>\n",
       "      <td>29.82</td>\n",
       "      <td>2.7</td>\n",
       "      <td>25</td>\n",
       "      <td>9.6</td>\n",
       "      <td>1.247942</td>\n",
       "      <td>2.263431</td>\n",
       "      <td>55.134977</td>\n",
       "    </tr>\n",
       "    <tr>\n",
       "      <th>2</th>\n",
       "      <td>2</td>\n",
       "      <td>1</td>\n",
       "      <td>2007-05-02</td>\n",
       "      <td>51.0</td>\n",
       "      <td>0.000</td>\n",
       "      <td>29.38</td>\n",
       "      <td>30.09</td>\n",
       "      <td>13.0</td>\n",
       "      <td>4</td>\n",
       "      <td>13.4</td>\n",
       "      <td>0.895794</td>\n",
       "      <td>1.247942</td>\n",
       "      <td>71.781719</td>\n",
       "    </tr>\n",
       "    <tr>\n",
       "      <th>3</th>\n",
       "      <td>3</td>\n",
       "      <td>2</td>\n",
       "      <td>2007-05-02</td>\n",
       "      <td>52.0</td>\n",
       "      <td>0.000</td>\n",
       "      <td>29.44</td>\n",
       "      <td>30.08</td>\n",
       "      <td>13.3</td>\n",
       "      <td>2</td>\n",
       "      <td>13.4</td>\n",
       "      <td>0.895794</td>\n",
       "      <td>1.293839</td>\n",
       "      <td>69.235378</td>\n",
       "    </tr>\n",
       "    <tr>\n",
       "      <th>4</th>\n",
       "      <td>4</td>\n",
       "      <td>1</td>\n",
       "      <td>2007-05-03</td>\n",
       "      <td>56.0</td>\n",
       "      <td>0.000</td>\n",
       "      <td>29.39</td>\n",
       "      <td>30.12</td>\n",
       "      <td>11.7</td>\n",
       "      <td>7</td>\n",
       "      <td>11.9</td>\n",
       "      <td>0.830820</td>\n",
       "      <td>1.492846</td>\n",
       "      <td>55.653432</td>\n",
       "    </tr>\n",
       "    <tr>\n",
       "      <th>5</th>\n",
       "      <td>5</td>\n",
       "      <td>2</td>\n",
       "      <td>2007-05-03</td>\n",
       "      <td>58.0</td>\n",
       "      <td>0.000</td>\n",
       "      <td>29.46</td>\n",
       "      <td>30.12</td>\n",
       "      <td>12.9</td>\n",
       "      <td>6</td>\n",
       "      <td>13.2</td>\n",
       "      <td>0.830820</td>\n",
       "      <td>1.602220</td>\n",
       "      <td>51.854284</td>\n",
       "    </tr>\n",
       "    <tr>\n",
       "      <th>6</th>\n",
       "      <td>6</td>\n",
       "      <td>1</td>\n",
       "      <td>2007-05-04</td>\n",
       "      <td>58.0</td>\n",
       "      <td>0.001</td>\n",
       "      <td>29.31</td>\n",
       "      <td>30.05</td>\n",
       "      <td>10.4</td>\n",
       "      <td>8</td>\n",
       "      <td>10.8</td>\n",
       "      <td>0.862760</td>\n",
       "      <td>1.602220</td>\n",
       "      <td>53.847799</td>\n",
       "    </tr>\n",
       "    <tr>\n",
       "      <th>7</th>\n",
       "      <td>8</td>\n",
       "      <td>1</td>\n",
       "      <td>2007-05-05</td>\n",
       "      <td>60.0</td>\n",
       "      <td>0.001</td>\n",
       "      <td>29.40</td>\n",
       "      <td>30.10</td>\n",
       "      <td>11.7</td>\n",
       "      <td>7</td>\n",
       "      <td>12.0</td>\n",
       "      <td>0.770092</td>\n",
       "      <td>1.718673</td>\n",
       "      <td>44.807379</td>\n",
       "    </tr>\n",
       "    <tr>\n",
       "      <th>8</th>\n",
       "      <td>9</td>\n",
       "      <td>2</td>\n",
       "      <td>2007-05-05</td>\n",
       "      <td>60.0</td>\n",
       "      <td>0.001</td>\n",
       "      <td>29.46</td>\n",
       "      <td>30.09</td>\n",
       "      <td>11.2</td>\n",
       "      <td>7</td>\n",
       "      <td>11.5</td>\n",
       "      <td>0.799941</td>\n",
       "      <td>1.718673</td>\n",
       "      <td>46.544103</td>\n",
       "    </tr>\n",
       "    <tr>\n",
       "      <th>9</th>\n",
       "      <td>10</td>\n",
       "      <td>1</td>\n",
       "      <td>2007-05-06</td>\n",
       "      <td>59.0</td>\n",
       "      <td>0.000</td>\n",
       "      <td>29.57</td>\n",
       "      <td>30.29</td>\n",
       "      <td>14.4</td>\n",
       "      <td>11</td>\n",
       "      <td>15.0</td>\n",
       "      <td>0.564928</td>\n",
       "      <td>1.659538</td>\n",
       "      <td>34.041310</td>\n",
       "    </tr>\n",
       "  </tbody>\n",
       "</table>\n",
       "</div>"
      ],
      "text/plain": [
       "   index  station       date  tavg  preciptotal  stnpressure  sealevel  \\\n",
       "0      0        1 2007-05-01  67.0        0.000        29.10     29.82   \n",
       "1      1        2 2007-05-01  68.0        0.000        29.18     29.82   \n",
       "2      2        1 2007-05-02  51.0        0.000        29.38     30.09   \n",
       "3      3        2 2007-05-02  52.0        0.000        29.44     30.08   \n",
       "4      4        1 2007-05-03  56.0        0.000        29.39     30.12   \n",
       "5      5        2 2007-05-03  58.0        0.000        29.46     30.12   \n",
       "6      6        1 2007-05-04  58.0        0.001        29.31     30.05   \n",
       "7      8        1 2007-05-05  60.0        0.001        29.40     30.10   \n",
       "8      9        2 2007-05-05  60.0        0.001        29.46     30.09   \n",
       "9     10        1 2007-05-06  59.0        0.000        29.57     30.29   \n",
       "\n",
       "   resultspeed  resultdir  avgspeed  vap_pressure  sat_vap_pressure    rel_hum  \n",
       "0          1.7         27       9.2      1.247942          2.187858  57.039444  \n",
       "1          2.7         25       9.6      1.247942          2.263431  55.134977  \n",
       "2         13.0          4      13.4      0.895794          1.247942  71.781719  \n",
       "3         13.3          2      13.4      0.895794          1.293839  69.235378  \n",
       "4         11.7          7      11.9      0.830820          1.492846  55.653432  \n",
       "5         12.9          6      13.2      0.830820          1.602220  51.854284  \n",
       "6         10.4          8      10.8      0.862760          1.602220  53.847799  \n",
       "7         11.7          7      12.0      0.770092          1.718673  44.807379  \n",
       "8         11.2          7      11.5      0.799941          1.718673  46.544103  \n",
       "9         14.4         11      15.0      0.564928          1.659538  34.041310  "
      ]
     },
     "execution_count": 94,
     "metadata": {},
     "output_type": "execute_result"
    }
   ],
   "source": [
    "weather.head(10)"
   ]
  },
  {
   "cell_type": "code",
   "execution_count": 82,
   "metadata": {},
   "outputs": [],
   "source": [
    "weather.drop('dewpoint', 1, inplace=True)\n",
    "weather.drop('wetbulb', 1, inplace=True)"
   ]
  },
  {
   "cell_type": "markdown",
   "metadata": {},
   "source": [
    "## Adding in station location"
   ]
  },
  {
   "cell_type": "code",
   "execution_count": 96,
   "metadata": {},
   "outputs": [],
   "source": [
    "lat=[]\n",
    "lon=[]\n",
    "for i in range(len(weather['station'])):\n",
    "    if weather['station'][i]==1:\n",
    "        lat.append(41.995)\n",
    "        lon.append(-87.933)\n",
    "    else:\n",
    "        lat.append(41.786)\n",
    "        lon.append(-87.752)\n",
    "#Midpoint=41.8905\n",
    "weather['latitude']=lat\n",
    "weather['longitude']=lon"
   ]
  },
  {
   "cell_type": "code",
   "execution_count": 97,
   "metadata": {
    "scrolled": false
   },
   "outputs": [
    {
     "data": {
      "text/html": [
       "<div>\n",
       "<style scoped>\n",
       "    .dataframe tbody tr th:only-of-type {\n",
       "        vertical-align: middle;\n",
       "    }\n",
       "\n",
       "    .dataframe tbody tr th {\n",
       "        vertical-align: top;\n",
       "    }\n",
       "\n",
       "    .dataframe thead th {\n",
       "        text-align: right;\n",
       "    }\n",
       "</style>\n",
       "<table border=\"1\" class=\"dataframe\">\n",
       "  <thead>\n",
       "    <tr style=\"text-align: right;\">\n",
       "      <th></th>\n",
       "      <th>0</th>\n",
       "      <th>1</th>\n",
       "      <th>2</th>\n",
       "      <th>3</th>\n",
       "      <th>4</th>\n",
       "    </tr>\n",
       "  </thead>\n",
       "  <tbody>\n",
       "    <tr>\n",
       "      <th>index</th>\n",
       "      <td>0</td>\n",
       "      <td>1</td>\n",
       "      <td>2</td>\n",
       "      <td>3</td>\n",
       "      <td>4</td>\n",
       "    </tr>\n",
       "    <tr>\n",
       "      <th>station</th>\n",
       "      <td>1</td>\n",
       "      <td>2</td>\n",
       "      <td>1</td>\n",
       "      <td>2</td>\n",
       "      <td>1</td>\n",
       "    </tr>\n",
       "    <tr>\n",
       "      <th>date</th>\n",
       "      <td>2007-05-01 00:00:00</td>\n",
       "      <td>2007-05-01 00:00:00</td>\n",
       "      <td>2007-05-02 00:00:00</td>\n",
       "      <td>2007-05-02 00:00:00</td>\n",
       "      <td>2007-05-03 00:00:00</td>\n",
       "    </tr>\n",
       "    <tr>\n",
       "      <th>tavg</th>\n",
       "      <td>67</td>\n",
       "      <td>68</td>\n",
       "      <td>51</td>\n",
       "      <td>52</td>\n",
       "      <td>56</td>\n",
       "    </tr>\n",
       "    <tr>\n",
       "      <th>preciptotal</th>\n",
       "      <td>0</td>\n",
       "      <td>0</td>\n",
       "      <td>0</td>\n",
       "      <td>0</td>\n",
       "      <td>0</td>\n",
       "    </tr>\n",
       "    <tr>\n",
       "      <th>stnpressure</th>\n",
       "      <td>29.1</td>\n",
       "      <td>29.18</td>\n",
       "      <td>29.38</td>\n",
       "      <td>29.44</td>\n",
       "      <td>29.39</td>\n",
       "    </tr>\n",
       "    <tr>\n",
       "      <th>sealevel</th>\n",
       "      <td>29.82</td>\n",
       "      <td>29.82</td>\n",
       "      <td>30.09</td>\n",
       "      <td>30.08</td>\n",
       "      <td>30.12</td>\n",
       "    </tr>\n",
       "    <tr>\n",
       "      <th>resultspeed</th>\n",
       "      <td>1.7</td>\n",
       "      <td>2.7</td>\n",
       "      <td>13</td>\n",
       "      <td>13.3</td>\n",
       "      <td>11.7</td>\n",
       "    </tr>\n",
       "    <tr>\n",
       "      <th>resultdir</th>\n",
       "      <td>27</td>\n",
       "      <td>25</td>\n",
       "      <td>4</td>\n",
       "      <td>2</td>\n",
       "      <td>7</td>\n",
       "    </tr>\n",
       "    <tr>\n",
       "      <th>avgspeed</th>\n",
       "      <td>9.2</td>\n",
       "      <td>9.6</td>\n",
       "      <td>13.4</td>\n",
       "      <td>13.4</td>\n",
       "      <td>11.9</td>\n",
       "    </tr>\n",
       "    <tr>\n",
       "      <th>vap_pressure</th>\n",
       "      <td>1.24794</td>\n",
       "      <td>1.24794</td>\n",
       "      <td>0.895794</td>\n",
       "      <td>0.895794</td>\n",
       "      <td>0.83082</td>\n",
       "    </tr>\n",
       "    <tr>\n",
       "      <th>sat_vap_pressure</th>\n",
       "      <td>2.18786</td>\n",
       "      <td>2.26343</td>\n",
       "      <td>1.24794</td>\n",
       "      <td>1.29384</td>\n",
       "      <td>1.49285</td>\n",
       "    </tr>\n",
       "    <tr>\n",
       "      <th>rel_hum</th>\n",
       "      <td>57.0394</td>\n",
       "      <td>55.135</td>\n",
       "      <td>71.7817</td>\n",
       "      <td>69.2354</td>\n",
       "      <td>55.6534</td>\n",
       "    </tr>\n",
       "    <tr>\n",
       "      <th>latitude</th>\n",
       "      <td>41.995</td>\n",
       "      <td>41.786</td>\n",
       "      <td>41.995</td>\n",
       "      <td>41.786</td>\n",
       "      <td>41.995</td>\n",
       "    </tr>\n",
       "    <tr>\n",
       "      <th>longitude</th>\n",
       "      <td>-87.933</td>\n",
       "      <td>-87.752</td>\n",
       "      <td>-87.933</td>\n",
       "      <td>-87.752</td>\n",
       "      <td>-87.933</td>\n",
       "    </tr>\n",
       "  </tbody>\n",
       "</table>\n",
       "</div>"
      ],
      "text/plain": [
       "                                    0                    1  \\\n",
       "index                               0                    1   \n",
       "station                             1                    2   \n",
       "date              2007-05-01 00:00:00  2007-05-01 00:00:00   \n",
       "tavg                               67                   68   \n",
       "preciptotal                         0                    0   \n",
       "stnpressure                      29.1                29.18   \n",
       "sealevel                        29.82                29.82   \n",
       "resultspeed                       1.7                  2.7   \n",
       "resultdir                          27                   25   \n",
       "avgspeed                          9.2                  9.6   \n",
       "vap_pressure                  1.24794              1.24794   \n",
       "sat_vap_pressure              2.18786              2.26343   \n",
       "rel_hum                       57.0394               55.135   \n",
       "latitude                       41.995               41.786   \n",
       "longitude                     -87.933              -87.752   \n",
       "\n",
       "                                    2                    3  \\\n",
       "index                               2                    3   \n",
       "station                             1                    2   \n",
       "date              2007-05-02 00:00:00  2007-05-02 00:00:00   \n",
       "tavg                               51                   52   \n",
       "preciptotal                         0                    0   \n",
       "stnpressure                     29.38                29.44   \n",
       "sealevel                        30.09                30.08   \n",
       "resultspeed                        13                 13.3   \n",
       "resultdir                           4                    2   \n",
       "avgspeed                         13.4                 13.4   \n",
       "vap_pressure                 0.895794             0.895794   \n",
       "sat_vap_pressure              1.24794              1.29384   \n",
       "rel_hum                       71.7817              69.2354   \n",
       "latitude                       41.995               41.786   \n",
       "longitude                     -87.933              -87.752   \n",
       "\n",
       "                                    4  \n",
       "index                               4  \n",
       "station                             1  \n",
       "date              2007-05-03 00:00:00  \n",
       "tavg                               56  \n",
       "preciptotal                         0  \n",
       "stnpressure                     29.39  \n",
       "sealevel                        30.12  \n",
       "resultspeed                      11.7  \n",
       "resultdir                           7  \n",
       "avgspeed                         11.9  \n",
       "vap_pressure                  0.83082  \n",
       "sat_vap_pressure              1.49285  \n",
       "rel_hum                       55.6534  \n",
       "latitude                       41.995  \n",
       "longitude                     -87.933  "
      ]
     },
     "execution_count": 97,
     "metadata": {},
     "output_type": "execute_result"
    }
   ],
   "source": [
    "weather.head().T"
   ]
  },
  {
   "cell_type": "code",
   "execution_count": 102,
   "metadata": {},
   "outputs": [],
   "source": [
    "pd.DataFrame(weather).to_csv('../datasets/weather_clean.csv', index = False)"
   ]
  },
  {
   "cell_type": "markdown",
   "metadata": {},
   "source": [
    "## Visualising Weather Data"
   ]
  },
  {
   "cell_type": "code",
   "execution_count": 85,
   "metadata": {
    "scrolled": true
   },
   "outputs": [
    {
     "data": {
      "text/plain": [
       "2010    368\n",
       "2012    366\n",
       "2008    366\n",
       "2009    365\n",
       "2014    365\n",
       "2011    364\n",
       "2007    364\n",
       "2013    360\n",
       "Name: date, dtype: int64"
      ]
     },
     "execution_count": 85,
     "metadata": {},
     "output_type": "execute_result"
    }
   ],
   "source": [
    "weather['date'].dt.year.value_counts()"
   ]
  },
  {
   "cell_type": "code",
   "execution_count": 99,
   "metadata": {},
   "outputs": [],
   "source": [
    "y2007=weather[weather['date'].dt.year==2007]\n",
    "y2008=weather[weather['date'].dt.year==2008]\n",
    "y2009=weather[weather['date'].dt.year==2009]\n",
    "y2010=weather[weather['date'].dt.year==2010]\n",
    "y2011=weather[weather['date'].dt.year==2011]\n",
    "y2012=weather[weather['date'].dt.year==2012]\n",
    "y2013=weather[weather['date'].dt.year==2013]\n",
    "y2014=weather[weather['date'].dt.year==2014]\n",
    "\n",
    "\n"
   ]
  },
  {
   "cell_type": "code",
   "execution_count": 109,
   "metadata": {},
   "outputs": [
    {
     "data": {
      "text/plain": [
       "0       5\n",
       "1       5\n",
       "2       5\n",
       "3       5\n",
       "4       5\n",
       "       ..\n",
       "359    10\n",
       "360    10\n",
       "361    10\n",
       "362    10\n",
       "363    10\n",
       "Name: date, Length: 364, dtype: int64"
      ]
     },
     "execution_count": 109,
     "metadata": {},
     "output_type": "execute_result"
    }
   ],
   "source": [
    "y2007['date'].dt.month"
   ]
  },
  {
   "cell_type": "code",
   "execution_count": 144,
   "metadata": {},
   "outputs": [
    {
     "data": {
      "image/png": "[encoded data removed]",
      "text/plain": [
       "<Figure size 1440x720 with 1 Axes>"
      ]
     },
     "metadata": {
      "needs_background": "light"
     },
     "output_type": "display_data"
    }
   ],
   "source": [
    "plt.figure(figsize=(20, 10))\n",
    "ax_part = sns.boxplot(y='tavg',x=weather['date'].dt.month,hue=weather['date'].dt.year,data=weather)  # RUN PLOT \n",
    " \n",
    "\n",
    "plt.title(\"AVG TEMP\",fontsize=15)\n",
    "plt.show()"
   ]
  },
  {
   "cell_type": "code",
   "execution_count": 134,
   "metadata": {
    "scrolled": false
   },
   "outputs": [
    {
     "data": {
      "image/png": "[encoded data removed]",
      "text/plain": [
       "<Figure size 720x720 with 1 Axes>"
      ]
     },
     "metadata": {
      "needs_background": "light"
     },
     "output_type": "display_data"
    }
   ],
   "source": [
    "plt.figure(figsize=(10, 10))\n",
    "ax_part = sns.lineplot(y='tavg',x=y2007['date'].dt.month,data=weather, label='2007')  # RUN PLOT \n",
    "ax_part = sns.lineplot(y='tavg',x=y2008['date'].dt.month,data=weather, label='2008') \n",
    "ax_part = sns.lineplot(y='tavg',x=y2009['date'].dt.month,data=weather, label='2009')  \n",
    "ax_part = sns.lineplot(y='tavg',x=y2010['date'].dt.month,data=weather, label='2010')  \n",
    "ax_part = sns.lineplot(y='tavg',x=y2011['date'].dt.month,data=weather, label='2011')  \n",
    "ax_part = sns.lineplot(y='tavg',x=y2012['date'].dt.month,data=weather, label='2012')  \n",
    "ax_part = sns.lineplot(y='tavg',x=y2013['date'].dt.month,data=weather, label='2013')  \n",
    "ax_part = sns.lineplot(y='tavg',x=y2014['date'].dt.month,data=weather, label='2014')  \n",
    "plt.title(\"AVG TEMP\",fontsize=15)\n",
    "plt.show()"
   ]
  },
  {
   "cell_type": "code",
   "execution_count": 145,
   "metadata": {},
   "outputs": [
    {
     "data": {
      "image/png": "[encoded data removed]",
      "text/plain": [
       "<Figure size 1440x720 with 1 Axes>"
      ]
     },
     "metadata": {
      "needs_background": "light"
     },
     "output_type": "display_data"
    }
   ],
   "source": [
    "plt.figure(figsize=(20, 10))\n",
    "ax_part = sns.boxplot(y='rel_hum',x=weather['date'].dt.month,hue=weather['date'].dt.year,data=weather)  # RUN PLOT \n",
    " \n",
    "\n",
    "plt.title(\"AVG TEMP\",fontsize=15)\n",
    "plt.show()"
   ]
  },
  {
   "cell_type": "code",
   "execution_count": 137,
   "metadata": {},
   "outputs": [
    {
     "data": {
      "image/png": "[encoded data removed]",
      "text/plain": [
       "<Figure size 720x720 with 1 Axes>"
      ]
     },
     "metadata": {
      "needs_background": "light"
     },
     "output_type": "display_data"
    }
   ],
   "source": [
    "plt.figure(figsize=(10, 10))\n",
    "ax_part = sns.lineplot(y='rel_hum',x=y2007['date'].dt.month,data=weather, label='2007')  # RUN PLOT \n",
    "ax_part = sns.lineplot(y='rel_hum',x=y2008['date'].dt.month,data=weather, label='2008') \n",
    "ax_part = sns.lineplot(y='rel_hum',x=y2009['date'].dt.month,data=weather, label='2009')  \n",
    "ax_part = sns.lineplot(y='rel_hum',x=y2010['date'].dt.month,data=weather, label='2010')  \n",
    "ax_part = sns.lineplot(y='rel_hum',x=y2011['date'].dt.month,data=weather, label='2011')  \n",
    "ax_part = sns.lineplot(y='rel_hum',x=y2012['date'].dt.month,data=weather, label='2012')  \n",
    "ax_part = sns.lineplot(y='rel_hum',x=y2013['date'].dt.month,data=weather, label='2013')  \n",
    "ax_part = sns.lineplot(y='rel_hum',x=y2014['date'].dt.month,data=weather, label='2014')  \n",
    "plt.title(\"AVG TEMP\",fontsize=15)\n",
    "plt.show()"
   ]
  },
  {
   "cell_type": "code",
   "execution_count": null,
   "metadata": {},
   "outputs": [],
   "source": []
  }
 ],
 "metadata": {
  "kernelspec": {
   "display_name": "Python 3",
   "language": "python",
   "name": "python3"
  },
  "language_info": {
   "codemirror_mode": {
    "name": "ipython",
    "version": 3
   },
   "file_extension": ".py",
   "mimetype": "text/x-python",
   "name": "python",
   "nbconvert_exporter": "python",
   "pygments_lexer": "ipython3",
   "version": "3.7.5"
  }
 },
 "nbformat": 4,
 "nbformat_minor": 2
}
